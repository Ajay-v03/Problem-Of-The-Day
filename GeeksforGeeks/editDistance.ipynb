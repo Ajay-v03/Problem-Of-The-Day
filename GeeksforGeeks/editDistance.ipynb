{
 "cells": [
  {
   "cell_type": "markdown",
   "metadata": {},
   "source": [
    "Edit Distance"
   ]
  },
  {
   "cell_type": "code",
   "execution_count": null,
   "metadata": {},
   "outputs": [],
   "source": [
    "'''\n",
    "Given two strings str1 and str2. Return the minimum number of operations required to convert str1 to str2.\n",
    "The possible operations are permitted:\n",
    "\n",
    "Insert a character at any position of the string.\n",
    "Remove any character from the string.\n",
    "Replace any character from the string with any other character.\n",
    "Examples:\n",
    "\n",
    "Input: str1 = \"geek\", srt2 = \"gesek\"\n",
    "Output: 1\n",
    "Explanation: One operation is required, inserting 's' between two 'e'.\n",
    "Input : str1 = \"gfg\", str2 = \"gfg\"\n",
    "Output: 0\n",
    "Explanation: Both strings are same.\n",
    "Expected Time Complexity: O(|str1|*|str2|)\n",
    "Expected Space Complexity: O(|str1|*|str2|)\n",
    "\n",
    "Constraints:\n",
    "1 ≤ str1.length(), str2.length() ≤ 100\n",
    "Both the strings are in lowercase.\n",
    "\n",
    "'''"
   ]
  },
  {
   "cell_type": "code",
   "execution_count": 1,
   "metadata": {},
   "outputs": [],
   "source": [
    "class Solution:\n",
    "    def editDistance(self, str1, str3):\n",
    "        N , M = len(str1),len(str3)\n",
    "        dp = [[0]*(M+1) for _ in range(N+1)]\n",
    "        for i in range(N+1):\n",
    "            for j in range(M+1):\n",
    "                if i==0 or j==0:\n",
    "                    dp[i][j]= i+j\n",
    "                else:\n",
    "                    if str1[i-1] == str3[j-1]:\n",
    "                        dp[i][j]=dp[i-1][j-1]\n",
    "                    else:\n",
    "                        dp[i][j]= 1 + min(dp[i-1][j],dp[i][j-1],dp[i-1][j-1])\n",
    "        return dp[N][M]"
   ]
  },
  {
   "cell_type": "code",
   "execution_count": 4,
   "metadata": {},
   "outputs": [
    {
     "name": "stdout",
     "output_type": "stream",
     "text": [
      "1\n"
     ]
    }
   ],
   "source": [
    "# Create an instance of the Solution class\n",
    "solution = Solution()\n",
    "\n",
    "# Call the method on the instance\n",
    "result = solution.editDistance(str1 = \"geek\", str3 = \"gesek\")\n",
    "print(result)"
   ]
  }
 ],
 "metadata": {
  "kernelspec": {
   "display_name": "Python 3",
   "language": "python",
   "name": "python3"
  },
  "language_info": {
   "codemirror_mode": {
    "name": "ipython",
    "version": 3
   },
   "file_extension": ".py",
   "mimetype": "text/x-python",
   "name": "python",
   "nbconvert_exporter": "python",
   "pygments_lexer": "ipython3",
   "version": "3.12.3"
  }
 },
 "nbformat": 4,
 "nbformat_minor": 2
}
