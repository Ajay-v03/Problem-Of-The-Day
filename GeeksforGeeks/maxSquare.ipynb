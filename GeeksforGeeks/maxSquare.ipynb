{
 "cells": [
  {
   "cell_type": "markdown",
   "metadata": {},
   "source": [
    "Largest square formed in a matrix"
   ]
  },
  {
   "cell_type": "code",
   "execution_count": null,
   "metadata": {},
   "outputs": [],
   "source": [
    "'''\n",
    "Given a binary matrix mat of size n * m, find out the maximum length of a side of a square sub-matrix with all 1s.\n",
    "\n",
    "Examples:\n",
    "\n",
    "Input: n = 6, m = 5\n",
    "mat = [[0, 1, 1, 0, 1], \n",
    "       [1, 1, 0, 1, 0],\n",
    "       [0, 1, 1, 1, 0],\n",
    "       [1, 1, 1, 1, 0],\n",
    "       [1, 1, 1, 1, 1],\n",
    "       [0, 0, 0, 0, 0]]\n",
    "Output: 3\n",
    "Explanation: \n",
    "\n",
    "The maximum length of a side of the square sub-matrix is 3 where every element is 1.\n",
    "Input: n = 2, m = 2\n",
    "mat = [[1, 1], \n",
    "       [1, 1]]\n",
    "Output: 2\n",
    "Explanation: The maximum length of a side of the square sub-matrix is 2. The matrix itself is the maximum sized sub-matrix in this case.\n",
    "Input: n = 2, m = 2\n",
    "mat = [[0, 0], \n",
    "       [0, 0]]\n",
    "Output: 0\n",
    "Explanation: There is no 1 in the matrix.\n",
    "Expected Time Complexity: O(n*m)\n",
    "Expected Auxiliary Space: O(n*m)\n",
    "\n",
    "Constraints:\n",
    "1 ≤ n, m ≤ 500\n",
    "0 ≤ mat[i][j] ≤ 1 \n",
    "\n",
    "'''"
   ]
  },
  {
   "cell_type": "code",
   "execution_count": 1,
   "metadata": {},
   "outputs": [],
   "source": [
    "from typing import List\n",
    "\n",
    "class Solution:\n",
    "    def maxSquare(self, n : int, m : int, mat : List[List[int]]) -> int:\n",
    "        res = max(max(mat[0]), max([mat[i][0] for i in range(n)]))\n",
    "\n",
    "        for i in range(1, n):\n",
    "            for j in range(1, m):\n",
    "                if mat[i][j]:\n",
    "                    mat[i][j] = 1+min(mat[i-1][j-1], mat[i-1][j], mat[i][j-1])\n",
    "                    res = max(res, mat[i][j])\n",
    "        \n",
    "        return res"
   ]
  },
  {
   "cell_type": "code",
   "execution_count": 5,
   "metadata": {},
   "outputs": [
    {
     "name": "stdout",
     "output_type": "stream",
     "text": [
      "3\n"
     ]
    }
   ],
   "source": [
    "# Create an instance of the Solution class\n",
    "solution = Solution()\n",
    "\n",
    "n = 6\n",
    "m = 5\n",
    "mat = [[0, 1, 1, 0, 1], \n",
    "       [1, 1, 0, 1, 0],\n",
    "       [0, 1, 1, 1, 0],\n",
    "       [1, 1, 1, 1, 0],\n",
    "       [1, 1, 1, 1, 1],\n",
    "       [0, 0, 0, 0, 0]]\n",
    "# Call the method on the instance\n",
    "result = solution.maxSquare(n,m,mat)\n",
    "print(result)"
   ]
  }
 ],
 "metadata": {
  "kernelspec": {
   "display_name": "Python 3",
   "language": "python",
   "name": "python3"
  },
  "language_info": {
   "codemirror_mode": {
    "name": "ipython",
    "version": 3
   },
   "file_extension": ".py",
   "mimetype": "text/x-python",
   "name": "python",
   "nbconvert_exporter": "python",
   "pygments_lexer": "ipython3",
   "version": "3.12.3"
  }
 },
 "nbformat": 4,
 "nbformat_minor": 2
}
