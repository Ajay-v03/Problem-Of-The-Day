{
 "cells": [
  {
   "cell_type": "markdown",
   "metadata": {},
   "source": [
    "Find maximum volume of a cuboid"
   ]
  },
  {
   "cell_type": "code",
   "execution_count": null,
   "metadata": {},
   "outputs": [],
   "source": [
    "'''\n",
    "You are given a perimeter & the area. Your task is to return the maximum volume that can be made in the form of a cuboid from the given perimeter and surface area.\n",
    "Note: Round off to 2 decimal places and for the given parameters, it is guaranteed that an answer always exists.\n",
    "\n",
    "Examples\n",
    "\n",
    "Input: perimeter = 22, area = 15\n",
    "Output: 3.02\n",
    "Explanation: The maximum attainable volume of the cuboid is 3.02\n",
    "Input: perimeter = 20, area = 5\n",
    "Output: 0.33\n",
    "Explanation: The maximum attainable volume of the cuboid is 0.33\n",
    "Expected Time Complexity: O(1)\n",
    "Expected Auxiliary Space: O(1)\n",
    "Constraints :\n",
    "1 ≤ perimeter ≤ 109\n",
    "1 ≤ area ≤ 109\n",
    "\n",
    "'''"
   ]
  },
  {
   "cell_type": "code",
   "execution_count": 1,
   "metadata": {},
   "outputs": [],
   "source": [
    "class Solution:\n",
    "    def maxVolume(self, perimeter, area):\n",
    "        part1 = (perimeter - (perimeter ** 2 - 24 * area) ** 0.5) / 12\n",
    "        part2 = (perimeter / 4) - (2 * part1)\n",
    "        ans = part1 ** 2 * part2\n",
    "        return ans"
   ]
  },
  {
   "cell_type": "code",
   "execution_count": 2,
   "metadata": {},
   "outputs": [
    {
     "name": "stdout",
     "output_type": "stream",
     "text": [
      "3.0240805115530622\n"
     ]
    }
   ],
   "source": [
    "# Create an instance of the Solution class\n",
    "solution = Solution()\n",
    "\n",
    "perimeter = 22\n",
    "area = 15\n",
    "# Call the method on the instance\n",
    "result = solution.maxVolume(perimeter,area)\n",
    "print(result)"
   ]
  }
 ],
 "metadata": {
  "kernelspec": {
   "display_name": "Python 3",
   "language": "python",
   "name": "python3"
  },
  "language_info": {
   "codemirror_mode": {
    "name": "ipython",
    "version": 3
   },
   "file_extension": ".py",
   "mimetype": "text/x-python",
   "name": "python",
   "nbconvert_exporter": "python",
   "pygments_lexer": "ipython3",
   "version": "3.12.3"
  }
 },
 "nbformat": 4,
 "nbformat_minor": 2
}
