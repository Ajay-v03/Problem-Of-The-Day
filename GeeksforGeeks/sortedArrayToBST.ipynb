{
 "cells": [
  {
   "cell_type": "markdown",
   "metadata": {},
   "source": [
    "Array to BST"
   ]
  },
  {
   "cell_type": "code",
   "execution_count": null,
   "metadata": {},
   "outputs": [],
   "source": [
    "'''\n",
    "Given a sorted array. Convert it into a Height Balanced Binary Search Tree (BST). Return the root of the BST.\n",
    "\n",
    "Height-balanced BST means a binary tree in which the depth of the left subtree and the right subtree of every node never differ by more than 1.\n",
    "\n",
    "Note: The driver code will check the BST, if it is a Height-balanced BST, the output will be true otherwise the output will be false.\n",
    "\n",
    "Examples :\n",
    "\n",
    "Input: nums = [1, 2, 3, 4]\n",
    "Output: true\n",
    "Explanation: The preorder traversal of the following BST formed is [2, 1, 3, 4]:\n",
    "           2\n",
    "         /   \\\n",
    "        1     3\n",
    "               \\\n",
    "                4\n",
    "Input: nums = [1, 2, 3, 4, 5, 6, 7]\n",
    "Ouput: true\n",
    "Explanation: The preorder traversal of the following BST formed is [4, 2, 1, 3, 6, 5, 7]:\n",
    "        4\n",
    "       / \\\n",
    "      2   6\n",
    "     / \\   / \\\n",
    "    1 3  5 7\n",
    "Expected Time Complexity: O(n)\n",
    "Expected Auxillary Space: O(n)\n",
    "\n",
    "Constraints:\n",
    "1 ≤ nums.size() ≤ 105\n",
    "1 ≤ nums[i] ≤ 105\n",
    "\n",
    "'''"
   ]
  },
  {
   "cell_type": "code",
   "execution_count": null,
   "metadata": {},
   "outputs": [],
   "source": [
    "class Solution:\n",
    "    def sortedArrayToBST(self, nums):\n",
    "        if not nums:\n",
    "            return None\n",
    "        \n",
    "        return self.buildBST(nums, 0, len(nums) - 1)\n",
    "    \n",
    "    def buildBST(self, nums, left, right):\n",
    "        if left > right:\n",
    "            return None\n",
    "        \n",
    "        mid = (left + right) // 2\n",
    "        node = Node(nums[mid])\n",
    "        node.left = self.buildBST(nums, left, mid - 1)\n",
    "        node.right = self.buildBST(nums, mid + 1, right)\n",
    "        \n",
    "        return node\n"
   ]
  }
 ],
 "metadata": {
  "language_info": {
   "name": "python"
  }
 },
 "nbformat": 4,
 "nbformat_minor": 2
}
