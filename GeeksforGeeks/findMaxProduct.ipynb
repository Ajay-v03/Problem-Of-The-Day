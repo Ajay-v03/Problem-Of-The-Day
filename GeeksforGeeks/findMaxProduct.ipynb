{
 "cells": [
  {
   "cell_type": "markdown",
   "metadata": {},
   "source": [
    "Maximum product subset of an array"
   ]
  },
  {
   "cell_type": "code",
   "execution_count": null,
   "metadata": {},
   "outputs": [],
   "source": [
    "'''\n",
    "Given an array arr. The task is to find and return the maximum product possible with the subset of elements present in the array.\n",
    "\n",
    "Note:\n",
    "\n",
    "The maximum product can be a single element also.\n",
    "Since the product can be large, return it modulo 109 + 7.\n",
    "Examples:\n",
    "\n",
    "Input: arr[] = [-1, 0, -2, 4, 3]\n",
    "Output: 24\n",
    "Explanation: Maximum product will be ( -1 * -2 * 4 * 3 ) = 24\n",
    "Input: arr[] = [-1, 0]\n",
    "Output: 0\n",
    "Explanation: Maximum product will be ( -1 * 0) = 0\n",
    "Input: arr[] = [5]\n",
    "Output: 5\n",
    "Explanation: Maximum product will be 5.\n",
    "Expected Time Complexity: O(n)\n",
    "Expected Auxiliary Space: O(1)\n",
    "\n",
    "Constraints:\n",
    "1 <= arr.size() <= 2 * 104\n",
    "-10 <= arr[i] <= 10\n",
    "'''"
   ]
  },
  {
   "cell_type": "code",
   "execution_count": 1,
   "metadata": {},
   "outputs": [],
   "source": [
    "class Solution:\n",
    "    def findMaxProduct(self, arr):\n",
    "        mn=float('inf')\n",
    "        neg=False\n",
    "        ret=1\n",
    "        for i in arr:\n",
    "            if i==0:\n",
    "                continue\n",
    "            if i<0:\n",
    "                i=-i\n",
    "                mn=min(mn,i)\n",
    "                neg=not neg\n",
    "            ret=(ret*i)%(10**9+7)\n",
    "        if neg:\n",
    "            ret=(ret//mn)%(10**9+7)\n",
    "        return ret"
   ]
  },
  {
   "cell_type": "code",
   "execution_count": 2,
   "metadata": {},
   "outputs": [
    {
     "name": "stdout",
     "output_type": "stream",
     "text": [
      "24\n"
     ]
    }
   ],
   "source": [
    "# Create an instance of the Solution class\n",
    "solution = Solution()\n",
    "\n",
    "# Call the method on the instance\n",
    "result = solution.findMaxProduct(arr = [-1, 0, -2, 4, 3])\n",
    "print(result)"
   ]
  }
 ],
 "metadata": {
  "kernelspec": {
   "display_name": "Python 3",
   "language": "python",
   "name": "python3"
  },
  "language_info": {
   "codemirror_mode": {
    "name": "ipython",
    "version": 3
   },
   "file_extension": ".py",
   "mimetype": "text/x-python",
   "name": "python",
   "nbconvert_exporter": "python",
   "pygments_lexer": "ipython3",
   "version": "3.12.3"
  }
 },
 "nbformat": 4,
 "nbformat_minor": 2
}
