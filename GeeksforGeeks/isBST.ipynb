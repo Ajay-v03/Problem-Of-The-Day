{
 "cells": [
  {
   "cell_type": "markdown",
   "metadata": {},
   "source": [
    "Check for BST"
   ]
  },
  {
   "cell_type": "code",
   "execution_count": null,
   "metadata": {},
   "outputs": [],
   "source": [
    "'''\n",
    "Given the root of a binary tree. Check whether it is a BST or not.\n",
    "Note: We are considering that BSTs can not contain duplicate Nodes.\n",
    "A BST is defined as follows:\n",
    "\n",
    "The left subtree of a node contains only nodes with keys less than the node's key.\n",
    "The right subtree of a node contains only nodes with keys greater than the node's key.\n",
    "Both the left and right subtrees must also be binary search trees.\n",
    "Examples:\n",
    "\n",
    "Input:\n",
    "   2\n",
    " /    \\\n",
    "1      3\n",
    "        \\\n",
    "         5\n",
    "Output: true \n",
    "Explanation: \n",
    "The left subtree of every node contains smaller keys and right subtree of every node contains greater. Hence, the tree is a BST.\n",
    "Input:\n",
    "  2\n",
    "   \\\n",
    "    7\n",
    "     \\\n",
    "      6\n",
    "       \\\n",
    "        9\n",
    "Output: false \n",
    "Explanation: \n",
    "Since the node with value 7 has right subtree nodes with keys less than 7, this is not a BST. \n",
    "Input:\n",
    "   10\n",
    " /    \\\n",
    "5      20\n",
    "      /   \\\n",
    "     9     25\n",
    "Output: false\n",
    "Explanation: The node is present in the right subtree of 10, but it is smaller than 10.\n",
    "Expected Time Complexity: O(n) \n",
    "Expected Auxiliary Space: O(Height of the tree)\n",
    "where n is the number of nodes in the given tree\n",
    "\n",
    "Constraints:\n",
    "1 ≤ Number of nodes ≤ 105\n",
    "1 ≤ Data of a node ≤ 105\n",
    "\n",
    "'''"
   ]
  },
  {
   "cell_type": "code",
   "execution_count": 1,
   "metadata": {},
   "outputs": [],
   "source": [
    "import math\n",
    "\n",
    "class Solution:\n",
    "    \n",
    "    #Function to check whether a Binary Tree is BST or not.\n",
    "    def isBST(self, root):\n",
    "        prev = -math.inf\n",
    "        temp = root\n",
    "        while temp != None:\n",
    "            if temp.left == None:\n",
    "                if prev >= temp.data:\n",
    "                    return False\n",
    "                prev = temp.data\n",
    "                temp = temp.right\n",
    "            else:\n",
    "                left = temp.left\n",
    "                while left.right != None and left.right != temp:\n",
    "                    left = left.right\n",
    "                \n",
    "                if left.right == None:\n",
    "                    left.right = temp\n",
    "                    temp = temp.left\n",
    "                elif left.right == temp:\n",
    "                    left.right = None\n",
    "                    if prev >= temp.data:\n",
    "                        return False\n",
    "                    prev = temp.data\n",
    "                    temp = temp.right\n",
    "        \n",
    "        return True"
   ]
  }
 ],
 "metadata": {
  "kernelspec": {
   "display_name": "Python 3",
   "language": "python",
   "name": "python3"
  },
  "language_info": {
   "codemirror_mode": {
    "name": "ipython",
    "version": 3
   },
   "file_extension": ".py",
   "mimetype": "text/x-python",
   "name": "python",
   "nbconvert_exporter": "python",
   "pygments_lexer": "ipython3",
   "version": "3.12.3"
  }
 },
 "nbformat": 4,
 "nbformat_minor": 2
}
