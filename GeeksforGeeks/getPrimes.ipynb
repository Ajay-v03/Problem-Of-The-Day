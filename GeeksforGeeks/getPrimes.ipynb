{
 "cells": [
  {
   "cell_type": "markdown",
   "metadata": {},
   "source": [
    "Prime Pair with Target Sum"
   ]
  },
  {
   "cell_type": "code",
   "execution_count": null,
   "metadata": {},
   "outputs": [],
   "source": [
    "'''\n",
    "Given a number n, find out if n can be expressed as a+b, where both a and b are prime numbers. If such a pair exists, return the values of a and b, otherwise return [-1,-1] as an array of size 2.\n",
    "Note: If [a, b] is one solution with a <= b, and [c, d] is another solution with c <= d, and a < c then  [a, b] is considered as our answer.\n",
    "\n",
    "Examples\n",
    "\n",
    "Input: n = 10\n",
    "Output: 3 7\n",
    "Explanation: There are two possiblities 3, 7 & 5, 5 are both prime & their sum is 10, but we'll pick 3, 7 as 3 < 5.\n",
    "Input: n = 3\n",
    "Output: -1 -1\n",
    "Explanation: There are no solutions to the number 3.\n",
    "Expected Time Complexity: O(n*loglog(n))\n",
    "Expected Auxiliary Space: O(n)\n",
    "\n",
    "Constraints:\n",
    "2 <= n <= 106\n",
    "\n",
    "\n",
    "'''"
   ]
  },
  {
   "cell_type": "code",
   "execution_count": 1,
   "metadata": {},
   "outputs": [],
   "source": [
    "from typing import List\n",
    "\n",
    "class Solution:\n",
    "    def getPrimes(self, n : int) -> List[int]:\n",
    "        # code here\n",
    "        prime = [True for i in range(n+1)]\n",
    "        prime[0] = prime[1] = False\n",
    "        p = 2\n",
    "        while (p * p <= n):\n",
    "            if (prime[p] == True):\n",
    "                for i in range(p * p, n+1, p):\n",
    "                    prime[i] = False\n",
    "            p += 1\n",
    "        for i in range(n):\n",
    "            if prime[i] and prime[n-i]:\n",
    "                return [i,n-i]\n",
    "        return [-1,-1]"
   ]
  },
  {
   "cell_type": "code",
   "execution_count": 2,
   "metadata": {},
   "outputs": [
    {
     "name": "stdout",
     "output_type": "stream",
     "text": [
      "[3, 7]\n"
     ]
    }
   ],
   "source": [
    "# Create an instance of the Solution class\n",
    "solution = Solution()\n",
    "\n",
    "n = 10\n",
    "# Call the method on the instance\n",
    "result = solution.getPrimes(n)\n",
    "print(result)"
   ]
  }
 ],
 "metadata": {
  "kernelspec": {
   "display_name": "Python 3",
   "language": "python",
   "name": "python3"
  },
  "language_info": {
   "codemirror_mode": {
    "name": "ipython",
    "version": 3
   },
   "file_extension": ".py",
   "mimetype": "text/x-python",
   "name": "python",
   "nbconvert_exporter": "python",
   "pygments_lexer": "ipython3",
   "version": "3.12.3"
  }
 },
 "nbformat": 4,
 "nbformat_minor": 2
}
