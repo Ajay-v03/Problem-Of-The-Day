{
 "cells": [
  {
   "cell_type": "markdown",
   "metadata": {},
   "source": [
    "Closest Three Sum"
   ]
  },
  {
   "cell_type": "code",
   "execution_count": null,
   "metadata": {},
   "outputs": [],
   "source": [
    "'''\n",
    "Given an array, arr of integers, and another number target, find three integers in the array such that their sum is closest to the target. Return the sum of the three integers.\n",
    "\n",
    "Note: If there are multiple solutions, return the maximum one.\n",
    "\n",
    "Examples :\n",
    "\n",
    "Input: arr[] = [-7, 9, 8, 3, 1, 1], target = 2\n",
    "Output: 2\n",
    "Explanation: There is only one triplet present in the array where elements are -7,8,1 whose sum is 2.\n",
    "Input: arr[] = [5, 2, 7, 5], target = 13\n",
    "Output: 14\n",
    "Explanation: There is one triplet with sum 12 and other with sum 14 in the array. Triplet elements are 5, 2, 5 and 2, 7, 5 respectively. Since abs(13-12) ==abs(13-14) maximum triplet sum will be preferred i.e 14.\n",
    "Expected Time Complexity: O(n2)\n",
    "Expected Auxiliary Space: O(1)\n",
    "\n",
    "Constraints:\n",
    "3 ≤ arr.size() ≤ 103\n",
    "-105 ≤ arr[i] ≤ 105\n",
    "1 ≤ target ≤ 105\n",
    "\n",
    "'''"
   ]
  },
  {
   "cell_type": "code",
   "execution_count": 1,
   "metadata": {},
   "outputs": [],
   "source": [
    "\n",
    "# arr    : list of integers denoting the elements of the array\n",
    "# target : as specified in the problem statement\n",
    "\n",
    "class Solution:\n",
    "    def threeSumClosest(self, arr, target):\n",
    "        n = len(arr)\n",
    "        arr.sort()\n",
    "        diff = float('inf')\n",
    "        ans = None\n",
    "        \n",
    "        for i in range(n):\n",
    "            first = arr[i]\n",
    "            start = i + 1\n",
    "            end = n - 1\n",
    "\n",
    "            while start < end:\n",
    "                current_sum = first + arr[start] + arr[end]\n",
    "                if current_sum == target:\n",
    "                    return target\n",
    "\n",
    "                current_diff = abs(current_sum - target)\n",
    "\n",
    "                if current_diff < diff or (current_diff == diff and current_sum > ans):\n",
    "                    diff = current_diff\n",
    "                    ans = current_sum\n",
    "\n",
    "                if current_sum > target:\n",
    "                    end -= 1\n",
    "                else:\n",
    "                    start += 1\n",
    "\n",
    "        return ans\n"
   ]
  },
  {
   "cell_type": "code",
   "execution_count": 2,
   "metadata": {},
   "outputs": [
    {
     "name": "stdout",
     "output_type": "stream",
     "text": [
      "2\n"
     ]
    }
   ],
   "source": [
    "# Create an instance of the Solution class\n",
    "solution = Solution()\n",
    "\n",
    "arr = [-7, 9, 8, 3, 1, 1]\n",
    "target = 2\n",
    "# Call the method on the instance\n",
    "result = solution.threeSumClosest(arr,target)\n",
    "print(result)"
   ]
  }
 ],
 "metadata": {
  "kernelspec": {
   "display_name": "Python 3",
   "language": "python",
   "name": "python3"
  },
  "language_info": {
   "codemirror_mode": {
    "name": "ipython",
    "version": 3
   },
   "file_extension": ".py",
   "mimetype": "text/x-python",
   "name": "python",
   "nbconvert_exporter": "python",
   "pygments_lexer": "ipython3",
   "version": "3.12.3"
  }
 },
 "nbformat": 4,
 "nbformat_minor": 2
}
