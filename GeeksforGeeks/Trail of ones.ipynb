{
 "cells": [
  {
   "cell_type": "code",
   "execution_count": 1,
   "metadata": {},
   "outputs": [],
   "source": [
    "# Trail of ones"
   ]
  },
  {
   "cell_type": "code",
   "execution_count": null,
   "metadata": {},
   "outputs": [],
   "source": [
    "'''\n",
    "Given a number n, find the number of binary strings of length n that contain consecutive 1's in them. Since the number can be very large, return the answer after modulo with 1e9+7.\n",
    "\n",
    "Example 1:\n",
    "\n",
    "Input: n = 2\n",
    "Output: 1\n",
    "Explanation: There are 4 strings of length 2, the strings are 00, 01, 10, and 11. Only the string 11 has consecutive 1's.\n",
    "Example 2:\n",
    "\n",
    "Input: n = 5\n",
    "Output: 19\n",
    "Explanation: There are 19 strings having consecutive 1's.\n",
    "Your Task:\n",
    "\n",
    "You don't need to read input or print anything. Your task is to complete the function numberOfConsecutiveOnes() which takes an integer n and returns the number of binary strings that contain consecutive 1's in them.\n",
    "\n",
    "Expected Time Complexity: O(n)\n",
    "Expected Auxiliary Space: O(n)\n",
    "\n",
    "Constraints\n",
    "2 <= n <= 105\n",
    "\n",
    "'''"
   ]
  },
  {
   "cell_type": "code",
   "execution_count": 2,
   "metadata": {},
   "outputs": [],
   "source": [
    "#User function Template for python3\n",
    "class Solution:\n",
    "    def numberOfConsecutiveOnes (ob,n):\n",
    "        '''\n",
    "        The series is 0, 1, 3, 8, 19, 43, 94 ...\n",
    "        n = 2: 2 * 0  + 1 = 1\n",
    "        n = 3: 2 * 1  + 1 = 3\n",
    "        n = 4: 2 * 3  + 2 = 8\n",
    "        n = 5: 2 * 8  + 3 = 19\n",
    "        n = 6: 2 * 19 + 5 = 43\n",
    "        n = 7: 2 * 43 + 8\n",
    "        '''\n",
    "        mod = 1e9+7\n",
    "        \n",
    "        prevPrev, prev, prevAns = 0, 1, 1\n",
    "        \n",
    "        for i in range(3, n+1):\n",
    "            add = (prevPrev + prev)%mod\n",
    "            \n",
    "            prevAns = (2 * prevAns + add)%mod\n",
    "            \n",
    "            prevPrev = prev\n",
    "            prev = add\n",
    "        \n",
    "        return int(prevAns)"
   ]
  },
  {
   "cell_type": "code",
   "execution_count": 4,
   "metadata": {},
   "outputs": [
    {
     "name": "stdout",
     "output_type": "stream",
     "text": [
      "19\n"
     ]
    }
   ],
   "source": [
    "# Create an instance of the Solution class\n",
    "solution = Solution()\n",
    "\n",
    "n = 5\n",
    "# Call the method on the instance\n",
    "result = solution.numberOfConsecutiveOnes(n)\n",
    "print(result)"
   ]
  }
 ],
 "metadata": {
  "kernelspec": {
   "display_name": "Python 3",
   "language": "python",
   "name": "python3"
  },
  "language_info": {
   "codemirror_mode": {
    "name": "ipython",
    "version": 3
   },
   "file_extension": ".py",
   "mimetype": "text/x-python",
   "name": "python",
   "nbconvert_exporter": "python",
   "pygments_lexer": "ipython3",
   "version": "3.12.3"
  }
 },
 "nbformat": 4,
 "nbformat_minor": 2
}
