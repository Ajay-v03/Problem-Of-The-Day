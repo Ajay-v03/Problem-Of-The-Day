{
 "cells": [
  {
   "cell_type": "markdown",
   "metadata": {},
   "source": [
    "Convert array into Zig-Zag fashion"
   ]
  },
  {
   "cell_type": "code",
   "execution_count": null,
   "metadata": {},
   "outputs": [],
   "source": [
    "'''\n",
    "Given an array arr of distinct elements of size n, the task is to rearrange the elements of the array in a zig-zag fashion so that the converted array should be in the below form: \n",
    "\n",
    "arr[0] < arr[1]  > arr[2] < arr[3] > arr[4] < . . . . arr[n-2] < arr[n-1] > arr[n]. \n",
    "\n",
    "Note: Modify the given arr[] only, If your transformation is correct, the output will be 1 else the output will be 0. \n",
    "\n",
    "Examples\n",
    "\n",
    "Input: n = 7, arr[] = {4, 3, 7, 8, 6, 2, 1}\n",
    "Output: 1\n",
    "Explanation:  After modification the array will look like 3 < 7 > 4 < 8 > 2 < 6 > 1, the checker in the driver code will produce 1.\n",
    "Input: n = 5, arr[] = {4, 7, 3, 8, 2}\n",
    "Output: 1\n",
    "Explanation: After modification the array will look like 4 < 7 > 3 < 8 > 2 hence output will be 1.\n",
    "Expected Time Complexity: O(n)\n",
    "Expected Auxiliary Space: O(1)\n",
    "\n",
    "Constraints:\n",
    "1 <= n <= 106\n",
    "0 <= arri <= 109\n",
    "\n",
    "'''"
   ]
  },
  {
   "cell_type": "code",
   "execution_count": null,
   "metadata": {},
   "outputs": [],
   "source": [
    "from typing import List\n",
    "\n",
    "class Solution:\n",
    "    def zigZag(self, n : int, arr : List[int]) -> None:\n",
    "        for i in range(n-1):\n",
    "           if(i%2 == 0 and arr[i] > arr[i+1]) or (i%2 == 1 and arr[i] < arr[i+1]):\n",
    "               arr[i],arr[i+1]=arr[i+1],arr[i]"
   ]
  },
  {
   "cell_type": "code",
   "execution_count": null,
   "metadata": {},
   "outputs": [],
   "source": [
    "# Create an instance of the Solution class\n",
    "solution = Solution()\n",
    "\n",
    "n = 7\n",
    "arr = [4, 3, 7, 8, 6, 2, 1]\n",
    "\n",
    "# Call the method on the instance\n",
    "result = solution.zigZag(n,arr)\n",
    "print(result)"
   ]
  }
 ],
 "metadata": {
  "kernelspec": {
   "display_name": "Python 3",
   "language": "python",
   "name": "python3"
  },
  "language_info": {
   "codemirror_mode": {
    "name": "ipython",
    "version": 3
   },
   "file_extension": ".py",
   "mimetype": "text/x-python",
   "name": "python",
   "nbconvert_exporter": "python",
   "pygments_lexer": "ipython3",
   "version": "3.12.3"
  }
 },
 "nbformat": 4,
 "nbformat_minor": 2
}
