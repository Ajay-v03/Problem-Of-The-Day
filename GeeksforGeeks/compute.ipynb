{
 "cells": [
  {
   "cell_type": "markdown",
   "metadata": {},
   "source": [
    "Linked list of strings forms a palindrome"
   ]
  },
  {
   "cell_type": "code",
   "execution_count": null,
   "metadata": {},
   "outputs": [],
   "source": [
    "'''\n",
    "Given a linked list with string data, check whether the combined string formed is palindrome. If the combined string is palindrome then return true otherwise return false.\n",
    "\n",
    "Example:\n",
    "\n",
    "Input:\n",
    "\n",
    "Output : true\n",
    "Explanation: As string \"abcddcba\" is palindrome the function should return true.\n",
    "Input:\n",
    "\n",
    "Output : false\n",
    "Explanation: As string \"abcdba\" is not palindrome the function should return false.\n",
    "Expected Time Complexity:  O(n)\n",
    "Expected Auxiliary Space: O(n)\n",
    "\n",
    "Constraints:\n",
    "1 <= Node.data.length<= 103\n",
    "1<=list.length<=103\n",
    "\n",
    "\n",
    "\n",
    "'''"
   ]
  },
  {
   "cell_type": "code",
   "execution_count": 1,
   "metadata": {},
   "outputs": [],
   "source": [
    "'''\n",
    "class Node:\n",
    "    def __init__(self,data):\n",
    "        self.data=data\n",
    "        self.next=None\n",
    "'''\n",
    "def compute(head): \n",
    "    str1 = []\n",
    "    while head is not None:\n",
    "        str1.append(head.data)\n",
    "        head = head.next\n",
    "    \n",
    "    str2 = \"\"\n",
    "    for i in str1:\n",
    "        str2 += i\n",
    "    if str2 == str2[::-1]:\n",
    "        return True\n",
    "    return False"
   ]
  }
 ],
 "metadata": {
  "kernelspec": {
   "display_name": "Python 3",
   "language": "python",
   "name": "python3"
  },
  "language_info": {
   "codemirror_mode": {
    "name": "ipython",
    "version": 3
   },
   "file_extension": ".py",
   "mimetype": "text/x-python",
   "name": "python",
   "nbconvert_exporter": "python",
   "pygments_lexer": "ipython3",
   "version": "3.12.3"
  }
 },
 "nbformat": 4,
 "nbformat_minor": 2
}
