{
 "cells": [
  {
   "cell_type": "markdown",
   "metadata": {},
   "source": [
    "Merge two BST 's"
   ]
  },
  {
   "cell_type": "code",
   "execution_count": null,
   "metadata": {},
   "outputs": [],
   "source": [
    "'''\n",
    "Given two BSTs, return elements of merged BSTs in sorted form.\n",
    "\n",
    "Examples :\n",
    "\n",
    "Input:\n",
    "BST1:\n",
    "       5\n",
    "     /   \\\n",
    "    3     6\n",
    "   / \\\n",
    "  2   4  \n",
    "BST2:\n",
    "        2\n",
    "      /   \\\n",
    "     1     3\n",
    "            \\\n",
    "             7\n",
    "            /\n",
    "           6\n",
    "Output: 1 2 2 3 3 4 5 6 6 7\n",
    "Explanation: After merging and sorting the two BST we get 1 2 2 3 3 4 5 6 6 7.\n",
    "Input:\n",
    "BST1:\n",
    "       12\n",
    "     /   \n",
    "    9\n",
    "   / \\    \n",
    "  6   11\n",
    "BST2:\n",
    "      8\n",
    "    /  \\\n",
    "   5    10\n",
    "  /\n",
    " 2\n",
    "Output: 2 5 6 8 9 10 11 12\n",
    "Explanation: After merging and sorting the two BST we get 2 5 6 8 9 10 11 12.\n",
    "Expected Time Complexity: O(m+n)\n",
    "Expected Auxiliary Space: O(Height of BST1 + Height of BST2 + m + n)\n",
    "\n",
    "Constraints:\n",
    "1 ≤ Number of Nodes ≤ 105\n",
    "\n",
    "'''"
   ]
  },
  {
   "cell_type": "code",
   "execution_count": 1,
   "metadata": {},
   "outputs": [],
   "source": [
    "class Solution:\n",
    "    def merge(self, root1, root2):\n",
    "        a=[]\n",
    "        b=[]\n",
    "        ans=[]\n",
    "        def trav(root,arr):\n",
    "            if root==None:\n",
    "                return \n",
    "            trav(root.left,arr)\n",
    "            arr.append(root.data)\n",
    "            trav(root.right,arr)\n",
    "        trav(root1,a)\n",
    "        trav(root2,b)\n",
    "        n=len(a)\n",
    "        m=len(b)\n",
    "        l=0\n",
    "        r=0\n",
    "        while l<n and r<m:\n",
    "            if a[l]<=b[r]:\n",
    "                ans.append(a[l])\n",
    "                l+=1\n",
    "            elif a[l]>b[r]:\n",
    "                ans.append(b[r])\n",
    "                r+=1\n",
    "        if l==n:\n",
    "            ans.extend(b[r:m])\n",
    "        else:\n",
    "            ans.extend(a[l:n])\n",
    "        return ans"
   ]
  }
 ],
 "metadata": {
  "kernelspec": {
   "display_name": "Python 3",
   "language": "python",
   "name": "python3"
  },
  "language_info": {
   "codemirror_mode": {
    "name": "ipython",
    "version": 3
   },
   "file_extension": ".py",
   "mimetype": "text/x-python",
   "name": "python",
   "nbconvert_exporter": "python",
   "pygments_lexer": "ipython3",
   "version": "3.12.3"
  }
 },
 "nbformat": 4,
 "nbformat_minor": 2
}
