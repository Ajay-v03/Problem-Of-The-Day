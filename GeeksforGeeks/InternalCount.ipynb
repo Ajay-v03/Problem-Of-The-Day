{
 "cells": [
  {
   "cell_type": "markdown",
   "metadata": {},
   "source": [
    "Integral Points Inside Triangle"
   ]
  },
  {
   "cell_type": "code",
   "execution_count": null,
   "metadata": {},
   "outputs": [],
   "source": [
    "'''\n",
    "Given three non-collinear points whose co-ordinates are p(p1, p2), q(q1, q2) and r(r1, r2) in the X-Y plane. Return the number of integral / lattice points strictly inside the triangle formed by these points.\n",
    "Note: - A point in the X-Y plane is said to be an integral / lattice point if both its coordinates are integral.\n",
    "\n",
    "Examples\n",
    "\n",
    "Input: p = (0,0), q = (0,5), r = (5,0)\n",
    "Output: 6\n",
    "Explanation: \n",
    "\n",
    "As shown in figure, points (1,1) (1,2) (1,3) (2,1) (2,2) and (3,1) are the integral points inside the triangle. So total 6 are there.\n",
    "Input: p = (62,-3), q = (5,-45), r = (-19,-23)\n",
    "Output: 1129\n",
    "Explanation: There are 1129 integral points in the triangle formed by p, q and r.\n",
    "Expected Time Complexity: O(Log2109)\n",
    "Expected Auxillary Space: O(1)\n",
    "\n",
    "Constraints:\n",
    "-109 ≤ x-coordinate, y-coordinate ≤ 109\n",
    "\n",
    "\n",
    "'''"
   ]
  },
  {
   "cell_type": "code",
   "execution_count": 1,
   "metadata": {},
   "outputs": [],
   "source": [
    "\n",
    "class Solution:\n",
    "    def gcd(self, a, b):\n",
    "        while b != 0:\n",
    "            temp = b\n",
    "            b = a % b\n",
    "            a = temp\n",
    "        return a\n",
    "\n",
    "    def triangle_area(self, p, q, r):\n",
    "        return abs(p[0] * (q[1] - r[1]) + q[0] * (r[1] - p[1]) + r[0] * (p[1] - q[1]))\n",
    "\n",
    "    def boundary_points(self, p, q, r):\n",
    "        return (self.gcd(abs(p[0] - q[0]), abs(p[1] - q[1])) + \n",
    "                self.gcd(abs(q[0] - r[0]), abs(q[1] - r[1])) + \n",
    "                self.gcd(abs(r[0] - p[0]), abs(r[1] - p[1])))\n",
    "\n",
    "    def InternalCount(self, p, q, r):\n",
    "        return (self.triangle_area(p, q, r) - self.boundary_points(p, q, r) + 2) // 2"
   ]
  },
  {
   "cell_type": "code",
   "execution_count": 2,
   "metadata": {},
   "outputs": [
    {
     "name": "stdout",
     "output_type": "stream",
     "text": [
      "6\n"
     ]
    }
   ],
   "source": [
    "# Create an instance of the Solution class\n",
    "solution = Solution()\n",
    "\n",
    "p = (0,0)\n",
    "q = (0,5)\n",
    "r = (5,0)\n",
    "# Call the method on the instance\n",
    "result = solution.InternalCount(p,q,r)\n",
    "print(result)"
   ]
  }
 ],
 "metadata": {
  "kernelspec": {
   "display_name": "Python 3",
   "language": "python",
   "name": "python3"
  },
  "language_info": {
   "codemirror_mode": {
    "name": "ipython",
    "version": 3
   },
   "file_extension": ".py",
   "mimetype": "text/x-python",
   "name": "python",
   "nbconvert_exporter": "python",
   "pygments_lexer": "ipython3",
   "version": "3.12.3"
  }
 },
 "nbformat": 4,
 "nbformat_minor": 2
}
