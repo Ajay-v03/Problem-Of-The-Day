{
 "cells": [
  {
   "cell_type": "markdown",
   "metadata": {},
   "source": [
    "Max sum in the configuration"
   ]
  },
  {
   "cell_type": "code",
   "execution_count": null,
   "metadata": {},
   "outputs": [],
   "source": [
    "'''\n",
    "Given an integer array(0-based indexing) a of size n. Your task is to return the maximum value of the sum of i*a[i] for all 0<= i <=n-1, where a[i] is the element at index i in the array. The only operation allowed is to rotate(clockwise or counterclockwise) the array any number of times.\n",
    "\n",
    "Example 1:\n",
    "\n",
    "Input: n = 4, a[] = {8, 3, 1, 2}\n",
    "Output: 29\n",
    "Explanation: All the configurations possible by rotating the elements are:\n",
    "3 1 2 8 here sum is 3*0+1*1+2*2+8*3 = 29\n",
    "1 2 8 3 here sum is 1*0+2*1+8*2+3*3 = 27\n",
    "2 8 3 1 here sum is 2*0+8*1+3*2+1*3 = 17\n",
    "8 3 1 2 here sum is 8*0+3*1+1*2+2*3 = 11, so the maximum sum will be 29.\n",
    "Example 2:\n",
    "\n",
    "Input: n = 3, a[] = {1, 2, 3}\n",
    "Output: 8\n",
    "Explanation: All the configurations possible by rotating the elements are:\n",
    "1 2 3 here sum is 1*0+2*1+3*2 = 8\n",
    "3 1 2 here sum is 3*0+1*1+2*2 = 5\n",
    "2 3 1 here sum is 2*0+3*1+1*2 = 5, so the maximum sum will be 8.\n",
    "Expected Time Complexity: O(n).\n",
    "Expected Auxiliary Space: O(1).\n",
    "\n",
    "Constraints:\n",
    "1<=n<=105\n",
    "1<=a[]<=106\n",
    "\n",
    "'''"
   ]
  },
  {
   "cell_type": "code",
   "execution_count": 1,
   "metadata": {},
   "outputs": [],
   "source": [
    "def max_sum(a,n):\n",
    "    sums, sum_all = 0,0\n",
    "    for i in range(n):\n",
    "        sum_all += a[i]\n",
    "        sums += a[i] * i\n",
    "    maxm = sums    \n",
    "    for i in range(1, n):\n",
    "        sums = sums + sum_all - n * a[n - i]\n",
    "        maxm = max(maxm, sums)\n",
    "    return maxm"
   ]
  },
  {
   "cell_type": "code",
   "execution_count": 2,
   "metadata": {},
   "outputs": [
    {
     "data": {
      "text/plain": [
       "8"
      ]
     },
     "execution_count": 2,
     "metadata": {},
     "output_type": "execute_result"
    }
   ],
   "source": [
    "n = 3\n",
    "a = [1, 2, 3]\n",
    "\n",
    "max_sum(a,n)"
   ]
  }
 ],
 "metadata": {
  "kernelspec": {
   "display_name": "Python 3",
   "language": "python",
   "name": "python3"
  },
  "language_info": {
   "codemirror_mode": {
    "name": "ipython",
    "version": 3
   },
   "file_extension": ".py",
   "mimetype": "text/x-python",
   "name": "python",
   "nbconvert_exporter": "python",
   "pygments_lexer": "ipython3",
   "version": "3.12.3"
  }
 },
 "nbformat": 4,
 "nbformat_minor": 2
}
