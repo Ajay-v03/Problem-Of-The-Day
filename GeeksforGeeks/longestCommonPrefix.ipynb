{
 "cells": [
  {
   "cell_type": "markdown",
   "metadata": {},
   "source": [
    "Longest Common Prefix of Strings"
   ]
  },
  {
   "cell_type": "code",
   "execution_count": null,
   "metadata": {},
   "outputs": [],
   "source": [
    "'''\n",
    "Given an array of strings arr. Return the longest common prefix among all strings present in the array. If there's no prefix common in all the strings, return \"-1\".\n",
    "\n",
    "Examples :\n",
    "\n",
    "Input: arr[] = [\"geeksforgeeks\", \"geeks\", \"geek\", \"geezer\"]\n",
    "Output: gee\n",
    "Explanation: \"gee\" is the longest common prefix in all the given strings.\n",
    "Input: arr[] = [\"hello\", \"world\"]\n",
    "Output: -1\n",
    "Explanation: There's no common prefix in the given strings.\n",
    "Expected Time Complexity: O(n*min(|arri|))\n",
    "Expected Space Complexity: O(min(|arri|))\n",
    "\n",
    "Constraints:\n",
    "1 ≤ |arr| ≤ 103\n",
    "1 ≤ |arr[i]| ≤ 103\n",
    "\n",
    "'''"
   ]
  },
  {
   "cell_type": "code",
   "execution_count": 1,
   "metadata": {},
   "outputs": [],
   "source": [
    "class Solution:\n",
    "    def longestCommonPrefix(self, arr):\n",
    "        if not arr:\n",
    "            return \"-1\"\n",
    "        prefix = arr[0]\n",
    "        for s in arr[1:]:\n",
    "            while not s.startswith(prefix):\n",
    "                prefix = prefix[:-1]\n",
    "                if not prefix:\n",
    "                    return \"-1\"\n",
    "        return prefix\n"
   ]
  },
  {
   "cell_type": "code",
   "execution_count": 3,
   "metadata": {},
   "outputs": [
    {
     "name": "stdout",
     "output_type": "stream",
     "text": [
      "gee\n"
     ]
    }
   ],
   "source": [
    "# Create an instance of the Solution class\n",
    "solution = Solution()\n",
    "\n",
    "# Call the method on the instance\n",
    "result = solution.longestCommonPrefix(arr = [\"geeksforgeeks\", \"geeks\", \"geek\", \"geezer\"])\n",
    "print(result)"
   ]
  }
 ],
 "metadata": {
  "kernelspec": {
   "display_name": "Python 3",
   "language": "python",
   "name": "python3"
  },
  "language_info": {
   "codemirror_mode": {
    "name": "ipython",
    "version": 3
   },
   "file_extension": ".py",
   "mimetype": "text/x-python",
   "name": "python",
   "nbconvert_exporter": "python",
   "pygments_lexer": "ipython3",
   "version": "3.12.3"
  }
 },
 "nbformat": 4,
 "nbformat_minor": 2
}
