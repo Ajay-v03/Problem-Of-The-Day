{
 "cells": [
  {
   "cell_type": "markdown",
   "metadata": {},
   "source": [
    "Rat in a Maze Problem - I"
   ]
  },
  {
   "cell_type": "code",
   "execution_count": null,
   "metadata": {},
   "outputs": [],
   "source": [
    "'''\n",
    "Consider a rat placed at (0, 0) in a square matrix mat of order n* n. It has to reach the destination at (n - 1, n - 1). Find all possible paths that the rat can take to reach from source to destination. The directions in which the rat can move are 'U'(up), 'D'(down), 'L' (left), 'R' (right). Value 0 at a cell in the matrix represents that it is blocked and rat cannot move to it while value 1 at a cell in the matrix represents that rat can be travel through it.\n",
    "Note: In a path, no cell can be visited more than one time. If the source cell is 0, the rat cannot move to any other cell. In case of no path, return an empty list. The driver will output \"-1\" automatically.\n",
    "\n",
    "Examples:\n",
    "\n",
    "Input: mat[][] = [[1, 0, 0, 0],\n",
    "                [1, 1, 0, 1], \n",
    "                [1, 1, 0, 0],\n",
    "                [0, 1, 1, 1]]\n",
    "Output: DDRDRR DRDDRR\n",
    "Explanation: The rat can reach the destination at (3, 3) from (0, 0) by two paths - DRDDRR and DDRDRR, when printed in sorted order we get DDRDRR DRDDRR.\n",
    "Input: mat[][] = [[1, 0],\n",
    "                [1, 0]]\n",
    "Output: -1\n",
    "Explanation: No path exists and destination cell is blocked.\n",
    "Expected Time Complexity: O(3n^2)\n",
    "Expected Auxiliary Space: O(l * x)\n",
    "Here l = length of the path, x = number of paths.\n",
    "\n",
    "Constraints:\n",
    "2 ≤ n ≤ 5\n",
    "0 ≤ mat[i][j] ≤ 1\n",
    "\n",
    "'''"
   ]
  },
  {
   "cell_type": "code",
   "execution_count": 4,
   "metadata": {},
   "outputs": [],
   "source": [
    "from typing import List\n",
    "\n",
    "class Solution:\n",
    "    def findPath(self, m: List[List[int]]) -> List[str]:\n",
    "        ans=[]\n",
    "        v=[[0]*n for _ in range (n)]\n",
    "        \n",
    "        # 1 up 2 right 3 down 4 left\n",
    "        def traverse(i, j, direct, predirect):\n",
    "            if i == j == n - 1:\n",
    "                ans.append(direct)\n",
    "                return\n",
    "            v[i][j]=1\n",
    "            if i > 0 and predirect != 3 and m[i - 1][j] == 1 and v[i - 1][j] == 0:\n",
    "                \n",
    "                traverse(i - 1, j, direct + \"U\", 1)\n",
    "            if i < n - 1 and predirect != 1 and m[i + 1][j] == 1 and v[i + 1][j] == 0:\n",
    "                \n",
    "                traverse(i + 1, j, direct + \"D\", 3)\n",
    "            if j > 0 and predirect != 2 and m[i][j - 1] == 1 and v[i][j - 1] == 0 :\n",
    "                \n",
    "                traverse(i, j - 1, direct + \"L\", 4)\n",
    "            if j < n - 1 and predirect != 4 and m[i][j + 1] == 1 and v[i][j + 1] == 0:\n",
    "                \n",
    "                traverse(i, j + 1, direct + \"R\", 2)\n",
    "            v[i][j] = 0 \n",
    "            return\n",
    "        if m[0][0]==1:\n",
    "            traverse(0,0,\"\",0)\n",
    "        return ans\n"
   ]
  }
 ],
 "metadata": {
  "kernelspec": {
   "display_name": "Python 3",
   "language": "python",
   "name": "python3"
  },
  "language_info": {
   "codemirror_mode": {
    "name": "ipython",
    "version": 3
   },
   "file_extension": ".py",
   "mimetype": "text/x-python",
   "name": "python",
   "nbconvert_exporter": "python",
   "pygments_lexer": "ipython3",
   "version": "3.12.3"
  }
 },
 "nbformat": 4,
 "nbformat_minor": 2
}
