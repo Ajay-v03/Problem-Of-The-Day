{
 "cells": [
  {
   "cell_type": "markdown",
   "metadata": {},
   "source": [
    "Validate an IP Address"
   ]
  },
  {
   "cell_type": "code",
   "execution_count": null,
   "metadata": {},
   "outputs": [],
   "source": [
    "'''\n",
    "You are given a string str in the form of an IPv4 Address. Your task is to validate an IPv4 Address, if it is valid return true otherwise return false.\n",
    "\n",
    "IPv4 addresses are canonically represented in dot-decimal notation, which consists of four decimal numbers, each ranging from 0 to 255, separated by dots, e.g., 172.16.254.1\n",
    "\n",
    "A valid IPv4 Address is of the form x1.x2.x3.x4 where 0 <= (x1, x2, x3, x4) <= 255. Thus, we can write the generalized form of an IPv4 address as (0-255).(0-255).(0-255).(0-255)\n",
    "\n",
    "Note: Here we are considering numbers only from 0 to 255 and any additional leading zeroes will be considered invalid.\n",
    "\n",
    "Examples :\n",
    "\n",
    "Input: str = 222.111.111.111\n",
    "Output: true\n",
    "Explanation: Here, the IPv4 address is as per the criteria mentioned and also all four decimal numbers lies in the mentioned range.\n",
    "Input: str = 5555..555\n",
    "Output: false\n",
    "Explanation: 5555..555 is not a valid. IPv4 address, as the middle two portions are missing.\n",
    "Expected Time Complexity: O(n)\n",
    "Expected Auxiliary Space: O(1)\n",
    "\n",
    "Constraints:\n",
    "1<=str.length() <=15\n",
    "\n",
    "\n",
    "'''"
   ]
  },
  {
   "cell_type": "code",
   "execution_count": 1,
   "metadata": {},
   "outputs": [],
   "source": [
    "class Solution:\n",
    "    def isValid(self, s):\n",
    "        for i in range(len(s)):\n",
    "\n",
    "            #checking illegal character\n",
    "            if s[i] != '.' and not(s[i] >= '0' and s[i] <= '9'):\n",
    "                return 0\n",
    "        s = s.split('.')\n",
    "        if len(s) != 4:\n",
    "            return 0\n",
    "        for i in range(4):\n",
    "            if len(s[i]) < 1 or len(s[i]) > 3:\n",
    "                return False\n",
    "            if int(s[i]) < 0 or int(s[i]) > 255:\n",
    "                return 0\n",
    "            if len(s[i]) >= 2 and s[i][0] == '0':\n",
    "                return 0\n",
    "        return 1"
   ]
  },
  {
   "cell_type": "code",
   "execution_count": 5,
   "metadata": {},
   "outputs": [
    {
     "name": "stdout",
     "output_type": "stream",
     "text": [
      "0\n"
     ]
    }
   ],
   "source": [
    "# Create an instance of the Solution class\n",
    "solution = Solution()\n",
    "\n",
    "# Call the method on the instance\n",
    "result = solution.isValid(s = '5555..555')\n",
    "print(result)"
   ]
  }
 ],
 "metadata": {
  "kernelspec": {
   "display_name": "Python 3",
   "language": "python",
   "name": "python3"
  },
  "language_info": {
   "codemirror_mode": {
    "name": "ipython",
    "version": 3
   },
   "file_extension": ".py",
   "mimetype": "text/x-python",
   "name": "python",
   "nbconvert_exporter": "python",
   "pygments_lexer": "ipython3",
   "version": "3.12.3"
  }
 },
 "nbformat": 4,
 "nbformat_minor": 2
}
