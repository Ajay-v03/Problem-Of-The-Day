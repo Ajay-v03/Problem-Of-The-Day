{
 "cells": [
  {
   "cell_type": "markdown",
   "metadata": {},
   "source": [
    "Spirally traversing a matrix"
   ]
  },
  {
   "cell_type": "code",
   "execution_count": null,
   "metadata": {},
   "outputs": [],
   "source": [
    "'''\n",
    "You are given a rectangular matrix, and your task is to return an array while traversing the matrix in spiral form.\n",
    "\n",
    "Examples:\n",
    "\n",
    "Input: matrix[][] = [[1, 2, 3, 4],\n",
    "                  [5, 6, 7, 8],\n",
    "                  [9, 10, 11, 12],\n",
    "                  [13, 14, 15,16]]\n",
    "Output: [1, 2, 3, 4, 8, 12, 16, 15, 14, 13, 9, 5, 6, 7, 11, 10]\n",
    "Explanation:\n",
    "\n",
    "Input: matrix[][] = [[1, 2, 3, 4],\n",
    "                  [5, 6, 7, 8],\n",
    "                  [9, 10, 11, 12]]\n",
    "Output: [1, 2, 3, 4, 8, 12, 11, 10, 9, 5, 6, 7]\n",
    "Explanation: Applying same technique as shown above, output for the 2nd testcase will be 1 2 3 4 8 12 11 10 9 5 6 7.\n",
    "Expected Time Complexity: O(n2)\n",
    "Expected Auxiliary Space: O(n2)\n",
    "\n",
    "Constraints:\n",
    "1 <= matrix.size(), matrix[0].size() <= 100\n",
    "0 <= matrix[i][j]<= 100\n",
    "\n",
    "'''"
   ]
  },
  {
   "cell_type": "code",
   "execution_count": 1,
   "metadata": {},
   "outputs": [],
   "source": [
    "class Solution:\n",
    "    # Function to return a list of integers denoting spiral traversal of matrix.\n",
    "    def spirallyTraverse(self, matrix):\n",
    "        result = []\n",
    "        while matrix:\n",
    "            result += matrix.pop(0)\n",
    "            matrix = list(zip(*matrix))[::-1]\n",
    "        return result"
   ]
  },
  {
   "cell_type": "code",
   "execution_count": 2,
   "metadata": {},
   "outputs": [
    {
     "name": "stdout",
     "output_type": "stream",
     "text": [
      "[1, 2, 3, 4, 8, 12, 16, 15, 14, 13, 9, 5, 6, 7, 11, 10]\n"
     ]
    }
   ],
   "source": [
    "# Create an instance of the Solution class\n",
    "solution = Solution()\n",
    "\n",
    "matrix = [[1, 2, 3, 4],\n",
    "                  [5, 6, 7, 8],\n",
    "                  [9, 10, 11, 12],\n",
    "                  [13, 14, 15,16]]\n",
    "\n",
    "# Call the method on the instance\n",
    "result = solution.spirallyTraverse(matrix)\n",
    "print(result)"
   ]
  }
 ],
 "metadata": {
  "kernelspec": {
   "display_name": "Python 3",
   "language": "python",
   "name": "python3"
  },
  "language_info": {
   "codemirror_mode": {
    "name": "ipython",
    "version": 3
   },
   "file_extension": ".py",
   "mimetype": "text/x-python",
   "name": "python",
   "nbconvert_exporter": "python",
   "pygments_lexer": "ipython3",
   "version": "3.12.3"
  }
 },
 "nbformat": 4,
 "nbformat_minor": 2
}
