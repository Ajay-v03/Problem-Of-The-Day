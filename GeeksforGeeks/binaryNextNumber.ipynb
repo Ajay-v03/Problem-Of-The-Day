{
 "cells": [
  {
   "cell_type": "markdown",
   "metadata": {},
   "source": [
    "Binary representation of next number"
   ]
  },
  {
   "cell_type": "markdown",
   "metadata": {},
   "source": [
    "Given a binary representation in the form of a string(s) of a number n, the task is to find a binary representation of n+1.\n",
    "\n",
    "Note: Output binary string should not contain leading zeros.\n",
    "\n",
    "Example 1:\n",
    "\n",
    "Input: s = \"10\"\n",
    "Output: 11\n",
    "Explanation: \"10\" is the binary representation of 2 and binary representation of 3 is \"11\"\n",
    "Example 2:\n",
    "\n",
    "Input: s = \"111\"\n",
    "Output: 1000\n",
    "Explanation: \"111\" is the binary representation of 7 and binary representation of 8 is \"1000\"\n",
    "Your Task:  \n",
    "You don't need to read input or print anything. Complete the function binaryNextNumber()which takes s as input parameter and returns the string.\n",
    "\n",
    "Expected Time Complexity: O(n)\n",
    "Expected Auxiliary Space: O(n) to store resultant string  \n",
    "\n",
    "Constraints:\n",
    "1 <= n <= 105\n",
    "\n"
   ]
  },
  {
   "cell_type": "code",
   "execution_count": 1,
   "metadata": {},
   "outputs": [],
   "source": [
    "class Solution:\n",
    "    def binaryNextNumber(self, s):\n",
    "        res = int(s,2)\n",
    "        b = bin(res+1)[2:]\n",
    "        return b"
   ]
  },
  {
   "cell_type": "code",
   "execution_count": 3,
   "metadata": {},
   "outputs": [
    {
     "name": "stdout",
     "output_type": "stream",
     "text": [
      "1000\n"
     ]
    }
   ],
   "source": [
    "# Create an instance of the Solution class\n",
    "solution = Solution()\n",
    "\n",
    "s = \"111\"\n",
    "\n",
    "# Call the method on the instance\n",
    "result = solution.binaryNextNumber(s)\n",
    "print(result)"
   ]
  }
 ],
 "metadata": {
  "kernelspec": {
   "display_name": "Python 3",
   "language": "python",
   "name": "python3"
  },
  "language_info": {
   "codemirror_mode": {
    "name": "ipython",
    "version": 3
   },
   "file_extension": ".py",
   "mimetype": "text/x-python",
   "name": "python",
   "nbconvert_exporter": "python",
   "pygments_lexer": "ipython3",
   "version": "3.12.3"
  }
 },
 "nbformat": 4,
 "nbformat_minor": 2
}
