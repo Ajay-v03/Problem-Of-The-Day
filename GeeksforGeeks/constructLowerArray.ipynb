{
 "cells": [
  {
   "cell_type": "markdown",
   "metadata": {},
   "source": [
    "Count Smaller elements"
   ]
  },
  {
   "cell_type": "code",
   "execution_count": null,
   "metadata": {},
   "outputs": [],
   "source": [
    "'''\n",
    "Given an array arr containing non-negative integers. Count and return an array ans where ans[i] denotes the number of smaller elements on right side of arr[i].\n",
    "\n",
    "Examples:\n",
    "\n",
    "Input: arr[] = [12, 1, 2, 3, 0, 11, 4]\n",
    "Output: [6, 1, 1, 1, 0, 1, 0]\n",
    "Explanation: There are 6 smaller elements right after 12. There is 1 smaller element right after 1. And so on.\n",
    "Input: arr[] = [1, 2, 3, 4, 5]\n",
    "Output: [0, 0, 0, 0, 0]\n",
    "Explanation: There are 0 smaller elements right after 1. There are 0 smaller elements right after 2. And so on.\n",
    "Expected Time Complexity: O(n*logn)\n",
    "Expected Auxiliary Space: O(n)\n",
    "\n",
    "Constraints:\n",
    "1 ≤ arr.size() ≤ 106\n",
    "0 ≤ arr[i]  ≤ 108\n",
    "'''"
   ]
  },
  {
   "cell_type": "code",
   "execution_count": null,
   "metadata": {},
   "outputs": [],
   "source": [
    "from sortedcontainers import SortedList\n",
    "class Solution:\n",
    "    def constructLowerArray(self, arr):\n",
    "\n",
    "        l = SortedList()\n",
    "        output = [0] * len(arr)\n",
    "        for i in reversed(range(len(arr))):\n",
    "            l.add(arr[i])\n",
    "            output[i] = l.index(arr[i])\n",
    "        return output\n"
   ]
  },
  {
   "cell_type": "code",
   "execution_count": null,
   "metadata": {},
   "outputs": [],
   "source": [
    "# Create an instance of the Solution class\n",
    "solution = Solution()\n",
    "\n",
    "# Call the method on the instance\n",
    "result = solution.constructLowerArray(arr = [12, 1, 2, 3, 0, 11, 4])\n",
    "print(result)"
   ]
  }
 ],
 "metadata": {
  "language_info": {
   "name": "python"
  }
 },
 "nbformat": 4,
 "nbformat_minor": 2
}
