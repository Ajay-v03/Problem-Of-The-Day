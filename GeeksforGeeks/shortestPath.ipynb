{
 "cells": [
  {
   "cell_type": "markdown",
   "metadata": {},
   "source": [
    "Shortest Path in Weighted undirected graph"
   ]
  },
  {
   "cell_type": "code",
   "execution_count": null,
   "metadata": {},
   "outputs": [],
   "source": [
    "'''\n",
    "You are given a weighted undirected graph having n vertices numbered from 1 to n and m edges along with their weights. Find the shortest path between the vertex 1 and the vertex n,  if there exists a path, and return a list of integers whose first element is the weight of the path, and the rest consist of the nodes on that path. If no path exists, then return a list containing a single element -1.\n",
    "\n",
    "The input list of edges is as follows - {a, b, w}, denoting there is an edge between a and b, and w is the weight of that edge.\n",
    "\n",
    "Note: The driver code here will first check if the weight of the path returned is equal to the sum of the weights along the nodes on that path, if equal it will output the weight of the path, else -2. In case the list contains only a single element (-1) it will simply output -1. \n",
    "\n",
    "Examples :\n",
    "\n",
    "Input: n = 5, m= 6, edges = [[1, 2, 2], [2, 5, 5], [2, 3, 4], [1, 4, 1], [4, 3, 3], [3, 5, 1]]\n",
    "Output: 5\n",
    "Explanation: Shortest path from 1 to n is by the path 1 4 3 5 whose weight is 5. \n",
    "Input: n = 2, m= 1, edges = [[1, 2, 2]]\n",
    "Output: 2\n",
    "Explanation: Shortest path from 1 to 2 is by the path 1 2 whose weight is 2. \n",
    "Input: n = 2, m= 0, edges = [ ]\n",
    "Output: -1\n",
    "Explanation: Since there are no edges, so no answer is possible.\n",
    "Expected Time Complexity: O(m* log(n))\n",
    "Expected Space Complexity: O(n+m)\n",
    "\n",
    "Constraint:\n",
    "2 <= n <= 106\n",
    "0 <= m <= 106\n",
    "1 <= a, b <= n\n",
    "1 <= w <= 105\n",
    "\n",
    "\n",
    "\n",
    "'''"
   ]
  },
  {
   "cell_type": "code",
   "execution_count": 1,
   "metadata": {},
   "outputs": [],
   "source": [
    "import heapq\n",
    "from collections import defaultdict\n",
    "import sys\n",
    "from typing import List\n",
    "\n",
    "class Solution:\n",
    "    def shortestPath(self, n: int, m: int, edges: List[List[int]]) -> List[int]:\n",
    "        if n == 1:\n",
    "            return [0, 1]  # Single node graph, path from node 1 to itself\n",
    "\n",
    "        graph = defaultdict(list)\n",
    "        for u, v, w in edges:\n",
    "            graph[u].append((v, w))\n",
    "            graph[v].append((u, w))\n",
    "        \n",
    "        # Dijkstra's Algorithm\n",
    "        distances = {i: sys.maxsize for i in range(1, n + 1)}\n",
    "        distances[1] = 0\n",
    "        priority_queue = [(0, 1)]  # (distance, node)\n",
    "        parent = {1: None}\n",
    "        \n",
    "        while priority_queue:\n",
    "            current_distance, current_node = heapq.heappop(priority_queue)\n",
    "            \n",
    "            if current_distance > distances[current_node]:\n",
    "                continue\n",
    "            \n",
    "            for neighbor, weight in graph[current_node]:\n",
    "                distance = current_distance + weight\n",
    "                \n",
    "                if distance < distances[neighbor]:\n",
    "                    distances[neighbor] = distance\n",
    "                    parent[neighbor] = current_node\n",
    "                    heapq.heappush(priority_queue, (distance, neighbor))\n",
    "        \n",
    "        if distances[n] == sys.maxsize:\n",
    "            return [-1]\n",
    "        \n",
    "        # Reconstruct path from 1 to n\n",
    "        path = []\n",
    "        current = n\n",
    "        while current is not None:\n",
    "            path.append(current)\n",
    "            current = parent[current]\n",
    "        path.reverse()\n",
    "        \n",
    "        return [distances[n]] + path\n",
    "        "
   ]
  },
  {
   "cell_type": "code",
   "execution_count": 2,
   "metadata": {},
   "outputs": [
    {
     "name": "stdout",
     "output_type": "stream",
     "text": [
      "[5, 1, 4, 3, 5]\n"
     ]
    }
   ],
   "source": [
    "# Create an instance of the Solution class\n",
    "solution = Solution()\n",
    "\n",
    "n = 5\n",
    "m= 6\n",
    "edges = [[1, 2, 2], [2, 5, 5], [2, 3, 4], [1, 4, 1], [4, 3, 3], [3, 5, 1]]\n",
    "# Call the method on the instance\n",
    "result = solution.shortestPath(n,m,edges)\n",
    "print(result)"
   ]
  }
 ],
 "metadata": {
  "kernelspec": {
   "display_name": "Python 3",
   "language": "python",
   "name": "python3"
  },
  "language_info": {
   "codemirror_mode": {
    "name": "ipython",
    "version": 3
   },
   "file_extension": ".py",
   "mimetype": "text/x-python",
   "name": "python",
   "nbconvert_exporter": "python",
   "pygments_lexer": "ipython3",
   "version": "3.12.3"
  }
 },
 "nbformat": 4,
 "nbformat_minor": 2
}
