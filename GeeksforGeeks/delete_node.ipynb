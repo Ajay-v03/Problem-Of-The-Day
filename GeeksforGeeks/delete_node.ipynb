{
 "cells": [
  {
   "cell_type": "markdown",
   "metadata": {},
   "source": [
    "Delete node in Doubly Linked List"
   ]
  },
  {
   "cell_type": "code",
   "execution_count": null,
   "metadata": {},
   "outputs": [],
   "source": [
    "'''\n",
    "Given a doubly Linked list and a position. The task is to delete a node from a given position (position starts from 1) in a doubly linked list and return the head of the doubly Linked list.\n",
    "\n",
    "Examples:\n",
    "\n",
    "Input: LinkedList = 1 <--> 3 <--> 4, x = 3\n",
    "Output: 1 3  \n",
    "Explanation: \n",
    "After deleting the node at position 3 (position starts from 1),the linked list will be now as 1 <--> 3.\n",
    " \n",
    "Input: LinkedList = 1 <--> 5 <--> 2 <--> 9, x = 1\n",
    "Output: 5 2 9\n",
    "Explanation:\n",
    "\n",
    "Expected Time Complexity: O(n)\n",
    "Expected Auxilliary Space: O(1)\n",
    "\n",
    "Constraints:\n",
    "2 <= size of the linked list(n) <= 105\n",
    "1 <= x <= n\n",
    "1 <= node.data <= 109\n",
    "\n",
    "'''"
   ]
  },
  {
   "cell_type": "code",
   "execution_count": null,
   "metadata": {},
   "outputs": [],
   "source": [
    "class Node:\n",
    "    def __init__(self, data):\n",
    "        self.data = data\n",
    "        self.next = None\n",
    "        self.prev = None\n",
    "\n",
    "class Solution:\n",
    "    def delete_node(self, head, x):\n",
    "        if head is None or x <= 0:\n",
    "            return head\n",
    "\n",
    "        current = head\n",
    "\n",
    "        if x == 1:\n",
    "            head = current.next\n",
    "            if head:\n",
    "                head.prev = None\n",
    "            current = None\n",
    "            return head\n",
    "\n",
    "        for _ in range(x - 1):\n",
    "            current = current.next\n",
    "            if current is None:\n",
    "                return head\n",
    "\n",
    "\n",
    "        if current.next:\n",
    "            current.next.prev = current.prev\n",
    "\n",
    "        if current.prev:\n",
    "            current.prev.next = current.next\n",
    "\n",
    "        current = None\n",
    "        return head"
   ]
  },
  {
   "cell_type": "code",
   "execution_count": null,
   "metadata": {},
   "outputs": [],
   "source": [
    "# Create an instance of the Solution class\n",
    "solution = Solution()\n",
    "\n",
    "head = [1,2,3,4]\n",
    "x = 3\n",
    "# Call the method on the instance\n",
    "result = solution.delete_node(head,x)\n",
    "print(result)"
   ]
  }
 ],
 "metadata": {
  "kernelspec": {
   "display_name": "Python 3",
   "language": "python",
   "name": "python3"
  },
  "language_info": {
   "codemirror_mode": {
    "name": "ipython",
    "version": 3
   },
   "file_extension": ".py",
   "mimetype": "text/x-python",
   "name": "python",
   "nbconvert_exporter": "python",
   "pygments_lexer": "ipython3",
   "version": "3.12.3"
  }
 },
 "nbformat": 4,
 "nbformat_minor": 2
}
