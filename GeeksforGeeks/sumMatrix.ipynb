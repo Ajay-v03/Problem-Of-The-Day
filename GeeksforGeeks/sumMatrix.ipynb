{
 "cells": [
  {
   "cell_type": "markdown",
   "metadata": {},
   "source": [
    "Summed Matrix"
   ]
  },
  {
   "cell_type": "code",
   "execution_count": null,
   "metadata": {},
   "outputs": [],
   "source": [
    "'''\n",
    "A matrix is constructed of size n*n and given an integer ‘q’. The value at every cell of the matrix is given as, M(i,j) = i+j, where ‘M(i,j)' is the value of a cell, ‘i’ is the row number, and ‘j’ is the column number. Return the number of cells having value ‘q’.\n",
    "\n",
    "Note: Assume, the array is in 1-based indexing.\n",
    "\n",
    "Examples:\n",
    "\n",
    "Input: n = 4, q = 7\n",
    "Output: 2\n",
    "Explanation: Matrix becomes\n",
    "2 3 4 5 \n",
    "3 4 5 6 \n",
    "4 5 6 7\n",
    "5 6 7 8\n",
    "The count of 7 is 2.\n",
    "Input: n = 5, q = 4\n",
    "Output: 3\n",
    "Explanation: Matrix becomes\n",
    "2 3 4 5 6 \n",
    "3 4 5 6 7 \n",
    "4 5 6 7 8 \n",
    "5 6 7 8 9 \n",
    "6 7 8 9 10 \n",
    "The count of 4 is 3.\n",
    "Expected Time Complexity: O(1)\n",
    "Expected Auxiliary Space: O(1)\n",
    "\n",
    "Constraints:\n",
    "1 ≤ n,q ≤ 1018\n",
    "\n",
    "'''"
   ]
  },
  {
   "cell_type": "code",
   "execution_count": 1,
   "metadata": {},
   "outputs": [],
   "source": [
    "class Solution:\n",
    "    def sumMatrix(self, n, q):\n",
    "        if q < 1 or q > 2 * n:\n",
    "            return 0\n",
    "        if q <= n:\n",
    "            return min(q - 1, n)\n",
    "        else:\n",
    "            return min(n, 2 * n - q + 1)"
   ]
  },
  {
   "cell_type": "code",
   "execution_count": 2,
   "metadata": {},
   "outputs": [
    {
     "name": "stdout",
     "output_type": "stream",
     "text": [
      "2\n"
     ]
    }
   ],
   "source": [
    "# Create an instance of the Solution class\n",
    "solution = Solution()\n",
    "\n",
    "n = 4\n",
    "q = 7\n",
    "# Call the method on the instance\n",
    "result = solution.sumMatrix(n,q)\n",
    "print(result)"
   ]
  }
 ],
 "metadata": {
  "kernelspec": {
   "display_name": "Python 3",
   "language": "python",
   "name": "python3"
  },
  "language_info": {
   "codemirror_mode": {
    "name": "ipython",
    "version": 3
   },
   "file_extension": ".py",
   "mimetype": "text/x-python",
   "name": "python",
   "nbconvert_exporter": "python",
   "pygments_lexer": "ipython3",
   "version": "3.12.3"
  }
 },
 "nbformat": 4,
 "nbformat_minor": 2
}
