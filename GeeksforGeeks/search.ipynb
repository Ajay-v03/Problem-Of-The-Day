{
 "cells": [
  {
   "cell_type": "markdown",
   "metadata": {},
   "source": [
    "Search in Rotated Sorted Array"
   ]
  },
  {
   "cell_type": "code",
   "execution_count": null,
   "metadata": {},
   "outputs": [],
   "source": [
    "'''\n",
    "Given a sorted (in ascending order) and rotated array arr of distinct elements which may be rotated at some point and given an element key, the task is to find the index of the given element key in the array arr. The whole array arr is given as the range to search.\n",
    "\n",
    "Rotation shifts elements of the array by a certain number of positions, with elements that fall off one end reappearing at the other end.\n",
    "\n",
    "Note:- 0-based indexing is followed & returns -1 if the key is not present.\n",
    "\n",
    "Examples :\n",
    "\n",
    "Input: arr[] = [5, 6, 7, 8, 9, 10, 1, 2, 3], key = 10\n",
    "Output: 5\n",
    "Explanation: 10 is found at index 5.\n",
    "Input: arr[] = [3, 5, 1, 2], key = 6\n",
    "Output: -1\n",
    "Explanation: There is no element that has value 6.\n",
    "Expected Time Complexity: O(log n)\n",
    "Expected Auxiliary Space: O(1)\n",
    "\n",
    "Constraints:\n",
    "1 ≤ arr.size() ≤ 106\n",
    "0 ≤ arr[i] ≤ 106\n",
    "1 ≤ key ≤ 105\n",
    "\n",
    "'''"
   ]
  },
  {
   "cell_type": "code",
   "execution_count": 1,
   "metadata": {},
   "outputs": [],
   "source": [
    "class Solution:\n",
    "    def search(self,arr,key):\n",
    "        low , high = 0 , len(arr)-1\n",
    "        while low <= high:\n",
    "            mi = (low + high) //2\n",
    "            if arr[mi] == key:\n",
    "                return mi\n",
    "            if arr[mi] >= arr[low]:\n",
    "                if arr[low] <= key and arr[mi]> key:\n",
    "                    high = mi -1\n",
    "                else:\n",
    "                    low = mi + 1\n",
    "            else:\n",
    "                if arr[mi] < key and arr[high] >= key:\n",
    "                    low = mi + 1\n",
    "                else:\n",
    "                    high = mi -1\n",
    "        return -1"
   ]
  },
  {
   "cell_type": "code",
   "execution_count": 2,
   "metadata": {},
   "outputs": [
    {
     "name": "stdout",
     "output_type": "stream",
     "text": [
      "5\n"
     ]
    }
   ],
   "source": [
    "# Create an instance of the Solution class\n",
    "solution = Solution()\n",
    "\n",
    "arr= [5, 6, 7, 8, 9, 10, 1, 2, 3]\n",
    "key = 10\n",
    "# Call the method on the instance\n",
    "result = solution.search(arr, key)\n",
    "print(result)"
   ]
  }
 ],
 "metadata": {
  "kernelspec": {
   "display_name": "Python 3",
   "language": "python",
   "name": "python3"
  },
  "language_info": {
   "codemirror_mode": {
    "name": "ipython",
    "version": 3
   },
   "file_extension": ".py",
   "mimetype": "text/x-python",
   "name": "python",
   "nbconvert_exporter": "python",
   "pygments_lexer": "ipython3",
   "version": "3.12.3"
  }
 },
 "nbformat": 4,
 "nbformat_minor": 2
}
