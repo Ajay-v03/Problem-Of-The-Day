{
 "cells": [
  {
   "cell_type": "markdown",
   "metadata": {},
   "source": [
    "Root to leaf path sum"
   ]
  },
  {
   "cell_type": "code",
   "execution_count": null,
   "metadata": {},
   "outputs": [],
   "source": [
    "'''\n",
    "Given a binary tree and an integer target, check whether there is a root-to-leaf path with its sum as target.\n",
    "\n",
    "Examples :\n",
    "\n",
    "Input: tree = 1, target = 2\n",
    "            /   \\\n",
    "          2     3\n",
    "Output: false\n",
    "Explanation: There is no root to leaf path with sum 2.\n",
    "Input: tree = 1,  target = 4\n",
    "            /   \\\n",
    "          2     3\n",
    "Output: true\n",
    "Explanation: The sum of path from leaf node 3 to root 1 is 4.\n",
    "Expected Time Complexity: O(n)\n",
    "Expected Auxiliary Space: O(height of tree)\n",
    "\n",
    "Constraints:\n",
    "1 ≤ number of nodes ≤ 104\n",
    "1 ≤ target ≤ 106\n",
    "'''"
   ]
  },
  {
   "cell_type": "code",
   "execution_count": 1,
   "metadata": {},
   "outputs": [],
   "source": [
    "#User function Template for python3\n",
    "'''\n",
    "class Node:\n",
    "    def __init__(self,val):\n",
    "        self.data = val\n",
    "        self.left = None\n",
    "        self.right = None\n",
    "'''\n",
    "\n",
    "\n",
    "class Solution:\n",
    "\n",
    "    def hasPathSum(self, root, target):\n",
    "        '''\n",
    "        :param root: root of given tree.\n",
    "        :param sm: root to leaf sum\n",
    "        :return: true or false\n",
    "        '''\n",
    "        def f(root,s):\n",
    "            if not root:\n",
    "                return\n",
    "            s += root.data\n",
    "            if s == target and not root.left and not root.right:\n",
    "                return True\n",
    "            if s != target and (not root.left and not root.right):\n",
    "                return False\n",
    "            \n",
    "            l = f(root.left,s)\n",
    "            r = f(root.right,s)\n",
    "            \n",
    "            return l or r\n",
    "            \n",
    "                \n",
    "        return f(root,0)"
   ]
  }
 ],
 "metadata": {
  "kernelspec": {
   "display_name": "Python 3",
   "language": "python",
   "name": "python3"
  },
  "language_info": {
   "codemirror_mode": {
    "name": "ipython",
    "version": 3
   },
   "file_extension": ".py",
   "mimetype": "text/x-python",
   "name": "python",
   "nbconvert_exporter": "python",
   "pygments_lexer": "ipython3",
   "version": "3.12.3"
  }
 },
 "nbformat": 4,
 "nbformat_minor": 2
}
