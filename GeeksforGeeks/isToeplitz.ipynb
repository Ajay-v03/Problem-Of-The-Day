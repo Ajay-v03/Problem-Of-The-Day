{
 "cells": [
  {
   "cell_type": "markdown",
   "metadata": {},
   "source": [
    "Toeplitz matrix"
   ]
  },
  {
   "cell_type": "code",
   "execution_count": null,
   "metadata": {},
   "outputs": [],
   "source": [
    "'''\n",
    "A Toeplitz (or diagonal-constant) matrix is a matrix in which each descending diagonal from left to right is constant, i.e., all elements in a diagonal are the same. Given a rectangular matrix mat, your task is to complete the function isToeplitz which returns true if the matrix is Toeplitz otherwise, it returns false.\n",
    "\n",
    "Examples:\n",
    "\n",
    "Input:\n",
    "mat = [[6, 7, 8],\n",
    "       [4, 6, 7],\n",
    "       [1, 4, 6]]\n",
    "Output: true\n",
    "Explanation: The test case represents a 3x3 matrix\n",
    " 6 7 8 \n",
    " 4 6 7 \n",
    " 1 4 6\n",
    "Output will be true, as values in all downward diagonals from left to right contain the same elements.\n",
    "Input: \n",
    "mat = [[1,2,3],\n",
    "       [4,5,6]]\n",
    "Output: false\n",
    "Explanation: Matrix of order 2x3 will be 1 2 3 4 5 6 Output: false as values in all diagonals are not the same.\n",
    "Constraints:\n",
    "1<=mat.size,mat[0].size<=40\n",
    "0<=mat[i][j]<=100\n",
    "\n",
    "Expected time complexity: O(n*m)\n",
    "Expected space complexity: O(1)\n",
    "\n",
    "\n",
    "'''"
   ]
  },
  {
   "cell_type": "code",
   "execution_count": 1,
   "metadata": {},
   "outputs": [],
   "source": [
    "def isToepliz(mat):\n",
    "    n=len(mat)\n",
    "    m=len(mat[0])\n",
    "    for x in range(-n+2,m-1):\n",
    "        cur=-1\n",
    "        for y in range(n):\n",
    "            nx=x+y\n",
    "            if nx<0:\n",
    "                continue\n",
    "            if nx>=m:\n",
    "                break\n",
    "            if cur<0:\n",
    "                cur=mat[y][nx]\n",
    "            elif cur!=mat[y][nx]:\n",
    "                return False\n",
    "    return True"
   ]
  },
  {
   "cell_type": "code",
   "execution_count": 2,
   "metadata": {},
   "outputs": [
    {
     "data": {
      "text/plain": [
       "True"
      ]
     },
     "execution_count": 2,
     "metadata": {},
     "output_type": "execute_result"
    }
   ],
   "source": [
    "mat = [[6, 7, 8],\n",
    "       [4, 6, 7],\n",
    "       [1, 4, 6]]\n",
    "\n",
    "isToepliz(mat)"
   ]
  }
 ],
 "metadata": {
  "kernelspec": {
   "display_name": "Python 3",
   "language": "python",
   "name": "python3"
  },
  "language_info": {
   "codemirror_mode": {
    "name": "ipython",
    "version": 3
   },
   "file_extension": ".py",
   "mimetype": "text/x-python",
   "name": "python",
   "nbconvert_exporter": "python",
   "pygments_lexer": "ipython3",
   "version": "3.12.3"
  }
 },
 "nbformat": 4,
 "nbformat_minor": 2
}
