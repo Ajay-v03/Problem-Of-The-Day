{
 "cells": [
  {
   "cell_type": "markdown",
   "metadata": {},
   "source": [
    "Remove all occurences of duplicates in a linked list"
   ]
  },
  {
   "cell_type": "code",
   "execution_count": null,
   "metadata": {},
   "outputs": [],
   "source": [
    "'''\n",
    "Given a sorted linked list, delete all nodes that have duplicate numbers (all occurrences), leaving only numbers that appear once in the original list, and return the head of the modified linked list. \n",
    "\n",
    "Examples:\n",
    "\n",
    "Input: Linked List = 23->28->28->35->49->49->53->53\n",
    "Output: 23 35\n",
    "Explanation: \n",
    "\n",
    "The duplicate numbers are 28, 49 and 53 which are removed from the list.\n",
    "Input: Linked List = 11->11->11->11->75->75\n",
    "Output: Empty list\n",
    "Explanation: \n",
    "\n",
    "All the nodes in the linked list have duplicates. Hence the resultant list would be empty.\n",
    "Expected Time Complexity: O(n)\n",
    "Expected Auxiliary Space: O(1)\n",
    "Constraints:\n",
    "1 ≤ size(list) ≤ 105\n",
    "\n",
    "'''"
   ]
  },
  {
   "cell_type": "code",
   "execution_count": 1,
   "metadata": {},
   "outputs": [],
   "source": [
    "# Linked list Node class\n",
    "\n",
    "class Node :\n",
    "    def __init__(self, val):\n",
    "        self.data = val\n",
    "        self.next = None\n",
    "\n",
    "class Solution:\n",
    "    def removeAllDuplicates(self, head):\n",
    "        #code here\n",
    "        dummy = Node(0)\n",
    "        temp = dummy\n",
    "        while head:\n",
    "            flag = 0\n",
    "            while head.next and head.next.data == head.data:\n",
    "                flag = 1\n",
    "                head = head.next\n",
    "            if flag == 0:\n",
    "                temp.next = head\n",
    "                temp = temp.next\n",
    "            head = head.next\n",
    "        temp.next = None\n",
    "            \n",
    "        return dummy.next\n"
   ]
  }
 ],
 "metadata": {
  "kernelspec": {
   "display_name": "Python 3",
   "language": "python",
   "name": "python3"
  },
  "language_info": {
   "codemirror_mode": {
    "name": "ipython",
    "version": 3
   },
   "file_extension": ".py",
   "mimetype": "text/x-python",
   "name": "python",
   "nbconvert_exporter": "python",
   "pygments_lexer": "ipython3",
   "version": "3.12.3"
  }
 },
 "nbformat": 4,
 "nbformat_minor": 2
}
