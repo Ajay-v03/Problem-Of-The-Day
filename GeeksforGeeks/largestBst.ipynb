{
 "cells": [
  {
   "cell_type": "markdown",
   "metadata": {},
   "source": [
    "Largest BST"
   ]
  },
  {
   "cell_type": "code",
   "execution_count": null,
   "metadata": {},
   "outputs": [],
   "source": [
    "'''\n",
    "Given a binary tree. Find the size of its largest subtree which is a Binary Search Tree.\n",
    "Note: Here Size equals the number of nodes in the subtree.\n",
    "\n",
    "Examples :\n",
    "\n",
    "Input:   1\n",
    "        /  \\\n",
    "        4   4              \n",
    "       / \\ \n",
    "      6   8\n",
    "Output: 1 \n",
    "Explanation: There's no sub-tree with size greater than 1 which forms a BST. All the leaf Nodes are the BSTs with size equal to 1.\n",
    "\n",
    "Input:    6\n",
    "        /   \\\n",
    "      6      2              \n",
    "       \\    / \\\n",
    "        2  1   3\n",
    "Output: 3\n",
    "Explanation: The following sub-tree is a BST of size 3:  2\n",
    "                                                       /   \\\n",
    "                                                      1     3\n",
    "Expected Time Complexity: O(n).\n",
    "Expected Auxiliary Space: O(Height of the BST).\n",
    "\n",
    "Constraints:\n",
    "1 ≤ Number of nodes ≤ 105\n",
    "1 ≤ Data of a node ≤ 106\n",
    "\n",
    "'''"
   ]
  },
  {
   "cell_type": "code",
   "execution_count": 1,
   "metadata": {},
   "outputs": [],
   "source": [
    "class Solution:\n",
    "    def largestBst(self, root):\n",
    "        def fun(node):\n",
    "            if not node:\n",
    "                return True, 0, float(\"inf\"), float(\"-inf\")\n",
    "            \n",
    "            left, lsize, lmin, lmax = fun(node.left)\n",
    "            right, rsize, rmin, rmax = fun(node.right)\n",
    "            \n",
    "            if left and right and lmax<node.data<rmin:\n",
    "                return True, 1+lsize+rsize, min(lmin, node.data), max(node.data, rmax)\n",
    "            return False, max(lsize, rsize), 0, 0\n",
    "        \n",
    "        return fun(root)[1]"
   ]
  }
 ],
 "metadata": {
  "kernelspec": {
   "display_name": "Python 3",
   "language": "python",
   "name": "python3"
  },
  "language_info": {
   "codemirror_mode": {
    "name": "ipython",
    "version": 3
   },
   "file_extension": ".py",
   "mimetype": "text/x-python",
   "name": "python",
   "nbconvert_exporter": "python",
   "pygments_lexer": "ipython3",
   "version": "3.12.3"
  }
 },
 "nbformat": 4,
 "nbformat_minor": 2
}
