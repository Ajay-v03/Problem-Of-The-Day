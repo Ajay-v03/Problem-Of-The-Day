{
 "cells": [
  {
   "cell_type": "markdown",
   "metadata": {},
   "source": [
    "Form a palindrome"
   ]
  },
  {
   "cell_type": "code",
   "execution_count": null,
   "metadata": {},
   "outputs": [],
   "source": [
    "'''\n",
    "Given a string, find the minimum number of characters to be inserted to convert it to a palindrome.\n",
    "\n",
    "Examples :\n",
    "\n",
    "Input: str = \"abcd\"\n",
    "Output: 3\n",
    "Explanation: Inserted character marked with bold characters in dcbabcd, here we need minimum three characters to make it palindrome.\n",
    "Input: str = \"aa\"\n",
    "Output: 0\n",
    "Explanation: \"aa\" is already a palindrome.\n",
    "Expected Time Complexity: O(n2)\n",
    "Expected Auxiliary Space: O(n2)\n",
    "\n",
    "Constraints:\n",
    "1 ≤ |str| ≤ 500\n",
    "str contains only lowercase alphabets.\n",
    "'''"
   ]
  },
  {
   "cell_type": "code",
   "execution_count": 1,
   "metadata": {},
   "outputs": [],
   "source": [
    "class Solution:\n",
    " def countMin(self, Str):\n",
    "        s1 = Str\n",
    "        n = len(s1)\n",
    "        s2 = s1[::-1]\n",
    "        dp = [[0 for i in range(n+1)] for j in range(n+1)]\n",
    "\n",
    "        for i in range(n-1,-1,-1):\n",
    "            for j in range(n-1,-1,-1):\n",
    "                if s1[i] == s2[j]:\n",
    "                    dp[i][j] = 1 + dp[i+1][j+1]\n",
    "                else:\n",
    "                    dp[i][j] = max(dp[i+1][j], dp[i][j+1])\n",
    "        return n - dp[0][0]"
   ]
  },
  {
   "cell_type": "code",
   "execution_count": 3,
   "metadata": {},
   "outputs": [
    {
     "name": "stdout",
     "output_type": "stream",
     "text": [
      "3\n"
     ]
    }
   ],
   "source": [
    "# Create an instance of the Solution class\n",
    "solution = Solution()\n",
    "\n",
    "# Call the method on the instance\n",
    "result = solution.countMin(Str = \"abcd\")\n",
    "print(result)"
   ]
  }
 ],
 "metadata": {
  "kernelspec": {
   "display_name": "Python 3",
   "language": "python",
   "name": "python3"
  },
  "language_info": {
   "codemirror_mode": {
    "name": "ipython",
    "version": 3
   },
   "file_extension": ".py",
   "mimetype": "text/x-python",
   "name": "python",
   "nbconvert_exporter": "python",
   "pygments_lexer": "ipython3",
   "version": "3.12.3"
  }
 },
 "nbformat": 4,
 "nbformat_minor": 2
}
