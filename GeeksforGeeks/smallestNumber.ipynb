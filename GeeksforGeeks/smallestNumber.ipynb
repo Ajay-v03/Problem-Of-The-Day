{
 "cells": [
  {
   "cell_type": "markdown",
   "metadata": {},
   "source": [
    "Smallest Number"
   ]
  },
  {
   "cell_type": "code",
   "execution_count": null,
   "metadata": {},
   "outputs": [],
   "source": [
    "'''\n",
    "Given two integers s and d. The task is to find the smallest number such that the sum of its digits is s and the number of digits in the number are d. Return a string that is the smallest possible number. If it is not possible then return -1.\n",
    "\n",
    "Examples:\n",
    "\n",
    "Input: s = 9, d = 2\n",
    "Output: 18 \n",
    "Explanation: 18 is the smallest number possible with the sum of digits = 9 and total digits = 2.\n",
    "Input: s = 20, d = 3 \n",
    "Output: 299 \n",
    "Explanation: 299 is the smallest number possible with the sum of digits = 20 and total digits = 3.\n",
    "Expected Time Complexity: O(d)\n",
    "Expected Auxiliary Space: O(1)\n",
    "\n",
    "Constraints:\n",
    "1 ≤ s ≤ 100\n",
    "1 ≤ d ≤ 6\n",
    "\n",
    "'''"
   ]
  },
  {
   "cell_type": "code",
   "execution_count": 1,
   "metadata": {},
   "outputs": [],
   "source": [
    "class Solution:\n",
    "    def smallestNumber(self, s, d):\n",
    "        # code here\n",
    "        def sum(n):\n",
    "            res=0\n",
    "            while n>0:\n",
    "                res+=(n%10)\n",
    "                n=n//10\n",
    "            return res\n",
    "        \n",
    "        \n",
    "        mini=10**(d-1)\n",
    "        maxi=10**(d)\n",
    "        \n",
    "        for i in range(mini,maxi):\n",
    "            if s==sum(i):\n",
    "                return i\n",
    "        return -1"
   ]
  },
  {
   "cell_type": "code",
   "execution_count": 2,
   "metadata": {},
   "outputs": [
    {
     "name": "stdout",
     "output_type": "stream",
     "text": [
      "18\n"
     ]
    }
   ],
   "source": [
    "# Create an instance of the Solution class\n",
    "solution = Solution()\n",
    "\n",
    "# Call the method on the instance\n",
    "result = solution.smallestNumber(s = 9, d = 2)\n",
    "print(result)"
   ]
  }
 ],
 "metadata": {
  "kernelspec": {
   "display_name": "Python 3",
   "language": "python",
   "name": "python3"
  },
  "language_info": {
   "codemirror_mode": {
    "name": "ipython",
    "version": 3
   },
   "file_extension": ".py",
   "mimetype": "text/x-python",
   "name": "python",
   "nbconvert_exporter": "python",
   "pygments_lexer": "ipython3",
   "version": "3.12.3"
  }
 },
 "nbformat": 4,
 "nbformat_minor": 2
}
