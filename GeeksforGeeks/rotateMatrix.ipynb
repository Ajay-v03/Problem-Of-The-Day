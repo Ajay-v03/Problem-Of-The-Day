{
 "cells": [
  {
   "cell_type": "markdown",
   "metadata": {},
   "source": [
    "Left Rotate Matrix K times"
   ]
  },
  {
   "cell_type": "code",
   "execution_count": null,
   "metadata": {},
   "outputs": [],
   "source": [
    "'''\n",
    "You are given an integer k and matrix mat. Rotate the elements of the given matrix to the left k times and return the resulting matrix.\n",
    "\n",
    "Examples:\n",
    "\n",
    "Input: k=1, mat=[[1,2,3],[4,5,6],[7,8,9]]\n",
    "Output:\n",
    "2 3 1\n",
    "5 6 4\n",
    "8 9 7\n",
    "Explanation: Rotate the matrix by one\n",
    "1 2 3       2 3 1\n",
    "4 5 6  =>  5 6 4\n",
    "7 8 9       8 9 7\n",
    "Input: k=2, mat=[[1,2,3],[4,5,6],[7,8,9]]\n",
    "Output:\n",
    "3 1 2\n",
    "6 4 5\n",
    "9 7 8\n",
    "Explanation: After rotating the matrix looks like\n",
    "1 2 3       2 3 1       3 1 2\n",
    "4 5 6  =>  5 6 4  =>   6 4 5\n",
    "7 8 9       8 9 7       9 7 8\n",
    "Expected Time Complexity: O(n*m)\n",
    "Expected Auxillary Space: O(n*m)\n",
    "\n",
    "Constraints:\n",
    "1<= mat.size, mat[0].size, mat[i][j] <=1000\n",
    "1<=k<=10000\n",
    "'''"
   ]
  },
  {
   "cell_type": "code",
   "execution_count": 1,
   "metadata": {},
   "outputs": [],
   "source": [
    "class Solution:\n",
    "    def rotateMatrix(self, k, mat):\n",
    "        # code here\n",
    "        n=len(mat) # to get row\n",
    "        m=len(mat[0]) # to get column\n",
    "\n",
    "        # defining mat2, initializing every element with zero.\n",
    "        mat2=[[0 for _ in range(m)] for _ in range(n)]\n",
    "        k=k%m # if k is beyond column length \n",
    "        for i in range(n):\n",
    "            for j in range(m):\n",
    "                mat2[i][(m-k+j)%m]=mat[i][j]\n",
    "        \n",
    "        return mat2"
   ]
  },
  {
   "cell_type": "code",
   "execution_count": 2,
   "metadata": {},
   "outputs": [
    {
     "name": "stdout",
     "output_type": "stream",
     "text": [
      "[[2, 3, 1], [5, 6, 4], [8, 9, 7]]\n"
     ]
    }
   ],
   "source": [
    "# Create an instance of the Solution class\n",
    "solution = Solution()\n",
    "\n",
    "k=1\n",
    "mat=[[1,2,3],[4,5,6],[7,8,9]]\n",
    "# Call the method on the instance\n",
    "result = solution.rotateMatrix(k, mat)\n",
    "print(result)"
   ]
  }
 ],
 "metadata": {
  "kernelspec": {
   "display_name": "Python 3",
   "language": "python",
   "name": "python3"
  },
  "language_info": {
   "codemirror_mode": {
    "name": "ipython",
    "version": 3
   },
   "file_extension": ".py",
   "mimetype": "text/x-python",
   "name": "python",
   "nbconvert_exporter": "python",
   "pygments_lexer": "ipython3",
   "version": "3.12.3"
  }
 },
 "nbformat": 4,
 "nbformat_minor": 2
}
