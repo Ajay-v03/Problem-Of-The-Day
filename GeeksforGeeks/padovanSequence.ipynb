{
 "cells": [
  {
   "cell_type": "markdown",
   "metadata": {},
   "source": [
    "Padovan Sequence"
   ]
  },
  {
   "cell_type": "code",
   "execution_count": null,
   "metadata": {},
   "outputs": [],
   "source": [
    "'''\n",
    "Given a number n, find the nth number in the Padovan Sequence.\n",
    "\n",
    "A Padovan Sequence is a sequence which is represented by the following recurrence relation\n",
    "P(n) = P(n-2) + P(n-3)\n",
    "P(0) = P(1) = P(2) = 1\n",
    "\n",
    "Note: Since the output may be too large, compute the answer modulo 10^9+7.\n",
    "\n",
    "Examples :\n",
    "\n",
    "Input: n = 3\n",
    "Output: 2\n",
    "Explanation: We already know, P1 + P0 = P3 and P1 = 1 and P0 = 1\n",
    "Input: n = 4\n",
    "Output: 2\n",
    "Explanation: We already know, P4  = P2 + P1 and P2 = 1 and P1 = 1\n",
    "Expected Time Complexity: O(n)\n",
    "Expected Auxiliary Space: O(1)\n",
    "\n",
    "Constraints:\n",
    "1 <= n <= 106\n",
    "\n",
    "'''"
   ]
  },
  {
   "cell_type": "code",
   "execution_count": 1,
   "metadata": {},
   "outputs": [],
   "source": [
    "class Solution:\n",
    "    def padovanSequence(self, n: int) -> int:\n",
    "        if n == 0 or n == 1 or n == 2:\n",
    "            return 1\n",
    "        \n",
    "        mod = int(1e9 + 7)\n",
    "        p0, p1, p2 = 1, 1, 1\n",
    "        \n",
    "        for i in range(3, n + 1):\n",
    "            p_next = (p1 + p0) % mod\n",
    "            p0, p1, p2 = p1, p2, p_next\n",
    "        \n",
    "        return p2"
   ]
  },
  {
   "cell_type": "code",
   "execution_count": 2,
   "metadata": {},
   "outputs": [
    {
     "name": "stdout",
     "output_type": "stream",
     "text": [
      "2\n"
     ]
    }
   ],
   "source": [
    "# Create an instance of the Solution class\n",
    "solution = Solution()\n",
    "\n",
    "n = 3\n",
    "\n",
    "# Call the method on the instance\n",
    "result = solution.padovanSequence(n)\n",
    "print(result)"
   ]
  }
 ],
 "metadata": {
  "kernelspec": {
   "display_name": "Python 3",
   "language": "python",
   "name": "python3"
  },
  "language_info": {
   "codemirror_mode": {
    "name": "ipython",
    "version": 3
   },
   "file_extension": ".py",
   "mimetype": "text/x-python",
   "name": "python",
   "nbconvert_exporter": "python",
   "pygments_lexer": "ipython3",
   "version": "3.12.3"
  }
 },
 "nbformat": 4,
 "nbformat_minor": 2
}
