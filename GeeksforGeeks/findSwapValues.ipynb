{
 "cells": [
  {
   "cell_type": "markdown",
   "metadata": {},
   "source": [
    "Swapping pairs make sum equal\n"
   ]
  },
  {
   "cell_type": "code",
   "execution_count": null,
   "metadata": {},
   "outputs": [],
   "source": [
    "'''\n",
    "Given two arrays of integers a[] and b[] of size n and m, the task is to check if a pair of \n",
    "values (one value from each array) exists such that swapping the elements of the pair will make the sum of two arrays equal.\n",
    "\n",
    "Note: Return 1 if there exists any such pair otherwise return -1.\n",
    "\n",
    "Example 1:\n",
    "\n",
    "Input: n = 6, m = 4, a[] = {4, 1, 2, 1, 1, 2}, b[] = (3, 6, 3, 3)\n",
    "Output: 1\n",
    "Explanation: Sum of elements in a[] = 11, Sum of elements in b[] = 15, To get same sum from both arrays,\n",
    "we can swap following values: 1 from a[] and 3 from b[]\n",
    "Example 2:\n",
    "\n",
    "Input: n = 4, m = 4, a[] = {5, 7, 4, 6}, b[] = {1, 2, 3, 8}\n",
    "Output: 1\n",
    "Explanation: We can swap 6 from array a[] and 2 from array b[]\n",
    "Expected Time Complexity: O(mlogm+nlogn).\n",
    "Expected Auxiliary Space: O(1).\n",
    "\n",
    "Constraints:\n",
    "1 ≤ n, m ≤ 106\n",
    "0 <= a[i], b[i] <= 105\n",
    "\n",
    "\n",
    "'''"
   ]
  },
  {
   "cell_type": "code",
   "execution_count": 3,
   "metadata": {},
   "outputs": [],
   "source": [
    "class Solution:\n",
    "    def findSwapValues(self,a, n, b, m):\n",
    "        sum_a=sum(a)\n",
    "        sum_b=sum(b)\n",
    "        set_a=set(a)\n",
    "        set_b=set(b)\n",
    "        calc=(sum_a-sum_b)/2\n",
    "        for i in set_b:\n",
    "            if calc+i in set_a:\n",
    "                return 1\n",
    "        return -1"
   ]
  },
  {
   "cell_type": "code",
   "execution_count": 5,
   "metadata": {},
   "outputs": [
    {
     "name": "stdout",
     "output_type": "stream",
     "text": [
      "1\n"
     ]
    }
   ],
   "source": [
    "n = 6\n",
    "m = 4\n",
    "a = [4, 1, 2, 1, 1, 2]\n",
    "b = [3, 6, 3, 3]\n",
    "\n",
    "# Create an instance of the Solution class\n",
    "solution = Solution()\n",
    "\n",
    "# Call the method on the instance\n",
    "result = solution.findSwapValues(a, n, b, m)\n",
    "print(result)"
   ]
  }
 ],
 "metadata": {
  "kernelspec": {
   "display_name": "Python 3",
   "language": "python",
   "name": "python3"
  },
  "language_info": {
   "codemirror_mode": {
    "name": "ipython",
    "version": 3
   },
   "file_extension": ".py",
   "mimetype": "text/x-python",
   "name": "python",
   "nbconvert_exporter": "python",
   "pygments_lexer": "ipython3",
   "version": "3.12.3"
  }
 },
 "nbformat": 4,
 "nbformat_minor": 2
}
