{
 "cells": [
  {
   "cell_type": "markdown",
   "metadata": {},
   "source": [
    "The Celeberity Problem"
   ]
  },
  {
   "cell_type": "code",
   "execution_count": null,
   "metadata": {},
   "outputs": [],
   "source": [
    "'''\n",
    "A celebrity is a person who is known to all but does not know anyone at a party. A party is being organized by some people.  A square matrix mat is used to represent people at the party such that if an element of row i and column j is set to 1 it means ith person knows jth person. You need to return the index of the celebrity in the party, if the celebrity does not exist, return -1.\n",
    "\n",
    "Note: Follow 0-based indexing.\n",
    "\n",
    "Examples:\n",
    "\n",
    "Input: mat[][] = [[0 1 0],\n",
    "                [0 0 0], \n",
    "                [0 1 0]]\n",
    "Output: 1\n",
    "Explanation: 0th and 2nd person both know 1. Therefore, 1 is the celebrity. \n",
    "Input: mat[][] = [[0 1],\n",
    "                [1 0]]\n",
    "Output: -1\n",
    "Explanation: The two people at the party both know each other. None of them is a celebrity.\n",
    "Expected Time Complexity: O(n2)\n",
    "Expected Auxiliary Space: O(1)\n",
    "\n",
    "Constraints:\n",
    "1 <= mat.size()<= 3000\n",
    "0 <= mat[i][j]<= 1\n",
    "\n",
    "\n",
    "'''"
   ]
  },
  {
   "cell_type": "code",
   "execution_count": 1,
   "metadata": {},
   "outputs": [],
   "source": [
    "class Solution:\n",
    "    def celebrity(self, mat):\n",
    "        for i in range(len(mat)):\n",
    "            a=1\n",
    "            for j in range(len(mat)):\n",
    "                if mat[i][j]==1:\n",
    "                    a=0\n",
    "                    break\n",
    "            if a==1:\n",
    "                for j in range(len(mat)):\n",
    "                    if i!=j and mat[j][i]==0:\n",
    "                        a=0\n",
    "                        break\n",
    "            if a==1:\n",
    "                return i\n",
    "        return -1"
   ]
  }
 ],
 "metadata": {
  "kernelspec": {
   "display_name": "Python 3",
   "language": "python",
   "name": "python3"
  },
  "language_info": {
   "codemirror_mode": {
    "name": "ipython",
    "version": 3
   },
   "file_extension": ".py",
   "mimetype": "text/x-python",
   "name": "python",
   "nbconvert_exporter": "python",
   "pygments_lexer": "ipython3",
   "version": "3.12.3"
  }
 },
 "nbformat": 4,
 "nbformat_minor": 2
}
