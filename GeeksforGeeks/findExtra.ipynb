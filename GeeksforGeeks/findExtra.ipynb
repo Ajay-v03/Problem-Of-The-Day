{
 "cells": [
  {
   "cell_type": "markdown",
   "metadata": {},
   "source": [
    "Index of an Extra Element"
   ]
  },
  {
   "cell_type": "code",
   "execution_count": null,
   "metadata": {},
   "outputs": [],
   "source": [
    "'''\n",
    "You have given two sorted arrays arr1[] & arr2[] of distinct elements. The first array has one element extra added in between. Return the index of the extra element.\n",
    "\n",
    "Note: 0-based indexing is followed.\n",
    "\n",
    "Examples\n",
    "\n",
    "Input: n = 7, arr1[] = {2,4,6,8,9,10,12}, arr2[] = {2,4,6,8,10,12}\n",
    "Output: 4\n",
    "Explanation: In the first array, 9 is extra added and it's index is 4.\n",
    "Input: n = 6, arr1[] = {3,5,7,8,11,13}, arr2[] = {3,5,7,11,13}\n",
    "Output: 3\n",
    "Explanation: In the first array, 8 is extra and it's index is 3.\n",
    "Expected Time Complexity: O(log n).\n",
    "Expected Auxiliary Space: O(1).\n",
    "\n",
    "Constraints:\n",
    "1<=n<=105\n",
    "1<=arr1[i],arr2[i]<=106\n",
    "\n",
    "'''"
   ]
  },
  {
   "cell_type": "code",
   "execution_count": 1,
   "metadata": {},
   "outputs": [],
   "source": [
    "class Solution:\n",
    "    def findExtra(self,n,a,b):\n",
    "        for i in range(n-1):\n",
    "            if a[i] != b[i]:\n",
    "                return i\n",
    "        return n-1"
   ]
  },
  {
   "cell_type": "code",
   "execution_count": 2,
   "metadata": {},
   "outputs": [
    {
     "name": "stdout",
     "output_type": "stream",
     "text": [
      "4\n"
     ]
    }
   ],
   "source": [
    "# Create an instance of the Solution class\n",
    "solution = Solution()\n",
    "\n",
    "n = 7\n",
    "a = [2,4,6,8,9,10,12]\n",
    "b = [2,4,6,8,10,12]\n",
    "\n",
    "# Call the method on the instance\n",
    "result = solution.findExtra(n,a,b)\n",
    "print(result)"
   ]
  }
 ],
 "metadata": {
  "kernelspec": {
   "display_name": "Python 3",
   "language": "python",
   "name": "python3"
  },
  "language_info": {
   "codemirror_mode": {
    "name": "ipython",
    "version": 3
   },
   "file_extension": ".py",
   "mimetype": "text/x-python",
   "name": "python",
   "nbconvert_exporter": "python",
   "pygments_lexer": "ipython3",
   "version": "3.12.3"
  }
 },
 "nbformat": 4,
 "nbformat_minor": 2
}
