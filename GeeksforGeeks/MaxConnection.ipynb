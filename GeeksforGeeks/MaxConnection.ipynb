{
 "cells": [
  {
   "cell_type": "markdown",
   "metadata": {},
   "source": [
    "Maximum Connected group"
   ]
  },
  {
   "cell_type": "code",
   "execution_count": null,
   "metadata": {},
   "outputs": [],
   "source": [
    "'''\n",
    "You are given a square binary grid. A grid is considered binary if every value in the grid is either 1 or 0. You can change at most one cell in the grid from 0 to 1. You need to find the largest group of connected  1's. Two cells are said to be connected if both are adjacent(top, bottom, left, right) to each other and both have the same value.\n",
    "\n",
    "Examples :\n",
    "\n",
    "Input: grid = [1, 1]\n",
    "             [0, 1]\n",
    "Output: 4\n",
    "Explanation: By changing cell (2,1), we can obtain a connected group of 4 1's\n",
    "[1, 1]\n",
    "[1, 1]\n",
    "Input: grid = [1, 0, 1]\n",
    "             [1, 0, 1]\n",
    "             [1, 0, 1]\n",
    "Output: 7\n",
    "Explanation: By changing cell (3,2), we can obtain a connected group of 7 1's\n",
    "[1, 0, 1]\n",
    "[1, 0, 1]\n",
    "[1, 1, 1]\n",
    "Expected Time Complexity: O(n2)\n",
    "Expected Auxiliary Space: O(n2)\n",
    "\n",
    "Constraints:\n",
    "1 <= size of the grid<= 500\n",
    "0 <= grid[i][j] <= 1\n",
    "'''"
   ]
  },
  {
   "cell_type": "code",
   "execution_count": 1,
   "metadata": {},
   "outputs": [],
   "source": [
    "from typing import List\n",
    "\n",
    "\n",
    "class Solution:\n",
    "    def MaxConnection(self, grid : List[List[int]]) -> int:\n",
    "        n = len(grid)\n",
    "        def dfs(x, y, visited):\n",
    "            stack = [(x, y)]\n",
    "            visited.add((x, y))\n",
    "            size = 0\n",
    "            component = [(x, y)]\n",
    "            while stack:\n",
    "                cx, cy = stack.pop()\n",
    "                size += 1\n",
    "                for dx, dy in [(-1, 0), (1, 0), (0, -1), (0, 1)]:\n",
    "                    nx, ny = cx + dx, cy + dy\n",
    "                    if 0 <= nx < n and 0 <= ny < n and grid[nx][ny] == 1 and (nx, ny) not in visited:\n",
    "                        visited.add((nx, ny))\n",
    "                        stack.append((nx, ny))\n",
    "                        component.append((nx, ny))\n",
    "            return size, component"
   ]
  }
 ],
 "metadata": {
  "kernelspec": {
   "display_name": "Python 3",
   "language": "python",
   "name": "python3"
  },
  "language_info": {
   "codemirror_mode": {
    "name": "ipython",
    "version": 3
   },
   "file_extension": ".py",
   "mimetype": "text/x-python",
   "name": "python",
   "nbconvert_exporter": "python",
   "pygments_lexer": "ipython3",
   "version": "3.12.3"
  }
 },
 "nbformat": 4,
 "nbformat_minor": 2
}
