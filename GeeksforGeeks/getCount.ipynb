{
 "cells": [
  {
   "cell_type": "markdown",
   "metadata": {},
   "source": [
    "Mobile numeric keypad"
   ]
  },
  {
   "cell_type": "code",
   "execution_count": null,
   "metadata": {},
   "outputs": [],
   "source": [
    "'''\n",
    "There is a standard numeric keypad on a mobile phone. You can only press the current button or buttons that are directly up, left, right, or down from it (for ex if you press 5, then pressing 2, 4, 6 & 8 are allowed). Diagonal movements and pressing the bottom row corner buttons (* and #) are prohibited.\n",
    "\n",
    "\n",
    "\n",
    "Given a number n, find the number of possible unique sequences of length n that you can create by pressing buttons. You can start from any digit.\n",
    "\n",
    "Examples\n",
    "\n",
    "Input: n = 1\n",
    "Output: 10\n",
    "Explanation: Number of possible numbers are 10 (0, 1, 2, 3, 4, 5, 6, 7, 8, 9)  \n",
    "Input: n = 2\n",
    "Output: 36\n",
    "Explanation: Possible numbers: 00, 08, 11, 12, 14, 22, 21, 23, 25 and so on. If we start with 0, valid numbers will be 00, 08 (count: 2). If we start with 1, valid numbers will be 11, 12, 14 (count: 3). If we start with 2, valid numbers  will be 22, 21, 23,25 (count: 4). If we start with 3, valid numbers will be 33, 32, 36 (count: 3). If we start with 4, valid numbers will be 44,41,45,47 (count: 4). If we start with 5, valid numbers will be 55,54,52,56,58 (count: 5) and so on.\n",
    "Expected Time Complexity: O(n)\n",
    "Expected Auxiliary Space: O(n)\n",
    "\n",
    "Constraints:\n",
    "1 ≤ n ≤ 25\n",
    "\n",
    "\n",
    "'''"
   ]
  },
  {
   "cell_type": "code",
   "execution_count": 1,
   "metadata": {},
   "outputs": [],
   "source": [
    "class Solution:\n",
    "    def getCount(self, n):\n",
    "        m = {0: [0, 8],\n",
    "             1: [1, 2, 4], \n",
    "             2: [1, 2, 3, 5], \n",
    "             3: [2, 3, 6], \n",
    "             4: [1, 4, 5, 7], \n",
    "             5: [2, 4, 5, 6, 8], \n",
    "             6: [3, 5, 6, 9], \n",
    "             7: [4, 7, 8], \n",
    "             8: [0, 5, 7, 8, 9], \n",
    "             9: [6, 8, 9]}\n",
    "        \n",
    "        dp = [[0]*10 for _ in range(n)]\n",
    "        for i in range(10):\n",
    "            dp[0][i] = 1\n",
    "        \n",
    "        for i in range(1, n):\n",
    "            for k in range(10):\n",
    "                dp[i][k] = 0\n",
    "                for pre in m[k]:\n",
    "                    dp[i][k] += dp[i-1][pre]\n",
    "        return sum(dp[-1])"
   ]
  },
  {
   "cell_type": "code",
   "execution_count": 2,
   "metadata": {},
   "outputs": [
    {
     "name": "stdout",
     "output_type": "stream",
     "text": [
      "10\n"
     ]
    }
   ],
   "source": [
    "# Create an instance of the Solution class\n",
    "solution = Solution()\n",
    "\n",
    "nums = 1\n",
    "# Call the method on the instance\n",
    "result = solution.getCount(nums)\n",
    "print(result)"
   ]
  }
 ],
 "metadata": {
  "kernelspec": {
   "display_name": "Python 3",
   "language": "python",
   "name": "python3"
  },
  "language_info": {
   "codemirror_mode": {
    "name": "ipython",
    "version": 3
   },
   "file_extension": ".py",
   "mimetype": "text/x-python",
   "name": "python",
   "nbconvert_exporter": "python",
   "pygments_lexer": "ipython3",
   "version": "3.12.3"
  }
 },
 "nbformat": 4,
 "nbformat_minor": 2
}
