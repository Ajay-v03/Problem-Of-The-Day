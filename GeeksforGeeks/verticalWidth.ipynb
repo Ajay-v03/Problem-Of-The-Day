{
 "cells": [
  {
   "cell_type": "markdown",
   "metadata": {},
   "source": [
    "Vertical Width of a Binary Tree"
   ]
  },
  {
   "cell_type": "code",
   "execution_count": null,
   "metadata": {},
   "outputs": [],
   "source": [
    "'''\n",
    "Given a Binary Tree. You need to find and return the vertical width of the tree.\n",
    "\n",
    "Examples :\n",
    "\n",
    "Input:\n",
    "         1\n",
    "       /    \\\n",
    "      2      3\n",
    "     / \\    /  \\\n",
    "    4   5  6   7\n",
    "            \\   \\\n",
    "             8   9\n",
    "Output: 6\n",
    "Explanation: The width of a binary tree is\n",
    "the number of vertical paths in that tree.\n",
    "\n",
    "\n",
    "\n",
    "The above tree contains 6 vertical lines.\n",
    "Input:\n",
    "     1\n",
    "    /  \\\n",
    "   2    3\n",
    "Output: 3\n",
    "Explanation: The above tree has 3 vertical lines, hence the answer is 3.\n",
    "Expected Time Complexity: O(nlogn)\n",
    "Expected Auxiliary Space: O(height of the tree).\n",
    "\n",
    "Constraints:\n",
    "0 <= number of nodes <= 104\n",
    "\n",
    "'''"
   ]
  },
  {
   "cell_type": "code",
   "execution_count": 1,
   "metadata": {},
   "outputs": [],
   "source": [
    "#Function to find the vertical width of a Binary Tree.\n",
    "def verticalWidth(root):\n",
    "    if root is None:\n",
    "        return 0\n",
    "    \n",
    "    def dfs(node, hd, hd_set):\n",
    "        if node is None:\n",
    "            return\n",
    "        \n",
    "        hd_set.add(hd)\n",
    "        \n",
    "        \n",
    "        if node.left:\n",
    "            dfs(node.left, hd - 1, hd_set)\n",
    "        if node.right:\n",
    "            dfs(node.right, hd + 1, hd_set)\n",
    "    \n",
    "    \n",
    "    hd_set = set()\n",
    "    dfs(root, 0, hd_set)\n",
    "    \n",
    "    return len(hd_set)\n"
   ]
  }
 ],
 "metadata": {
  "kernelspec": {
   "display_name": "Python 3",
   "language": "python",
   "name": "python3"
  },
  "language_info": {
   "codemirror_mode": {
    "name": "ipython",
    "version": 3
   },
   "file_extension": ".py",
   "mimetype": "text/x-python",
   "name": "python",
   "nbconvert_exporter": "python",
   "pygments_lexer": "ipython3",
   "version": "3.12.3"
  }
 },
 "nbformat": 4,
 "nbformat_minor": 2
}
