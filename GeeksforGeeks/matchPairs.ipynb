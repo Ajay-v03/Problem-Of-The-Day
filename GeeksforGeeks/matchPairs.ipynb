{
 "cells": [
  {
   "cell_type": "markdown",
   "metadata": {},
   "source": [
    "Nuts and Bolts Problem"
   ]
  },
  {
   "cell_type": "code",
   "execution_count": null,
   "metadata": {},
   "outputs": [],
   "source": [
    "'''\n",
    "Given a set of n nuts & bolts. There is a one-on-one mapping between nuts and bolts. You have to Match nuts and bolts efficiently. Comparison of a nut to another nut or a bolt to another bolt is not allowed. It means the nut can only be compared with the bolt and the bolt can only be compared with the nut to see which one is bigger/smaller.\n",
    "The elements should follow the following order: { !,#,$,%,&,*,?,@,^ }\n",
    "\n",
    "Note: Make all the required changes directly in the given arrays, output will be handled by the driver code.\n",
    "\n",
    "Examples\n",
    "\n",
    "Input: n = 5, nuts[] = {@, %, $, #, ^}, bolts[] = {%, @, #, $ ^}\n",
    "Output: \n",
    "# $ % @ ^\n",
    "# $ % @ ^\n",
    "Explanation: As per the order # should come first after that $ then % then @ and ^. \n",
    "Input: n = 9, nuts[] = {^, &, %, @, #, *, $, ?, !}, bolts[] = {?, #, @, %, &, *, $ ,^, !}\n",
    "Output: \n",
    "! # $ % & * ? @ ^\n",
    "! # $ % & * ? @ ^\n",
    "Explanation: We'll have to match first ! then  # , $,  %,  &,  *,  @,  ^,  ? as per the required ordering.\n",
    "Expected Time Complexity: O(n(logn))\n",
    "Expected Auxiliary Space: O(log(n))\n",
    "\n",
    "Constraints:\n",
    "1 <= n <= 9\n",
    "The arrays 'nuts' and 'bolts' can only consist of the following elements: {'@', '#', '$', '%', '^', '&', '?', '*', '!'}.\n",
    "All the elements of arrays 'nuts' and 'bolts' should be unique.\n",
    "\n",
    "\n",
    "'''"
   ]
  },
  {
   "cell_type": "code",
   "execution_count": 1,
   "metadata": {},
   "outputs": [],
   "source": [
    "class Solution:\n",
    "    def matchPairs(self, n, nuts, bolts):\n",
    "        need = ['!','#','$','%','&','*','?','@','^']\n",
    "        n=[]\n",
    "        b=[]\n",
    "        count=0\n",
    "        for i in need:\n",
    "            if i in nuts and i in bolts:\n",
    "                nuts.remove(i)\n",
    "                bolts.remove(i)\n",
    "                nuts.insert(count,i)\n",
    "                bolts.insert(count,i)\n",
    "                count+=1\n",
    "        return nuts,bolts"
   ]
  },
  {
   "cell_type": "code",
   "execution_count": 2,
   "metadata": {},
   "outputs": [
    {
     "name": "stdout",
     "output_type": "stream",
     "text": [
      "(['#', '%', '@', '$', '^'], ['#', '%', '@', '$^'])\n"
     ]
    }
   ],
   "source": [
    "# Create an instance of the Solution class\n",
    "solution = Solution()\n",
    "\n",
    "n = 5\n",
    "nuts = ['@', '%', '$', '#', '^']\n",
    "bolts = ['%', '@', '#', '$' '^']\n",
    "\n",
    "# Call the method on the instance\n",
    "result = solution.matchPairs(n,nuts,bolts)\n",
    "print(result)"
   ]
  }
 ],
 "metadata": {
  "kernelspec": {
   "display_name": "Python 3",
   "language": "python",
   "name": "python3"
  },
  "language_info": {
   "codemirror_mode": {
    "name": "ipython",
    "version": 3
   },
   "file_extension": ".py",
   "mimetype": "text/x-python",
   "name": "python",
   "nbconvert_exporter": "python",
   "pygments_lexer": "ipython3",
   "version": "3.12.3"
  }
 },
 "nbformat": 4,
 "nbformat_minor": 2
}
