{
 "cells": [
  {
   "cell_type": "markdown",
   "metadata": {},
   "source": [
    "Number of Rectangles in a Circle"
   ]
  },
  {
   "cell_type": "code",
   "execution_count": null,
   "metadata": {},
   "outputs": [],
   "source": [
    "'''\n",
    "Given a circular sheet of radius, r. Find the total number of rectangles with integral length and width that can be cut from the sheet that can fit on the circle, one at a time.\n",
    "\n",
    "Examples :\n",
    "\n",
    "Input: r=1\n",
    "Output: 1\n",
    "Explanation: Only 1 rectangle of dimensions 1x1.\n",
    "Input: r=2\n",
    "Output: 8\n",
    "Explanation: The 8 possible rectangles are \n",
    "(1x1)(1x2)(1x3)(2x1)(2x2)(2x3)(3x1)(3x2).\n",
    "Expected Time Complexity: O(r2)\n",
    "Expected Auxillary Space: O(1)\n",
    "\n",
    "\n",
    "Constraints:\n",
    "1<=r<=1000 \n",
    "\n",
    "'''"
   ]
  },
  {
   "cell_type": "code",
   "execution_count": 1,
   "metadata": {},
   "outputs": [],
   "source": [
    "class Solution:\n",
    "    def rectanglesInCircle(self, R):\n",
    "        ans = 0\n",
    "        limit = 2 * R * 2 * R\n",
    "        for i in range(1, 2 * R + 1):\n",
    "            for j in range(1, 2 * R + 1):\n",
    "                if i * i + j * j <= limit:\n",
    "                    ans += 1\n",
    "        return ans"
   ]
  },
  {
   "cell_type": "code",
   "execution_count": 2,
   "metadata": {},
   "outputs": [
    {
     "name": "stdout",
     "output_type": "stream",
     "text": [
      "1\n"
     ]
    }
   ],
   "source": [
    "# Create an instance of the Solution class\n",
    "solution = Solution()\n",
    "\n",
    "r=1\n",
    "# Call the method on the instance\n",
    "result = solution.rectanglesInCircle(r)\n",
    "print(result)"
   ]
  }
 ],
 "metadata": {
  "kernelspec": {
   "display_name": "Python 3",
   "language": "python",
   "name": "python3"
  },
  "language_info": {
   "codemirror_mode": {
    "name": "ipython",
    "version": 3
   },
   "file_extension": ".py",
   "mimetype": "text/x-python",
   "name": "python",
   "nbconvert_exporter": "python",
   "pygments_lexer": "ipython3",
   "version": "3.12.3"
  }
 },
 "nbformat": 4,
 "nbformat_minor": 2
}
