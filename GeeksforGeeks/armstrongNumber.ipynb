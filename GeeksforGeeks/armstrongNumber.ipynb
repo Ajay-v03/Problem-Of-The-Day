{
 "cells": [
  {
   "cell_type": "markdown",
   "metadata": {},
   "source": [
    "Armstrong Numbers"
   ]
  },
  {
   "cell_type": "code",
   "execution_count": null,
   "metadata": {},
   "outputs": [],
   "source": [
    "'''\n",
    "You are given a 3-digit number n, Find whether it is an Armstrong number or not.\n",
    "\n",
    "An Armstrong number of three digits is a number such that the sum of the cubes of its digits is equal to the number itself. 371 is an Armstrong number since 33 + 73 + 13 = 371. \n",
    "\n",
    "Note: Return \"true\" if it is an Armstrong number else return \"false\".\n",
    "\n",
    "Examples\n",
    "\n",
    "Input: n = 153\n",
    "Output: true\n",
    "Explanation: 153 is an Armstrong number since 13 + 53 + 33 = 153. Hence answer is \"true\".\n",
    "Input: n = 372\n",
    "Output: false\n",
    "Explanation: 372 is not an Armstrong number since 33 + 73 + 23 = 378. Hence answer is \"false\".\n",
    "Expected Time Complexity: O(1)\n",
    "Expected Auxiliary Space: O(1) \n",
    "\n",
    "Constraints:\n",
    "100 ≤ n <1000 \n",
    "\n",
    "'''"
   ]
  },
  {
   "cell_type": "code",
   "execution_count": 1,
   "metadata": {},
   "outputs": [],
   "source": [
    "class Solution:\n",
    "    def armstrongNumber (self, n):\n",
    "        t=n\n",
    "        sum=0\n",
    "        l=len(str(n))\n",
    "        while n>0:\n",
    "            rem=n%10\n",
    "            sum+=rem**l\n",
    "            n=n//10\n",
    "        if t==sum:\n",
    "            return \"Yes\"\n",
    "        return \"No\""
   ]
  },
  {
   "cell_type": "code",
   "execution_count": 2,
   "metadata": {},
   "outputs": [
    {
     "name": "stdout",
     "output_type": "stream",
     "text": [
      "Yes\n"
     ]
    }
   ],
   "source": [
    "# Create an instance of the Solution class\n",
    "solution = Solution()\n",
    "\n",
    "n = 153\n",
    "# Call the method on the instance\n",
    "result = solution.armstrongNumber(n)\n",
    "print(result)"
   ]
  }
 ],
 "metadata": {
  "kernelspec": {
   "display_name": "Python 3",
   "language": "python",
   "name": "python3"
  },
  "language_info": {
   "codemirror_mode": {
    "name": "ipython",
    "version": 3
   },
   "file_extension": ".py",
   "mimetype": "text/x-python",
   "name": "python",
   "nbconvert_exporter": "python",
   "pygments_lexer": "ipython3",
   "version": "3.12.3"
  }
 },
 "nbformat": 4,
 "nbformat_minor": 2
}
