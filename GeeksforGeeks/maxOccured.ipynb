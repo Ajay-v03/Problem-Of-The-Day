{
 "cells": [
  {
   "cell_type": "markdown",
   "metadata": {},
   "source": [
    "Maximum occured integer"
   ]
  },
  {
   "cell_type": "code",
   "execution_count": null,
   "metadata": {},
   "outputs": [],
   "source": [
    "'''\n",
    "Given n integer ranges, the task is to return the maximum occurring integer in the given ranges. If more than one such integer exists, return the smallest one.\n",
    "The ranges are in two arrays l[] and r[].  l[i] consists of the starting point of the range and r[i] consists of the corresponding endpoint of the range & a maxx which is the maximum value of r[].\n",
    "\n",
    "For example, consider the following ranges.\n",
    "l[] = {2, 1, 3}, r[] = {5, 3, 9)\n",
    "Ranges represented by the above arrays are.\n",
    "[2, 5] = {2, 3, 4, 5}\n",
    "[1, 3] = {1, 2, 3}\n",
    "[3, 9] = {3, 4, 5, 6, 7, 8, 9}\n",
    "The maximum occurred integer in these ranges is 3.\n",
    "\n",
    "Examples :\n",
    "\n",
    "Input: n = 4, l[] = {1,4,3,1}, r[] = {15,8,5,4}, maxx = 15\n",
    "Output: 4\n",
    "Explanation: The given ranges are [1,15] [4, 8] [3, 5] [1, 4]. The smallest number that is most common or appears most times in the ranges is 4.\n",
    "Input: n = 5, l[] = {1,5,9,13,21}, r[] = {15,8,12,20,30}, maxx = 30\n",
    "Output: 5\n",
    "Explanation: The given ranges are [1, 15] [5, 8] [9, 12] [13, 20] [21, 30]. The smallest number that is most common or appears most times in the ranges is 5.\n",
    "Expected Time Complexity: O(n+maxx).\n",
    "Expected Auxiliary Space: O(maxx), maxx is maximum element in r[]\n",
    "\n",
    "Constraints:\n",
    "1 ≤ n ≤ 106\n",
    "0 ≤ l[i], r[i] ≤ 106\n",
    "\n",
    "'''"
   ]
  },
  {
   "cell_type": "code",
   "execution_count": 1,
   "metadata": {},
   "outputs": [],
   "source": [
    "import sys\n",
    "class Solution:\n",
    "    def maxOccured(self,n, l, r, maxx):\n",
    "        x = [0] * (maxx + 2)\n",
    "        for i in range(n):\n",
    "            x[l[i]] += 1\n",
    "            x[r[i] + 1] -= 1\n",
    "        \n",
    "        res = sum = 0\n",
    "        maxiboi = -sys.maxsize - 1 # INT_MIN\n",
    "        for i in range(maxx + 1):\n",
    "            sum += x[i]\n",
    "            if sum > maxiboi:\n",
    "                maxiboi = sum\n",
    "                res = i\n",
    "        \n",
    "        return res"
   ]
  },
  {
   "cell_type": "code",
   "execution_count": 2,
   "metadata": {},
   "outputs": [
    {
     "name": "stdout",
     "output_type": "stream",
     "text": [
      "4\n"
     ]
    }
   ],
   "source": [
    "# Create an instance of the Solution class\n",
    "solution = Solution()\n",
    "\n",
    "n = 4\n",
    "l = [1,4,3,1]\n",
    "r = [15,8,5,4] \n",
    "maxx = 15\n",
    "\n",
    "# Call the method on the instance\n",
    "result = solution.maxOccured(n, l, r, maxx)\n",
    "print(result)"
   ]
  }
 ],
 "metadata": {
  "kernelspec": {
   "display_name": "Python 3",
   "language": "python",
   "name": "python3"
  },
  "language_info": {
   "codemirror_mode": {
    "name": "ipython",
    "version": 3
   },
   "file_extension": ".py",
   "mimetype": "text/x-python",
   "name": "python",
   "nbconvert_exporter": "python",
   "pygments_lexer": "ipython3",
   "version": "3.12.3"
  }
 },
 "nbformat": 4,
 "nbformat_minor": 2
}
