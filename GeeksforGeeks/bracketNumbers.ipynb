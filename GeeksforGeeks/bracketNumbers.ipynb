{
 "cells": [
  {
   "cell_type": "markdown",
   "metadata": {},
   "source": [
    "Print Bracket Number"
   ]
  },
  {
   "cell_type": "code",
   "execution_count": null,
   "metadata": {},
   "outputs": [],
   "source": [
    "'''\n",
    "Given a string str, the task is to find the bracket numbers, i.e., for each bracket in str, return i if the bracket is the ith opening or closing bracket to appear in the string. \n",
    "\n",
    " Examples:\n",
    "\n",
    "Input:  str = \"(aa(bdc))p(dee)\"\n",
    "Output: 1 2 2 1 3 3\n",
    "Explanation: The highlighted brackets in\n",
    "the given string (aa(bdc))p(dee) are\n",
    "assigned the numbers as: 1 2 2 1 3 3.\n",
    "Input:  str = \"(((()(\"\n",
    "Output: 1 2 3 4 4 5\n",
    "Explanation: The highlighted brackets in\n",
    "the given string (((()( are assigned\n",
    "the numbers as: 1 2 3 4 4 5\n",
    "Expected Time Complexity: O(|str|)\n",
    "Expected Auxiliary Space: O(|str|)\n",
    "\n",
    "Constraints:\n",
    "1 <= |str| <= 105\n",
    "str contains lowercase English alphabets, and '(', ')' characters\n",
    "At any index, the number of opening brackets is greater than or equal to closing brackets\n",
    "\n",
    "'''"
   ]
  },
  {
   "cell_type": "code",
   "execution_count": 1,
   "metadata": {},
   "outputs": [],
   "source": [
    "class Solution:\n",
    "    def bracketNumbers(self, str):\n",
    "        stack=[]\n",
    "        list1=[]\n",
    "        count=1\n",
    "        for i in str:\n",
    "            if i=='(':\n",
    "                stack.append(count)\n",
    "                list1.append(count)\n",
    "                count+=1\n",
    "            elif i==')':\n",
    "                popout=stack.pop()\n",
    "                list1.append(popout)\n",
    "        return list1"
   ]
  },
  {
   "cell_type": "code",
   "execution_count": 2,
   "metadata": {},
   "outputs": [
    {
     "name": "stdout",
     "output_type": "stream",
     "text": [
      "[1, 2, 2, 1, 3, 3]\n"
     ]
    }
   ],
   "source": [
    "# Create an instance of the Solution class\n",
    "solution = Solution()\n",
    "\n",
    "str = \"(aa(bdc))p(dee)\"\n",
    "# Call the method on the instance\n",
    "result = solution.bracketNumbers(str)\n",
    "print(result)"
   ]
  }
 ],
 "metadata": {
  "kernelspec": {
   "display_name": "Python 3",
   "language": "python",
   "name": "python3"
  },
  "language_info": {
   "codemirror_mode": {
    "name": "ipython",
    "version": 3
   },
   "file_extension": ".py",
   "mimetype": "text/x-python",
   "name": "python",
   "nbconvert_exporter": "python",
   "pygments_lexer": "ipython3",
   "version": "3.12.3"
  }
 },
 "nbformat": 4,
 "nbformat_minor": 2
}
