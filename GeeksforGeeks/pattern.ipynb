{
 "cells": [
  {
   "cell_type": "markdown",
   "metadata": {},
   "source": [
    "The Palindrome Pattern"
   ]
  },
  {
   "cell_type": "code",
   "execution_count": null,
   "metadata": {},
   "outputs": [],
   "source": [
    "'''\n",
    "Given a two-dimensional integer array arr of dimensions n x n, consisting solely of zeros and ones, identify the row or column (using 0-based indexing) where all elements form a palindrome. If multiple palindromes are identified, prioritize the palindromes found in rows over those in columns. Within rows or columns, the palindrome with the smaller index takes precedence. The result should be represented by the index followed by either 'R' or 'C', indicating whether the palindrome was located in a row or column. The output should be space-separated. If no palindrome is found, return the string -1.\n",
    "\n",
    "Examples:\n",
    "\n",
    "Input: \n",
    "arr[][] =  [[1, 0, 0], \n",
    "           [0, 1, 0],\n",
    "           [1, 1, 0]]\n",
    "Output: 1 R\n",
    "Explanation: In the first test case, 0-1-0 is a palindrome \n",
    "occuring in a row having index 1.\n",
    "Input: \n",
    "arr[][] =   [[1, 0],\n",
    "           [1, 0]]\n",
    "Output: 0 C\n",
    "Explanation: 1-1 occurs before 0-0 in the 0th column. And there is no palindrome in the two rows.\n",
    "Expected Time Complexity: O(n2)\n",
    "Expected Auxiliary Space: O(1)\n",
    "\n",
    "Constraints:\n",
    "1<= arr.size <= 50\n",
    "0 <= arr[i][j] <= 1\n",
    "\n",
    "\n",
    "'''"
   ]
  },
  {
   "cell_type": "code",
   "execution_count": 1,
   "metadata": {},
   "outputs": [],
   "source": [
    "class Solution:\n",
    "    def pattern (self, arr):\n",
    "        ans = []\n",
    "        n = len(arr)\n",
    "        \n",
    "        for i in range(n):\n",
    "            if self.check_palindrom(arr[i]):\n",
    "                return str(i) + ' ' + 'R'\n",
    "        \n",
    "        arr = self.transpose(arr, n)\n",
    "        \n",
    "        for i in range(n):\n",
    "            if self.check_palindrom(arr[i]):\n",
    "                return str(i) + ' ' + 'C'\n",
    "        \n",
    "        return '-1'\n",
    "    \n",
    "    def check_palindrom(self, lis):\n",
    "        if lis == lis[::-1]:\n",
    "            return True\n",
    "        return False\n",
    "    \n",
    "    def transpose(self, mat, n):\n",
    "        for i in range(n):\n",
    "            for j in range(i + 1, n):\n",
    "                mat[i][j], mat[j][i] = mat[j][i], mat[i][j]\n",
    "        return mat\n",
    "\n"
   ]
  },
  {
   "cell_type": "code",
   "execution_count": 2,
   "metadata": {},
   "outputs": [
    {
     "name": "stdout",
     "output_type": "stream",
     "text": [
      "1 R\n"
     ]
    }
   ],
   "source": [
    "# Create an instance of the Solution class\n",
    "solution = Solution()\n",
    "\n",
    "arr =  [[1, 0, 0], \n",
    "           [0, 1, 0],\n",
    "           [1, 1, 0]]\n",
    "# Call the method on the instance\n",
    "result = solution.pattern(arr)\n",
    "print(result)"
   ]
  }
 ],
 "metadata": {
  "kernelspec": {
   "display_name": "Python 3",
   "language": "python",
   "name": "python3"
  },
  "language_info": {
   "codemirror_mode": {
    "name": "ipython",
    "version": 3
   },
   "file_extension": ".py",
   "mimetype": "text/x-python",
   "name": "python",
   "nbconvert_exporter": "python",
   "pygments_lexer": "ipython3",
   "version": "3.12.3"
  }
 },
 "nbformat": 4,
 "nbformat_minor": 2
}
