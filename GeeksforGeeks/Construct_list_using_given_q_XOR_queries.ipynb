{
 "cells": [
  {
   "cell_type": "code",
   "execution_count": 2,
   "metadata": {},
   "outputs": [
    {
     "data": {
      "text/plain": [
       "\"Given a list s that initially contains only a single value 0. There will be q queries of the following types:\\n\\n0 x: Insert x in the list\\n1 x: For every element a in s, replace it with a ^ x. ('^' denotes the bitwise XOR operator)\\nReturn the sorted list after performing the given q queries.\""
      ]
     },
     "execution_count": 2,
     "metadata": {},
     "output_type": "execute_result"
    }
   ],
   "source": [
    "# Construct list using given q XOR queries\n",
    "\n",
    "## Que:\n",
    "'''Given a list s that initially contains only a single value 0. There will be q queries of the following types:\n",
    "\n",
    "0 x: Insert x in the list\n",
    "1 x: For every element a in s, replace it with a ^ x. ('^' denotes the bitwise XOR operator)\n",
    "Return the sorted list after performing the given q queries.\n",
    "\n",
    "\n",
    "\n",
    "Example 1:\n",
    "\n",
    "Input:\n",
    "q = 5\n",
    "queries[] = {{0, 6}, {0, 3}, {0, 2}, {1, 4}, {1, 5}}\n",
    "Output:\n",
    "1 2 3 7\n",
    "Explanation:\n",
    "[0] (initial value)\n",
    "[0 6] (add 6 to list)\n",
    "[0 6 3] (add 3 to list)\n",
    "[0 6 3 2] (add 2 to list)\n",
    "[4 2 7 6] (XOR each element by 4)\n",
    "[1 7 2 3] (XOR each element by 5)\n",
    "The sorted list after performing all the queries is [1 2 3 7]. \n",
    "\n",
    "'''"
   ]
  },
  {
   "cell_type": "code",
   "execution_count": 10,
   "metadata": {},
   "outputs": [
    {
     "name": "stdout",
     "output_type": "stream",
     "text": [
      "[1, 2, 3, 7]\n"
     ]
    }
   ],
   "source": [
    "\n",
    "from typing import List\n",
    "\n",
    "class Solution:\n",
    "    def constructList(self, q : int, queries : List[List[int]]) -> List[int]:\n",
    "        mpp = {}\n",
    "        ans = [0]\n",
    "        for i in range(q):\n",
    "            qtype = queries[i][0]\n",
    "            qval  = queries[i][1]\n",
    "            if qtype == 0:\n",
    "                ans.append(qval)\n",
    "            else:\n",
    "                ind = len(ans)-1\n",
    "                if ind in mpp.keys():\n",
    "                    mpp[ind] ^= qval\n",
    "                else:\n",
    "                    mpp[ind] = qval\n",
    "        n = len(ans)\n",
    "        xorVal = 0\n",
    "        for i in range(n-1, -1, -1):\n",
    "            if i in mpp.keys():\n",
    "                xorVal ^= mpp[i]\n",
    "            ans[i] ^= xorVal\n",
    "        return sorted(ans)\n",
    "    \n",
    "\n",
    "\n",
    "# Create an instance of the Solution class\n",
    "solution = Solution()\n",
    "\n",
    "q = 5\n",
    "queries = [[0, 6], [0, 3], [0, 2], [1, 4], [1, 5]]\n",
    "\n",
    "# Call the method on the instance\n",
    "result = solution.constructList(q, queries)\n",
    "print(result)"
   ]
  }
 ],
 "metadata": {
  "kernelspec": {
   "display_name": "Python 3",
   "language": "python",
   "name": "python3"
  },
  "language_info": {
   "codemirror_mode": {
    "name": "ipython",
    "version": 3
   },
   "file_extension": ".py",
   "mimetype": "text/x-python",
   "name": "python",
   "nbconvert_exporter": "python",
   "pygments_lexer": "ipython3",
   "version": "3.12.3"
  }
 },
 "nbformat": 4,
 "nbformat_minor": 2
}
