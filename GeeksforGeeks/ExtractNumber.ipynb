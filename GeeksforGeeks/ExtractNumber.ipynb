{
 "cells": [
  {
   "cell_type": "markdown",
   "metadata": {},
   "source": [
    "Extract the Number from the String"
   ]
  },
  {
   "cell_type": "code",
   "execution_count": null,
   "metadata": {},
   "outputs": [],
   "source": [
    "'''\n",
    "Given a sentence containing several words and numbers. Find the largest number among them which does not contain 9. If no such number exists, return -1.\n",
    "\n",
    "Note: Numbers and words are separated by spaces only.\n",
    "\n",
    "Examples :\n",
    "\n",
    "Input: sentence=\"This is alpha 5057 and 97\"\n",
    "Output: 5057\n",
    "Explanation: 5057 is the only number that does not have a 9.\n",
    "Input: sentence=\"Another input 9007\"\n",
    "Output: -1\n",
    "Explanation: Since there is no number that does not contain a 9,output is -1.\n",
    "Expected Time Complexity: O(n)\n",
    "Expected Auxillary Space: O(n)\n",
    "\n",
    "Constraints:\n",
    "1<=n<=106\n",
    "1<=answer<=1018\n",
    "\n",
    "n is the length of a given sentence.\n",
    "\n",
    "\n",
    "'''"
   ]
  },
  {
   "cell_type": "code",
   "execution_count": 1,
   "metadata": {},
   "outputs": [],
   "source": [
    "class Solution:\n",
    "    def ExtractNumber(self,sentence):\n",
    "        numbers = list(map(int, filter(lambda x: x.isdigit() and \"9\" not in x, sentence.split())))\n",
    "        return max(numbers) if numbers else -1\n"
   ]
  },
  {
   "cell_type": "code",
   "execution_count": 2,
   "metadata": {},
   "outputs": [
    {
     "name": "stdout",
     "output_type": "stream",
     "text": [
      "5057\n"
     ]
    }
   ],
   "source": [
    "# Create an instance of the Solution class\n",
    "solution = Solution()\n",
    "\n",
    "sentence=\"This is alpha 5057 and 97\"\n",
    "# Call the method on the instance\n",
    "result = solution.ExtractNumber(sentence)\n",
    "print(result)"
   ]
  }
 ],
 "metadata": {
  "kernelspec": {
   "display_name": "Python 3",
   "language": "python",
   "name": "python3"
  },
  "language_info": {
   "codemirror_mode": {
    "name": "ipython",
    "version": 3
   },
   "file_extension": ".py",
   "mimetype": "text/x-python",
   "name": "python",
   "nbconvert_exporter": "python",
   "pygments_lexer": "ipython3",
   "version": "3.12.3"
  }
 },
 "nbformat": 4,
 "nbformat_minor": 2
}
