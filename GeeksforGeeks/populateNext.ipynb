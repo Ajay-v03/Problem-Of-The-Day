{
 "cells": [
  {
   "cell_type": "markdown",
   "metadata": {},
   "source": [
    "Populate Inorder Successor for all nodes"
   ]
  },
  {
   "cell_type": "code",
   "execution_count": null,
   "metadata": {},
   "outputs": [],
   "source": [
    "'''\n",
    "Given a Binary Tree, complete the function to populate the next pointer for all nodes. The next pointer for every node should point to the Inorder successor of the node.\n",
    "You do not have to return or print anything. Just make changes in the root node given to you.\n",
    "\n",
    "Note: The node having no in-order successor will be pointed to -1. You don't have to add -1 explicitly, the driver code will take care of this.\n",
    "\n",
    "Examples :\n",
    "\n",
    "Input:\n",
    "       10\n",
    "       /  \\\n",
    "      8   12\n",
    "     /\n",
    "    3\n",
    "Output: 3->8 8->10 10->12 12->-1\n",
    "Explanation: The inorder of the above tree is : 3 8 10 12. So the next pointer of node 3 is pointing to 8 , next pointer of 8 is pointing to 10 and so on.And next pointer of 12 is pointing to -1 as there is no inorder successor of 12.\n",
    "Input:\n",
    "       1\n",
    "      /  \n",
    "     2 \n",
    "   /\n",
    " 3  \n",
    "Output: 3->2 2->1 1->-1\n",
    "Explanation: The inorder of the above tree is: 3 2 1. So the next pointer of node 3 is pointing to 2 , next pointer of 2 is pointing to 1. And next pointer of 1 is pointing to -1 as there is no inorder successor of 1.\n",
    "Expected Time Complexity: O(n)\n",
    "Expected Auxiliary Space: O(1)\n",
    "\n",
    "Constraints:\n",
    "1<= no. of nodes <=105\n",
    "1<= data of the node <=105\n",
    "\n",
    "\n",
    "\n",
    "'''"
   ]
  },
  {
   "cell_type": "code",
   "execution_count": 1,
   "metadata": {},
   "outputs": [],
   "source": [
    "class Node:\n",
    "\n",
    "    def __init__(self, val):\n",
    "        self.right = None\n",
    "        self.data = val\n",
    "        self.left = None\n",
    "        self.next = None\n",
    "\n",
    "\n",
    "class Solution:\n",
    "    def populateNext(self, root):\n",
    "        def inorder(node, prev):\n",
    "            if not node:\n",
    "                return prev\n",
    "            prev = inorder(node.left, prev)\n",
    "            if prev:\n",
    "                prev.next = node\n",
    "            prev = node\n",
    "            return inorder(node.right, prev)\n",
    "        inorder(root, None)\n"
   ]
  }
 ],
 "metadata": {
  "kernelspec": {
   "display_name": "Python 3",
   "language": "python",
   "name": "python3"
  },
  "language_info": {
   "codemirror_mode": {
    "name": "ipython",
    "version": 3
   },
   "file_extension": ".py",
   "mimetype": "text/x-python",
   "name": "python",
   "nbconvert_exporter": "python",
   "pygments_lexer": "ipython3",
   "version": "3.12.3"
  }
 },
 "nbformat": 4,
 "nbformat_minor": 2
}
