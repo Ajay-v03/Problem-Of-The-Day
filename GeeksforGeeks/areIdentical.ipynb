{
 "cells": [
  {
   "cell_type": "markdown",
   "metadata": {},
   "source": [
    "Identical Linked Lists"
   ]
  },
  {
   "cell_type": "code",
   "execution_count": null,
   "metadata": {},
   "outputs": [],
   "source": [
    "'''\n",
    "Given the two singly Linked Lists respectively. The task is to check whether two linked lists are identical or not. \n",
    "Two Linked Lists are identical when they have the same data and with the same arrangement too. If both Linked Lists are identical then return true otherwise return false. \n",
    "\n",
    "Examples:\n",
    "\n",
    "Input:\n",
    "LinkedList1: 1->2->3->4->5->6\n",
    "LinkedList2: 99->59->42->20\n",
    "Output: false\n",
    "Explanation:\n",
    "\n",
    "As shown in figure linkedlists are not identical.\n",
    "Input:\n",
    "LinkedList1: 1->2->3->4->5\n",
    "LinkedList2: 1->2->3->4->5\n",
    "Output: true\n",
    "Explanation: \n",
    " \n",
    "As shown in figure both are identical.\n",
    "Expected Time Complexity: O(n)\n",
    "Expected Auxilliary Space: O(1)\n",
    "\n",
    "Constraints:\n",
    "1 <= length of lists <= 103\n",
    "\n",
    "'''"
   ]
  },
  {
   "cell_type": "code",
   "execution_count": null,
   "metadata": {},
   "outputs": [],
   "source": [
    "def areIdentical(head1, head2):\n",
    "    # Initialization :Two empty lists, l1 and l2, are initialized to store the data from the nodes of the two linked lists.\n",
    "    l1=[]\n",
    "    l2=[]\n",
    "    # Transverse  both linked list : This while loop iterates through the first linked list (head1). For each node, it appends the node's data to the list l1 and then moves to the next node.\n",
    "    while head1:\n",
    "        l1.append(head1.data)\n",
    "        head1=head1.next\n",
    "    while head2:\n",
    "        l2.append(head2.data)\n",
    "        head2=head2.next\n",
    "    # Comparing  both lists :After traversing both linked lists and storing their data in l1 and l2, this if statement checks if l1 is equal to l2. If they are identical (i.e.,contain the same elements in the same order), the function returns 1. Otherwise, it returns 0.\n",
    "    if l1==l2:\n",
    "        return 1\n",
    "    else:\n",
    "        return 0"
   ]
  }
 ],
 "metadata": {
  "kernelspec": {
   "display_name": "Python 3",
   "language": "python",
   "name": "python3"
  },
  "language_info": {
   "codemirror_mode": {
    "name": "ipython",
    "version": 3
   },
   "file_extension": ".py",
   "mimetype": "text/x-python",
   "name": "python",
   "nbconvert_exporter": "python",
   "pygments_lexer": "ipython3",
   "version": "3.12.3"
  }
 },
 "nbformat": 4,
 "nbformat_minor": 2
}
