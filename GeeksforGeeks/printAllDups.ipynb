{
 "cells": [
  {
   "cell_type": "markdown",
   "metadata": {},
   "source": [
    "Duplicate Subtrees"
   ]
  },
  {
   "cell_type": "code",
   "execution_count": null,
   "metadata": {},
   "outputs": [],
   "source": [
    "'''\n",
    "Given a binary tree, your task is to find all duplicate subtrees from the given binary tree.\n",
    "\n",
    "Duplicate Subtree : Two trees are duplicates if they have the same structure with the same node values.\n",
    "\n",
    "Note:  Return the root of each tree in the form of a list array & the driver code will print the tree in pre-order tree traversal in lexicographically increasing order.\n",
    "\n",
    "Examples:\n",
    "\n",
    "Input : \n",
    " \n",
    "Output: 2 4   \n",
    "        4\n",
    "Explanation: The above tree have two duplicate subtrees.i.e \n",
    "  2\n",
    " /\n",
    "4  and 4. Therefore, you need to return the above tree root in the form of a list.  \n",
    "Input:     5\n",
    "          / \\\n",
    "         4   6\n",
    "        / \\\n",
    "       3   4\n",
    "          / \\\n",
    "         3   6\n",
    "Output: \n",
    "3\n",
    "6\n",
    "Explanation: In the above tree, there are two duplicate subtrees.i.e\n",
    "3 and 6. Therefore, you need to return the above subtrees root in the form of a list. Here, 4 3  is not considered because for a subtree to be equal, it should have the same values as well as structure. If we consider the first subtree on the left, it has  \n",
    "two children, 3 on the left and 4 3 6   on the right. And for the second subtree it has 3 on the left and 6 on the right.\n",
    "Since the structures are not same for the subtrees hence they are not equal\n",
    "Expected Time Complexity: O(n)\n",
    "Expected Space Complexity: O(n)\n",
    "\n",
    "Constraints:\n",
    "1<= height of binary tree <=103\n",
    "\n",
    "'''"
   ]
  },
  {
   "cell_type": "code",
   "execution_count": 1,
   "metadata": {},
   "outputs": [],
   "source": [
    "class Solution:\n",
    "    def printAllDups(self, root):\n",
    "        ret={}\n",
    "        seen=set()\n",
    "        def dfs(cur=root):\n",
    "            if not cur:\n",
    "                return [-1]\n",
    "            left=dfs(cur.left)\n",
    "            right=dfs(cur.right)\n",
    "            tmp=[cur.data]+left+right\n",
    "            if tuple(tmp) in seen:\n",
    "                ret[tuple(tmp)]=cur\n",
    "            else:\n",
    "                seen.add(tuple(tmp))\n",
    "            return tmp\n",
    "        dfs()\n",
    "        return [ret[x] for x in sorted(ret)]\n"
   ]
  }
 ],
 "metadata": {
  "kernelspec": {
   "display_name": "Python 3",
   "language": "python",
   "name": "python3"
  },
  "language_info": {
   "codemirror_mode": {
    "name": "ipython",
    "version": 3
   },
   "file_extension": ".py",
   "mimetype": "text/x-python",
   "name": "python",
   "nbconvert_exporter": "python",
   "pygments_lexer": "ipython3",
   "version": "3.12.3"
  }
 },
 "nbformat": 4,
 "nbformat_minor": 2
}
