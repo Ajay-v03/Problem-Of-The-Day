{
 "cells": [
  {
   "cell_type": "markdown",
   "metadata": {},
   "source": [
    "Coverage of all Zeros in a Binary Matrix"
   ]
  },
  {
   "cell_type": "code",
   "execution_count": null,
   "metadata": {},
   "outputs": [],
   "source": [
    "'''\n",
    "Given a binary matrix contains 0s and 1s only, we need to find the sum of coverage of all zeros of the matrix where coverage for a particular 0 is defined as a total number of ones around a zero in left, right, up and bottom directions.\n",
    "\n",
    "Examples:\n",
    "\n",
    "Input:\n",
    "matrix = [[0, 1, 0],\n",
    "          [0, 1, 1],\n",
    "          [0, 0, 0]]\n",
    "Output: 6\n",
    "Explanation: There are a total of 6 coverage are there\n",
    "\n",
    "Input: \n",
    "matrix = [[0, 1]]\n",
    "Output: 1\n",
    "Explanation: There are only 1 coverage.\n",
    "Expected Time Complexity: O(n * m)\n",
    "Expected Space Complexity: O(1)\n",
    "\n",
    "Constraints:\n",
    "1 <= matrix.size, matrix[0].size <= 100\n",
    "\n",
    "\n",
    "'''"
   ]
  },
  {
   "cell_type": "code",
   "execution_count": 1,
   "metadata": {},
   "outputs": [],
   "source": [
    "class Solution:\n",
    "    def findCoverage(self, matrix):\n",
    "        count, row, col = 0, len(matrix), len(matrix[0])\n",
    "        \n",
    "        for i in range(row):\n",
    "            for j in range(col):\n",
    "                if matrix[i][j]:\n",
    "                    count+=int(-1<i-1<row and not matrix[i-1][j])\n",
    "                    count+=int(-1<j-1<col and not matrix[i][j-1])\n",
    "                    count+=int(-1<i+1<row and not matrix[i+1][j])\n",
    "                    count+=int(-1<j+1<col and not matrix[i][j+1])\n",
    "        \n",
    "        return count"
   ]
  },
  {
   "cell_type": "code",
   "execution_count": 2,
   "metadata": {},
   "outputs": [
    {
     "name": "stdout",
     "output_type": "stream",
     "text": [
      "6\n"
     ]
    }
   ],
   "source": [
    "# Create an instance of the Solution class\n",
    "solution = Solution()\n",
    "\n",
    "matrix = [[0, 1, 0],\n",
    "          [0, 1, 1],\n",
    "          [0, 0, 0]]\n",
    "# Call the method on the instance\n",
    "result = solution.findCoverage(matrix)\n",
    "print(result)"
   ]
  }
 ],
 "metadata": {
  "kernelspec": {
   "display_name": "Python 3",
   "language": "python",
   "name": "python3"
  },
  "language_info": {
   "codemirror_mode": {
    "name": "ipython",
    "version": 3
   },
   "file_extension": ".py",
   "mimetype": "text/x-python",
   "name": "python",
   "nbconvert_exporter": "python",
   "pygments_lexer": "ipython3",
   "version": "3.12.3"
  }
 },
 "nbformat": 4,
 "nbformat_minor": 2
}
