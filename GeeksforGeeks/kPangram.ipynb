{
 "cells": [
  {
   "cell_type": "markdown",
   "metadata": {},
   "source": [
    "K-Pangrams"
   ]
  },
  {
   "cell_type": "code",
   "execution_count": null,
   "metadata": {},
   "outputs": [],
   "source": [
    "'''\n",
    "Given a string str and an integer k, return true if the string can be changed into a pangram after at most k operations, else return false.\n",
    "\n",
    "A single operation consists of swapping an existing alphabetic character with any other lowercase alphabetic character.\n",
    "\n",
    "Note - A pangram is a sentence containing every letter in the english alphabet.\n",
    "\n",
    "Examples :\n",
    "\n",
    "Input: str = \"the quick brown fox jumps over the lazy dog\", k = 0\n",
    "Output: true\n",
    "Explanation: the sentence contains all 26 characters and is already a pangram.\n",
    "Input: str = \"aaaaaaaaaaaaaaaaaaaaaaaaaa\", k = 25 \n",
    "Output: true\n",
    "Explanation: The word contains 26 instances of 'a'. Since only 25 operations are allowed. We can keep 1 instance and change all others to make str a pangram.\n",
    "Input: str = \"a b c d e f g h i j k l m\", k = 20\n",
    "Output: false\n",
    "Explanation: Since there are only 13 alphabetic characters in this case, no amount of swapping can produce a panagram here.\n",
    "Expected Time Complexity: O(n)\n",
    "Expected Auxiliary Space: O(1)  \n",
    "\n",
    "Constraints:\n",
    "1<= str.size() <= 105\n",
    "0<= k <= 50\n",
    "str may contain duplicate characters\n",
    "str contains only lowercase alphabets or spaces.\n",
    "\n",
    "'''"
   ]
  },
  {
   "cell_type": "code",
   "execution_count": 1,
   "metadata": {},
   "outputs": [],
   "source": [
    "class Solution:\n",
    "    def kPangram(self,string, k):\n",
    "        # code here\n",
    "        string=string.split(\" \")\n",
    "        res=0\n",
    "        for i in string:\n",
    "            res+=len(i)\n",
    "        if res<26:\n",
    "            return False\n",
    "        d={}\n",
    "        for i in string:\n",
    "            for j in i:\n",
    "                d[j]=d.get(j,0)+1\n",
    "        if len(d)==26:\n",
    "            return True\n",
    "        elif 26-len(d)<=k:\n",
    "            return True\n",
    "        return False"
   ]
  },
  {
   "cell_type": "code",
   "execution_count": null,
   "metadata": {},
   "outputs": [],
   "source": [
    "# Create an instance of the Solution class\n",
    "solution = Solution()\n",
    "\n",
    "# Call the method on the instance\n",
    "result = solution.kPangram(str = \"the quick brown fox jumps over the lazy dog\", k = 0)\n",
    "print(result)"
   ]
  }
 ],
 "metadata": {
  "kernelspec": {
   "display_name": "Python 3",
   "language": "python",
   "name": "python3"
  },
  "language_info": {
   "codemirror_mode": {
    "name": "ipython",
    "version": 3
   },
   "file_extension": ".py",
   "mimetype": "text/x-python",
   "name": "python",
   "nbconvert_exporter": "python",
   "pygments_lexer": "ipython3",
   "version": "3.12.3"
  }
 },
 "nbformat": 4,
 "nbformat_minor": 2
}
