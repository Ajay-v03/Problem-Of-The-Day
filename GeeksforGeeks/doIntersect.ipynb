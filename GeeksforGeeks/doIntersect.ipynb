{
 "cells": [
  {
   "cell_type": "markdown",
   "metadata": {},
   "source": [
    "Check If two Line segments Intersect"
   ]
  },
  {
   "cell_type": "code",
   "execution_count": null,
   "metadata": {},
   "outputs": [],
   "source": [
    "'''\n",
    "Given the coordinates of the endpoints(p1,q1, and p2,q2) of the two line segments. Check if they intersect or not. If the Line segments intersect return true otherwise return false.\n",
    "\n",
    "Note: Please check the intersection lies within the line segments.\n",
    "\n",
    "Examples\n",
    "\n",
    "Input: p1=(1,1), q1=(10,1), p2=(1,2), q2=(10,2)\n",
    "Output: false\n",
    "Explanation:The two line segments formed by p1-q1 and p2-q2 do not intersect.\n",
    "Input: p1=(10,0), q1=(0,10), p2=(0,0), q2=(10,10)\n",
    "Output: true\n",
    "Explanation: The two line segments formed by p1-q1 and p2-q2 intersect.\n",
    "Input: p1=(5,-2), q1=(13,2), p2=(2,-3), q2=(3,0)\n",
    "Output: false\n",
    "Explanation: The two line segments formed by p1-q1 and p2-q2 are intersecting beyond endpoints, so it is not considerable.\n",
    "Expected Time Complexity: O(1)\n",
    "Expected Auxillary Space: O(1)\n",
    "\n",
    "Constraints:\n",
    "-106<=X,Y(for all points)<=106\n",
    "\n",
    "'''"
   ]
  },
  {
   "cell_type": "code",
   "execution_count": 1,
   "metadata": {},
   "outputs": [],
   "source": [
    "class Solution:\n",
    "    def doIntersect(self, p1, q1, p2, q2):\n",
    "        #code here\n",
    "        def orientation(p, q, r):\n",
    "           \n",
    "            val = (q[1] - p[1]) * (r[0] - q[0]) - (q[0] - p[0]) * (r[1] - q[1])\n",
    "            if val == 0:\n",
    "                return 0\n",
    "            elif val > 0:\n",
    "                return 1\n",
    "            else:\n",
    "                return 2\n",
    "\n",
    "        def onSegment(p, q, r):\n",
    "            \n",
    "            if (q[0] <= max(p[0], r[0]) and q[0] >= min(p[0], r[0]) and\n",
    "                q[1] <= max(p[1], r[1]) and q[1] >= min(p[1], r[1])):\n",
    "                return 'true'\n",
    "            return 'false'\n",
    "\n",
    "        o1 = orientation(p1, q1, p2)\n",
    "        o2 = orientation(p1, q1, q2)\n",
    "        o3 = orientation(p2, q2, p1)\n",
    "        o4 = orientation(p2, q2, q1)\n",
    "\n",
    "\n",
    "        if o1 != o2 and o3 != o4:\n",
    "            return 'true'\n",
    "        if o1 == 0 and onSegment(p1, p2, q1):\n",
    "            return 'true'\n",
    "\n",
    "        if o2 == 0 and onSegment(p1, q2, q1):\n",
    "            return 'true'\n",
    "\n",
    "        if o3 == 0 and onSegment(p2, p1, q2):\n",
    "            return 'true'\n",
    "\n",
    "        if o4 == 0 and onSegment(p2, q1, q2):\n",
    "            return 'true'\n",
    "\n",
    "        return 'false'\n"
   ]
  },
  {
   "cell_type": "code",
   "execution_count": 2,
   "metadata": {},
   "outputs": [
    {
     "name": "stdout",
     "output_type": "stream",
     "text": [
      "false\n"
     ]
    }
   ],
   "source": [
    "# Create an instance of the Solution class\n",
    "solution = Solution()\n",
    "\n",
    "p1=(1,1)\n",
    "q1=(10,1)\n",
    "p2=(1,2)\n",
    "q2=(10,2)\n",
    "# Call the method on the instance\n",
    "result = solution.doIntersect(p1, q1, p2, q2)\n",
    "print(result)"
   ]
  }
 ],
 "metadata": {
  "kernelspec": {
   "display_name": "Python 3",
   "language": "python",
   "name": "python3"
  },
  "language_info": {
   "codemirror_mode": {
    "name": "ipython",
    "version": 3
   },
   "file_extension": ".py",
   "mimetype": "text/x-python",
   "name": "python",
   "nbconvert_exporter": "python",
   "pygments_lexer": "ipython3",
   "version": "3.12.3"
  }
 },
 "nbformat": 4,
 "nbformat_minor": 2
}
