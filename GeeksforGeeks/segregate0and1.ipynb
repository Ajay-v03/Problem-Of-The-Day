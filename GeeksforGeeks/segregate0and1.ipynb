{
 "cells": [
  {
   "cell_type": "markdown",
   "metadata": {},
   "source": [
    "Segregate 0s and 1s"
   ]
  },
  {
   "cell_type": "code",
   "execution_count": null,
   "metadata": {},
   "outputs": [],
   "source": [
    "'''\n",
    "Given an array arr consisting of only 0's and 1's in random order. Modify the array in-place to segregate 0s onto the left side and 1s onto the right side of the array.\n",
    "\n",
    "Examples :\n",
    "\n",
    "Input: arr[] = [0, 0, 1, 1, 0]\n",
    "Output: [0, 0, 0, 1, 1]\n",
    "Explanation:  After segregation, all the 0's are on the left and 1's are on the right. Modified array will be [0, 0, 0, 1, 1].\n",
    "Input: arr[] = [1, 1, 1, 1]\n",
    "Output: [1, 1, 1, 1]\n",
    "Explanation: There are no 0s in the given array, so the modified array is [1, 1, 1, 1]\n",
    "Expected Time Complexity: O(n)\n",
    "Expected Auxiliary Space: O(1)\n",
    "\n",
    "Constraints:\n",
    "1 ≤ arr.size() ≤ 106\n",
    "0 ≤ arr[i] ≤ 1\n",
    "'''"
   ]
  },
  {
   "cell_type": "code",
   "execution_count": 2,
   "metadata": {},
   "outputs": [],
   "source": [
    "class Solution:\n",
    "    def segregate0and1(self, arr):\n",
    "        cnt0=0\n",
    "        cnt1=0\n",
    "        for i in range(len(arr)):\n",
    "            if arr[i]==0:\n",
    "                cnt0+=1\n",
    "            else:\n",
    "                cnt1+=1\n",
    "        for i in range(cnt0):\n",
    "            arr[i]=0\n",
    "        for i in range(cnt0,len(arr)):\n",
    "            arr[i]=1\n",
    "        return arr"
   ]
  },
  {
   "cell_type": "code",
   "execution_count": 3,
   "metadata": {},
   "outputs": [
    {
     "name": "stdout",
     "output_type": "stream",
     "text": [
      "[0, 0, 0, 1, 1]\n"
     ]
    }
   ],
   "source": [
    "# Create an instance of the Solution class\n",
    "solution = Solution()\n",
    "\n",
    "# Call the method on the instance\n",
    "result = solution.segregate0and1(arr = [0, 0, 1, 1, 0])\n",
    "print(result)"
   ]
  }
 ],
 "metadata": {
  "kernelspec": {
   "display_name": "Python 3",
   "language": "python",
   "name": "python3"
  },
  "language_info": {
   "codemirror_mode": {
    "name": "ipython",
    "version": 3
   },
   "file_extension": ".py",
   "mimetype": "text/x-python",
   "name": "python",
   "nbconvert_exporter": "python",
   "pygments_lexer": "ipython3",
   "version": "3.12.3"
  }
 },
 "nbformat": 4,
 "nbformat_minor": 2
}
