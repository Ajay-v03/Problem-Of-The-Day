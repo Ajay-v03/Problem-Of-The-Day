{
 "cells": [
  {
   "cell_type": "markdown",
   "metadata": {},
   "source": [
    "1552. Magnetic Force Between Two Balls"
   ]
  },
  {
   "cell_type": "code",
   "execution_count": null,
   "metadata": {},
   "outputs": [],
   "source": [
    "'''\n",
    "In the universe Earth C-137, Rick discovered a special form of magnetic force between two balls if they are put in his new invented basket. Rick has n empty baskets, the ith basket is at position[i], Morty has m balls and needs to distribute the balls into the baskets such that the minimum magnetic force between any two balls is maximum.\n",
    "\n",
    "Rick stated that magnetic force between two different balls at positions x and y is |x - y|.\n",
    "\n",
    "Given the integer array position and the integer m. Return the required force.\n",
    "\n",
    " \n",
    "\n",
    "Example 1:\n",
    "\n",
    "\n",
    "Input: position = [1,2,3,4,7], m = 3\n",
    "Output: 3\n",
    "Explanation: Distributing the 3 balls into baskets 1, 4 and 7 will make the magnetic force between ball pairs [3, 3, 6]. The minimum magnetic force is 3. We cannot achieve a larger minimum magnetic force than 3.\n",
    "Example 2:\n",
    "\n",
    "Input: position = [5,4,3,2,1,1000000000], m = 2\n",
    "Output: 999999999\n",
    "Explanation: We can use baskets 1 and 1000000000.\n",
    " \n",
    "\n",
    "Constraints:\n",
    "\n",
    "n == position.length\n",
    "2 <= n <= 105\n",
    "1 <= position[i] <= 109\n",
    "All integers in position are distinct.\n",
    "2 <= m <= position.length\n",
    "\n",
    "'''"
   ]
  },
  {
   "cell_type": "code",
   "execution_count": 1,
   "metadata": {},
   "outputs": [],
   "source": [
    "from typing import List\n",
    "class Solution:\n",
    "    def maxDistance(self, position: List[int], m: int) -> int:\n",
    "        position.sort()\n",
    "        n=len(position)\n",
    "        low=1\n",
    "        high=position[-1]-position[0]\n",
    "        while low<=high:\n",
    "            mid=(low+high)//2\n",
    "            balls_placed=1\n",
    "            prev_position=position[0]\n",
    "            for i in range(1,n):\n",
    "                if position[i]-prev_position>=mid:\n",
    "                    balls_placed+=1\n",
    "                    prev_position=position[i]\n",
    "            if balls_placed>=m:\n",
    "                low=mid+1\n",
    "                highest_force=mid\n",
    "            else:\n",
    "                high=mid-1\n",
    "        return highest_force                    "
   ]
  },
  {
   "cell_type": "code",
   "execution_count": 2,
   "metadata": {},
   "outputs": [
    {
     "name": "stdout",
     "output_type": "stream",
     "text": [
      "3\n"
     ]
    }
   ],
   "source": [
    "# Create an instance of the Solution class\n",
    "solution = Solution()\n",
    "\n",
    "position = [1,2,3,4,7]\n",
    "m = 3\n",
    "# Call the method on the instance\n",
    "result = solution.maxDistance(position,m)\n",
    "print(result)"
   ]
  }
 ],
 "metadata": {
  "kernelspec": {
   "display_name": "Python 3",
   "language": "python",
   "name": "python3"
  },
  "language_info": {
   "codemirror_mode": {
    "name": "ipython",
    "version": 3
   },
   "file_extension": ".py",
   "mimetype": "text/x-python",
   "name": "python",
   "nbconvert_exporter": "python",
   "pygments_lexer": "ipython3",
   "version": "3.12.3"
  }
 },
 "nbformat": 4,
 "nbformat_minor": 2
}
