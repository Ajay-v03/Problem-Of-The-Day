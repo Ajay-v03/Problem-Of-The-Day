{
 "cells": [
  {
   "cell_type": "markdown",
   "metadata": {},
   "source": [
    "846. Hand of Straights"
   ]
  },
  {
   "cell_type": "code",
   "execution_count": null,
   "metadata": {},
   "outputs": [],
   "source": [
    "'''\n",
    "Alice has some number of cards and she wants to rearrange the cards into groups so that each group is of size groupSize, and consists of groupSize consecutive cards.\n",
    "\n",
    "Given an integer array hand where hand[i] is the value written on the ith card and an integer groupSize, return true if she can rearrange the cards, or false otherwise.\n",
    "\n",
    " \n",
    "\n",
    "Example 1:\n",
    "\n",
    "Input: hand = [1,2,3,6,2,3,4,7,8], groupSize = 3\n",
    "Output: true\n",
    "Explanation: Alice's hand can be rearranged as [1,2,3],[2,3,4],[6,7,8]\n",
    "Example 2:\n",
    "\n",
    "Input: hand = [1,2,3,4,5], groupSize = 4\n",
    "Output: false\n",
    "Explanation: Alice's hand can not be rearranged into groups of 4.\n",
    "\n",
    " \n",
    "\n",
    "Constraints:\n",
    "\n",
    "1 <= hand.length <= 104\n",
    "0 <= hand[i] <= 109\n",
    "1 <= groupSize <= hand.length\n",
    "\n",
    "'''"
   ]
  },
  {
   "cell_type": "code",
   "execution_count": 1,
   "metadata": {},
   "outputs": [],
   "source": [
    "from typing import List\n",
    "from collections import Counter\n",
    "class Solution:\n",
    "    def isNStraightHand(self, hand: List[int], groupSize: int) -> bool:\n",
    "        counter = Counter(hand)\n",
    "        while counter:\n",
    "            n = groupSize\n",
    "            start = min(counter.keys())\n",
    "            while n:\n",
    "                if start not in counter:\n",
    "                    return False\n",
    "                counter[start] -= 1\n",
    "                if not counter[start]:\n",
    "                    del counter[start]\n",
    "                start += 1\n",
    "                n -= 1\n",
    "        return True"
   ]
  },
  {
   "cell_type": "code",
   "execution_count": 2,
   "metadata": {},
   "outputs": [
    {
     "name": "stdout",
     "output_type": "stream",
     "text": [
      "False\n"
     ]
    }
   ],
   "source": [
    "# Create an instance of the Solution class\n",
    "solution = Solution()\n",
    "\n",
    "hand = [1,2,3,4,5]\n",
    "groupSize = 4\n",
    "\n",
    "# Call the method on the instance\n",
    "result = solution.isNStraightHand(hand,groupSize)\n",
    "print(result)"
   ]
  }
 ],
 "metadata": {
  "kernelspec": {
   "display_name": "Python 3",
   "language": "python",
   "name": "python3"
  },
  "language_info": {
   "codemirror_mode": {
    "name": "ipython",
    "version": 3
   },
   "file_extension": ".py",
   "mimetype": "text/x-python",
   "name": "python",
   "nbconvert_exporter": "python",
   "pygments_lexer": "ipython3",
   "version": "3.12.3"
  }
 },
 "nbformat": 4,
 "nbformat_minor": 2
}
