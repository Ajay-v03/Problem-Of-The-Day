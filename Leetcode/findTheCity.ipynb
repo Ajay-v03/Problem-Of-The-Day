{
 "cells": [
  {
   "cell_type": "markdown",
   "metadata": {},
   "source": [
    "1334. Find the City With the Smallest Number of Neighbors at a Threshold Distance"
   ]
  },
  {
   "cell_type": "code",
   "execution_count": null,
   "metadata": {},
   "outputs": [],
   "source": [
    "'''\n",
    "There are n cities numbered from 0 to n-1. Given the array edges where edges[i] = [fromi, toi, weighti] represents a bidirectional and weighted edge between cities fromi and toi, and given the integer distanceThreshold.\n",
    "\n",
    "Return the city with the smallest number of cities that are reachable through some path and whose distance is at most distanceThreshold, If there are multiple such cities, return the city with the greatest number.\n",
    "\n",
    "Notice that the distance of a path connecting cities i and j is equal to the sum of the edges' weights along that path.\n",
    "\n",
    " \n",
    "\n",
    "Example 1:\n",
    "\n",
    "\n",
    "Input: n = 4, edges = [[0,1,3],[1,2,1],[1,3,4],[2,3,1]], distanceThreshold = 4\n",
    "Output: 3\n",
    "Explanation: The figure above describes the graph. \n",
    "The neighboring cities at a distanceThreshold = 4 for each city are:\n",
    "City 0 -> [City 1, City 2] \n",
    "City 1 -> [City 0, City 2, City 3] \n",
    "City 2 -> [City 0, City 1, City 3] \n",
    "City 3 -> [City 1, City 2] \n",
    "Cities 0 and 3 have 2 neighboring cities at a distanceThreshold = 4, but we have to return city 3 since it has the greatest number.\n",
    "Example 2:\n",
    "\n",
    "\n",
    "Input: n = 5, edges = [[0,1,2],[0,4,8],[1,2,3],[1,4,2],[2,3,1],[3,4,1]], distanceThreshold = 2\n",
    "Output: 0\n",
    "Explanation: The figure above describes the graph. \n",
    "The neighboring cities at a distanceThreshold = 2 for each city are:\n",
    "City 0 -> [City 1] \n",
    "City 1 -> [City 0, City 4] \n",
    "City 2 -> [City 3, City 4] \n",
    "City 3 -> [City 2, City 4]\n",
    "City 4 -> [City 1, City 2, City 3] \n",
    "The city 0 has 1 neighboring city at a distanceThreshold = 2.\n",
    " \n",
    "\n",
    "Constraints:\n",
    "\n",
    "2 <= n <= 100\n",
    "1 <= edges.length <= n * (n - 1) / 2\n",
    "edges[i].length == 3\n",
    "0 <= fromi < toi < n\n",
    "1 <= weighti, distanceThreshold <= 10^4\n",
    "All pairs (fromi, toi) are distinct.\n",
    "Seen this question in a real interview before?\n",
    "1/5\n",
    "Yes\n",
    "No\n",
    "Accepted\n",
    "165.1K\n",
    "Submissions\n",
    "250.2K\n",
    "Acceptance Rate\n",
    "66.0%\n",
    "Topics\n",
    "Companies\n",
    "Hint 1\n",
    "Hint 2\n",
    "Similar Questions\n",
    "Discussion (132)\n",
    "'''"
   ]
  },
  {
   "cell_type": "code",
   "execution_count": 1,
   "metadata": {},
   "outputs": [],
   "source": [
    "from typing import List\n",
    "\n",
    "class Solution:\n",
    "    def findTheCity(self, n: int, edges: List[List[int]], distanceThreshold: int) -> int:\n",
    "        # Initialize the distance matrix\n",
    "        dist = [[float('inf')] * n for _ in range(n)]\n",
    "        \n",
    "        # Set the distance from a city to itself to 0\n",
    "        for i in range(n):\n",
    "            dist[i][i] = 0\n",
    "        \n",
    "        # Populate initial distances from the edges\n",
    "        for u, v, w in edges:\n",
    "            dist[u][v] = w\n",
    "            dist[v][u] = w\n",
    "        \n",
    "        # Apply the Floyd-Warshall algorithm\n",
    "        for k in range(n):\n",
    "            for i in range(n):\n",
    "                for j in range(n):\n",
    "                    if dist[i][j] > dist[i][k] + dist[k][j]:\n",
    "                        dist[i][j] = dist[i][k] + dist[k][j]\n",
    "        \n",
    "        # Determine the number of reachable cities within the distance threshold for each city\n",
    "        reachable_cities = [0] * n\n",
    "        for i in range(n):\n",
    "            for j in range(n):\n",
    "                if i != j and dist[i][j] <= distanceThreshold:\n",
    "                    reachable_cities[i] += 1\n",
    "        \n",
    "        # Find the city with the smallest number of reachable cities\n",
    "        min_reachable = float('inf')\n",
    "        result_city = -1\n",
    "        for i in range(n):\n",
    "            if reachable_cities[i] <= min_reachable:\n",
    "                if reachable_cities[i] < min_reachable or i > result_city:\n",
    "                    min_reachable = reachable_cities[i]\n",
    "                    result_city = i\n",
    "        \n",
    "        return result_city"
   ]
  },
  {
   "cell_type": "code",
   "execution_count": 2,
   "metadata": {},
   "outputs": [
    {
     "name": "stdout",
     "output_type": "stream",
     "text": [
      "3\n"
     ]
    }
   ],
   "source": [
    "# Create an instance of the Solution class\n",
    "solution = Solution()\n",
    "\n",
    "# Call the method on the instance\n",
    "result = solution.findTheCity(n = 4, edges = [[0,1,3],[1,2,1],[1,3,4],[2,3,1]], distanceThreshold = 4)\n",
    "print(result)"
   ]
  }
 ],
 "metadata": {
  "kernelspec": {
   "display_name": "Python 3",
   "language": "python",
   "name": "python3"
  },
  "language_info": {
   "codemirror_mode": {
    "name": "ipython",
    "version": 3
   },
   "file_extension": ".py",
   "mimetype": "text/x-python",
   "name": "python",
   "nbconvert_exporter": "python",
   "pygments_lexer": "ipython3",
   "version": "3.12.3"
  }
 },
 "nbformat": 4,
 "nbformat_minor": 2
}
