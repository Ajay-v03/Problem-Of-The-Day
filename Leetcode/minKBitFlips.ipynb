{
 "cells": [
  {
   "cell_type": "markdown",
   "metadata": {},
   "source": [
    "995. Minimum Number of K Consecutive Bit Flips"
   ]
  },
  {
   "cell_type": "code",
   "execution_count": null,
   "metadata": {},
   "outputs": [],
   "source": [
    "'''\n",
    "You are given a binary array nums and an integer k.\n",
    "\n",
    "A k-bit flip is choosing a subarray of length k from nums and simultaneously changing every 0 in the subarray to 1, and every 1 in the subarray to 0.\n",
    "\n",
    "Return the minimum number of k-bit flips required so that there is no 0 in the array. If it is not possible, return -1.\n",
    "\n",
    "A subarray is a contiguous part of an array.\n",
    "\n",
    " \n",
    "\n",
    "Example 1:\n",
    "\n",
    "Input: nums = [0,1,0], k = 1\n",
    "Output: 2\n",
    "Explanation: Flip nums[0], then flip nums[2].\n",
    "Example 2:\n",
    "\n",
    "Input: nums = [1,1,0], k = 2\n",
    "Output: -1\n",
    "Explanation: No matter how we flip subarrays of size 2, we cannot make the array become [1,1,1].\n",
    "Example 3:\n",
    "\n",
    "Input: nums = [0,0,0,1,0,1,1,0], k = 3\n",
    "Output: 3\n",
    "Explanation: \n",
    "Flip nums[0],nums[1],nums[2]: nums becomes [1,1,1,1,0,1,1,0]\n",
    "Flip nums[4],nums[5],nums[6]: nums becomes [1,1,1,1,1,0,0,0]\n",
    "Flip nums[5],nums[6],nums[7]: nums becomes [1,1,1,1,1,1,1,1]\n",
    " \n",
    "\n",
    "Constraints:\n",
    "\n",
    "1 <= nums.length <= 105\n",
    "1 <= k <= nums.length\n",
    "\n",
    "\n",
    "'''"
   ]
  },
  {
   "cell_type": "code",
   "execution_count": 1,
   "metadata": {},
   "outputs": [],
   "source": [
    "from typing import List\n",
    "from collections import deque\n",
    "class Solution:\n",
    "    def minKBitFlips(self, nums: List[int], k: int) -> int:\n",
    "        \n",
    "        while nums and nums[-1] == 1:\n",
    "            nums.pop()\n",
    "\n",
    "        ans = 0\n",
    "        flip = deque() # list of left_end, flip record\n",
    "\n",
    "        while True:\n",
    "\n",
    "            while nums and (nums[-1] + len(flip)) % 2 == 1:\n",
    "                nums.pop()\n",
    "                while flip and flip[0] > len(nums) - 1:\n",
    "                    flip.popleft()\n",
    "\n",
    "            # can't flip\n",
    "            if len(nums) < k:\n",
    "                break\n",
    "            \n",
    "            right_end = len(nums) - 1\n",
    "            left_end = right_end - k + 1\n",
    "\n",
    "            flip.append(left_end)\n",
    "\n",
    "            ans += 1\n",
    "        \n",
    "        return ans if not nums else -1"
   ]
  },
  {
   "cell_type": "code",
   "execution_count": 2,
   "metadata": {},
   "outputs": [
    {
     "name": "stdout",
     "output_type": "stream",
     "text": [
      "2\n"
     ]
    }
   ],
   "source": [
    "# Create an instance of the Solution class\n",
    "solution = Solution()\n",
    "\n",
    "nums = [0,1,0]\n",
    "k = 1\n",
    "# Call the method on the instance\n",
    "result = solution.minKBitFlips(nums,k)\n",
    "print(result)"
   ]
  }
 ],
 "metadata": {
  "kernelspec": {
   "display_name": "Python 3",
   "language": "python",
   "name": "python3"
  },
  "language_info": {
   "codemirror_mode": {
    "name": "ipython",
    "version": 3
   },
   "file_extension": ".py",
   "mimetype": "text/x-python",
   "name": "python",
   "nbconvert_exporter": "python",
   "pygments_lexer": "ipython3",
   "version": "3.12.3"
  }
 },
 "nbformat": 4,
 "nbformat_minor": 2
}
