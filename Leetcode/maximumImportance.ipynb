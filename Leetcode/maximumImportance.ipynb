{
 "cells": [
  {
   "cell_type": "markdown",
   "metadata": {},
   "source": [
    "2285. Maximum Total Importance of Roads"
   ]
  },
  {
   "cell_type": "code",
   "execution_count": null,
   "metadata": {},
   "outputs": [],
   "source": [
    "'''\n",
    "You are given an integer n denoting the number of cities in a country. The cities are numbered from 0 to n - 1.\n",
    "\n",
    "You are also given a 2D integer array roads where roads[i] = [ai, bi] denotes that there exists a bidirectional road connecting cities ai and bi.\n",
    "\n",
    "You need to assign each city with an integer value from 1 to n, where each value can only be used once. The importance of a road is then defined as the sum of the values of the two cities it connects.\n",
    "\n",
    "Return the maximum total importance of all roads possible after assigning the values optimally.\n",
    "\n",
    " \n",
    "\n",
    "Example 1:\n",
    "\n",
    "\n",
    "Input: n = 5, roads = [[0,1],[1,2],[2,3],[0,2],[1,3],[2,4]]\n",
    "Output: 43\n",
    "Explanation: The figure above shows the country and the assigned values of [2,4,5,3,1].\n",
    "- The road (0,1) has an importance of 2 + 4 = 6.\n",
    "- The road (1,2) has an importance of 4 + 5 = 9.\n",
    "- The road (2,3) has an importance of 5 + 3 = 8.\n",
    "- The road (0,2) has an importance of 2 + 5 = 7.\n",
    "- The road (1,3) has an importance of 4 + 3 = 7.\n",
    "- The road (2,4) has an importance of 5 + 1 = 6.\n",
    "The total importance of all roads is 6 + 9 + 8 + 7 + 7 + 6 = 43.\n",
    "It can be shown that we cannot obtain a greater total importance than 43.\n",
    "Example 2:\n",
    "\n",
    "\n",
    "Input: n = 5, roads = [[0,3],[2,4],[1,3]]\n",
    "Output: 20\n",
    "Explanation: The figure above shows the country and the assigned values of [4,3,2,5,1].\n",
    "- The road (0,3) has an importance of 4 + 5 = 9.\n",
    "- The road (2,4) has an importance of 2 + 1 = 3.\n",
    "- The road (1,3) has an importance of 3 + 5 = 8.\n",
    "The total importance of all roads is 9 + 3 + 8 = 20.\n",
    "It can be shown that we cannot obtain a greater total importance than 20.\n",
    " \n",
    "\n",
    "Constraints:\n",
    "\n",
    "2 <= n <= 5 * 104\n",
    "1 <= roads.length <= 5 * 104\n",
    "roads[i].length == 2\n",
    "0 <= ai, bi <= n - 1\n",
    "ai != bi\n",
    "There are no duplicate roads.\n",
    "\n",
    "\n",
    "'''"
   ]
  },
  {
   "cell_type": "code",
   "execution_count": 1,
   "metadata": {},
   "outputs": [],
   "source": [
    "from typing import List\n",
    "class Solution:\n",
    "    def maximumImportance(self, n: int, roads: List[List[int]]) -> int:\n",
    "        f = [0 for _ in range(n)] \n",
    "        \n",
    "        for x, y in roads:\n",
    "            f[x] += 1\n",
    "            f[y] += 1\n",
    "        \n",
    "        f.sort()\n",
    "        s = 0\n",
    "        for i in range(len(f)):\n",
    "            s += f[i] * (i+1)  \n",
    "        return s"
   ]
  },
  {
   "cell_type": "code",
   "execution_count": 2,
   "metadata": {},
   "outputs": [
    {
     "name": "stdout",
     "output_type": "stream",
     "text": [
      "43\n"
     ]
    }
   ],
   "source": [
    "# Create an instance of the Solution class\n",
    "solution = Solution()\n",
    "\n",
    "n = 5\n",
    "roads = [[0,1],[1,2],[2,3],[0,2],[1,3],[2,4]]\n",
    "# Call the method on the instance\n",
    "result = solution.maximumImportance(n,roads)\n",
    "print(result)"
   ]
  }
 ],
 "metadata": {
  "kernelspec": {
   "display_name": "Python 3",
   "language": "python",
   "name": "python3"
  },
  "language_info": {
   "codemirror_mode": {
    "name": "ipython",
    "version": 3
   },
   "file_extension": ".py",
   "mimetype": "text/x-python",
   "name": "python",
   "nbconvert_exporter": "python",
   "pygments_lexer": "ipython3",
   "version": "3.12.3"
  }
 },
 "nbformat": 4,
 "nbformat_minor": 2
}
