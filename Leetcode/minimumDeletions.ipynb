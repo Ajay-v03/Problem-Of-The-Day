{
 "cells": [
  {
   "cell_type": "markdown",
   "metadata": {},
   "source": [
    "1653. Minimum Deletions to Make String Balanced"
   ]
  },
  {
   "cell_type": "code",
   "execution_count": null,
   "metadata": {},
   "outputs": [],
   "source": [
    "'''\n",
    "You are given a string s consisting only of characters 'a' and 'b'​​​​.\n",
    "\n",
    "You can delete any number of characters in s to make s balanced. s is balanced if there is no pair of indices (i,j) such that i < j and s[i] = 'b' and s[j]= 'a'.\n",
    "\n",
    "Return the minimum number of deletions needed to make s balanced.\n",
    "\n",
    " \n",
    "\n",
    "Example 1:\n",
    "\n",
    "Input: s = \"aababbab\"\n",
    "Output: 2\n",
    "Explanation: You can either:\n",
    "Delete the characters at 0-indexed positions 2 and 6 (\"aababbab\" -> \"aaabbb\"), or\n",
    "Delete the characters at 0-indexed positions 3 and 6 (\"aababbab\" -> \"aabbbb\").\n",
    "Example 2:\n",
    "\n",
    "Input: s = \"bbaaaaabb\"\n",
    "Output: 2\n",
    "Explanation: The only solution is to delete the first two characters.\n",
    " \n",
    "\n",
    "Constraints:\n",
    "\n",
    "1 <= s.length <= 105\n",
    "s[i] is 'a' or 'b'​​.\n",
    "\n",
    "'''"
   ]
  },
  {
   "cell_type": "code",
   "execution_count": 1,
   "metadata": {},
   "outputs": [],
   "source": [
    "class Solution:\n",
    "    def minimumDeletions(self, s: str) -> int:\n",
    "        cntA, ans=0, 0\n",
    "        for c in s[::-1]:\n",
    "            if c=='a': cntA+=1\n",
    "            else: ans=min(ans+1, cntA)\n",
    "        return ans\n",
    "        "
   ]
  },
  {
   "cell_type": "code",
   "execution_count": 2,
   "metadata": {},
   "outputs": [
    {
     "name": "stdout",
     "output_type": "stream",
     "text": [
      "2\n"
     ]
    }
   ],
   "source": [
    "# Create an instance of the Solution class\n",
    "solution = Solution()\n",
    "\n",
    "# Call the method on the instance\n",
    "result = solution.minimumDeletions(s = \"aababbab\")\n",
    "print(result)"
   ]
  }
 ],
 "metadata": {
  "kernelspec": {
   "display_name": "Python 3",
   "language": "python",
   "name": "python3"
  },
  "language_info": {
   "codemirror_mode": {
    "name": "ipython",
    "version": 3
   },
   "file_extension": ".py",
   "mimetype": "text/x-python",
   "name": "python",
   "nbconvert_exporter": "python",
   "pygments_lexer": "ipython3",
   "version": "3.12.3"
  }
 },
 "nbformat": 4,
 "nbformat_minor": 2
}
