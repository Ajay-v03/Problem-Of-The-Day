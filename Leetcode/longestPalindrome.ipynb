{
 "cells": [
  {
   "cell_type": "markdown",
   "metadata": {},
   "source": [
    "409. Longest Palindrome"
   ]
  },
  {
   "cell_type": "code",
   "execution_count": null,
   "metadata": {},
   "outputs": [],
   "source": [
    "'''\n",
    "Given a string s which consists of lowercase or uppercase letters, return the length of the longest \n",
    "palindrome\n",
    " that can be built with those letters.\n",
    "\n",
    "Letters are case sensitive, for example, \"Aa\" is not considered a palindrome.\n",
    "\n",
    " \n",
    "\n",
    "Example 1:\n",
    "\n",
    "Input: s = \"abccccdd\"\n",
    "Output: 7\n",
    "Explanation: One longest palindrome that can be built is \"dccaccd\", whose length is 7.\n",
    "Example 2:\n",
    "\n",
    "Input: s = \"a\"\n",
    "Output: 1\n",
    "Explanation: The longest palindrome that can be built is \"a\", whose length is 1.\n",
    " \n",
    "\n",
    "Constraints:\n",
    "\n",
    "1 <= s.length <= 2000\n",
    "s consists of lowercase and/or uppercase English letters only.\n",
    "\n",
    "'''"
   ]
  },
  {
   "cell_type": "code",
   "execution_count": 1,
   "metadata": {},
   "outputs": [],
   "source": [
    "class Solution:\n",
    "    def longestPalindrome(self, s: str) -> int:\n",
    "        count = {} # Hash Table   \n",
    "        ans = []   # every word's frequency \n",
    "        odd= 0     # store an odd number's frequency \n",
    "        for word in s:\n",
    "            if word not in count:\n",
    "                count[word] = 1\n",
    "            else:\n",
    "                count[word] += 1\n",
    "        for times in count.values():\n",
    "            ans.append(times)\n",
    "            if times % 2 != 0:\n",
    "                odd += 1      # calculate an odd number's frequency\n",
    "        if odd != 0:\n",
    "            return sum(ans) - odd + 1        \n",
    "        elif odd == 0:\n",
    "            return sum(ans) - odd"
   ]
  },
  {
   "cell_type": "code",
   "execution_count": 2,
   "metadata": {},
   "outputs": [
    {
     "name": "stdout",
     "output_type": "stream",
     "text": [
      "7\n"
     ]
    }
   ],
   "source": [
    "# Create an instance of the Solution class\n",
    "solution = Solution()\n",
    "\n",
    "s = \"abccccdd\"\n",
    "\n",
    "# Call the method on the instance\n",
    "result = solution.longestPalindrome(s)\n",
    "print(result)"
   ]
  }
 ],
 "metadata": {
  "kernelspec": {
   "display_name": "Python 3",
   "language": "python",
   "name": "python3"
  },
  "language_info": {
   "codemirror_mode": {
    "name": "ipython",
    "version": 3
   },
   "file_extension": ".py",
   "mimetype": "text/x-python",
   "name": "python",
   "nbconvert_exporter": "python",
   "pygments_lexer": "ipython3",
   "version": "3.12.3"
  }
 },
 "nbformat": 4,
 "nbformat_minor": 2
}
