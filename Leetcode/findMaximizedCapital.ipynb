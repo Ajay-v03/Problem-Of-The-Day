{
 "cells": [
  {
   "cell_type": "markdown",
   "metadata": {},
   "source": [
    "502. IPO"
   ]
  },
  {
   "cell_type": "code",
   "execution_count": null,
   "metadata": {},
   "outputs": [],
   "source": [
    "'''\n",
    "Suppose LeetCode will start its IPO soon. In order to sell a good price of its shares to Venture Capital, LeetCode would like to work on some projects to increase its capital before the IPO. Since it has limited resources, it can only finish at most k distinct projects before the IPO. Help LeetCode design the best way to maximize its total capital after finishing at most k distinct projects.\n",
    "\n",
    "You are given n projects where the ith project has a pure profit profits[i] and a minimum capital of capital[i] is needed to start it.\n",
    "\n",
    "Initially, you have w capital. When you finish a project, you will obtain its pure profit and the profit will be added to your total capital.\n",
    "\n",
    "Pick a list of at most k distinct projects from given projects to maximize your final capital, and return the final maximized capital.\n",
    "\n",
    "The answer is guaranteed to fit in a 32-bit signed integer.\n",
    "\n",
    " \n",
    "\n",
    "Example 1:\n",
    "\n",
    "Input: k = 2, w = 0, profits = [1,2,3], capital = [0,1,1]\n",
    "Output: 4\n",
    "Explanation: Since your initial capital is 0, you can only start the project indexed 0.\n",
    "After finishing it you will obtain profit 1 and your capital becomes 1.\n",
    "With capital 1, you can either start the project indexed 1 or the project indexed 2.\n",
    "Since you can choose at most 2 projects, you need to finish the project indexed 2 to get the maximum capital.\n",
    "Therefore, output the final maximized capital, which is 0 + 1 + 3 = 4.\n",
    "Example 2:\n",
    "\n",
    "Input: k = 3, w = 0, profits = [1,2,3], capital = [0,1,2]\n",
    "Output: 6\n",
    " \n",
    "\n",
    "Constraints:\n",
    "\n",
    "1 <= k <= 105\n",
    "0 <= w <= 109\n",
    "n == profits.length\n",
    "n == capital.length\n",
    "1 <= n <= 105\n",
    "0 <= profits[i] <= 104\n",
    "0 <= capital[i] <= 109\n",
    "\n",
    "'''"
   ]
  },
  {
   "cell_type": "code",
   "execution_count": 2,
   "metadata": {},
   "outputs": [],
   "source": [
    "from heapq import *\n",
    "from typing import List\n",
    "\n",
    "class Solution:\n",
    "    def findMaximizedCapital(self, k: int, w: int, profits: List[int], capital: List[int]) -> int:\n",
    "        minCapitalHeap = []\n",
    "        maxProfitHeap = []\n",
    "\n",
    "        # Insert all capitals to a min-heap\n",
    "        for i in range(0, len(profits)):\n",
    "            heappush(minCapitalHeap, (capital[i], i))\n",
    "\n",
    "        # Finding 'k' best projects\n",
    "        availableCapital = w\n",
    "        for _ in range(k):\n",
    "            # Projects that can be selected within the available capital. Insert these in a max-heap\n",
    "            while minCapitalHeap and minCapitalHeap[0][0] <= availableCapital:\n",
    "                capital, i = heappop(minCapitalHeap)\n",
    "                heappush(maxProfitHeap, (-profits[i], i))\n",
    "\n",
    "            # Break if we are not able to find any project that can be completed within the available capital\n",
    "            if not maxProfitHeap:\n",
    "                break\n",
    "\n",
    "            # Add the profit from project with the maximum profit\n",
    "            availableCapital += -heappop(maxProfitHeap)[0]\n",
    "\n",
    "        return availableCapital"
   ]
  },
  {
   "cell_type": "code",
   "execution_count": 3,
   "metadata": {},
   "outputs": [
    {
     "name": "stdout",
     "output_type": "stream",
     "text": [
      "4\n"
     ]
    }
   ],
   "source": [
    "# Create an instance of the Solution class\n",
    "solution = Solution()\n",
    "\n",
    "k = 2\n",
    "w = 0\n",
    "profits = [1,2,3]\n",
    "capital = [0,1,1]\n",
    "# Call the method on the instance\n",
    "result = solution.findMaximizedCapital(k,w,profits,capital)\n",
    "print(result)"
   ]
  }
 ],
 "metadata": {
  "kernelspec": {
   "display_name": "Python 3",
   "language": "python",
   "name": "python3"
  },
  "language_info": {
   "codemirror_mode": {
    "name": "ipython",
    "version": 3
   },
   "file_extension": ".py",
   "mimetype": "text/x-python",
   "name": "python",
   "nbconvert_exporter": "python",
   "pygments_lexer": "ipython3",
   "version": "3.12.3"
  }
 },
 "nbformat": 4,
 "nbformat_minor": 2
}
