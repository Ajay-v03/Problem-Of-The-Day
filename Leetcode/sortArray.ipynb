{
 "cells": [
  {
   "cell_type": "markdown",
   "metadata": {},
   "source": [
    "912. Sort an Array"
   ]
  },
  {
   "cell_type": "code",
   "execution_count": null,
   "metadata": {},
   "outputs": [],
   "source": [
    "'''\n",
    "Given an array of integers nums, sort the array in ascending order and return it.\n",
    "\n",
    "You must solve the problem without using any built-in functions in O(nlog(n)) time complexity and with the smallest space complexity possible.\n",
    "\n",
    " \n",
    "\n",
    "Example 1:\n",
    "\n",
    "Input: nums = [5,2,3,1]\n",
    "Output: [1,2,3,5]\n",
    "Explanation: After sorting the array, the positions of some numbers are not changed (for example, 2 and 3), while the positions of other numbers are changed (for example, 1 and 5).\n",
    "Example 2:\n",
    "\n",
    "Input: nums = [5,1,1,2,0,0]\n",
    "Output: [0,0,1,1,2,5]\n",
    "Explanation: Note that the values of nums are not necessairly unique.\n",
    " \n",
    "\n",
    "Constraints:\n",
    "\n",
    "1 <= nums.length <= 5 * 104\n",
    "-5 * 104 <= nums[i] <= 5 * 104\n",
    "\n",
    "'''"
   ]
  },
  {
   "cell_type": "code",
   "execution_count": 2,
   "metadata": {},
   "outputs": [],
   "source": [
    "class Solution:\n",
    "    def sortArray(self, nums):\n",
    "        def merge_sort(arr):\n",
    "            if len(arr) > 1:\n",
    "                mid = len(arr) // 2\n",
    "                left_half = arr[:mid]\n",
    "                right_half = arr[mid:]\n",
    "\n",
    "                merge_sort(left_half)\n",
    "                merge_sort(right_half)\n",
    "\n",
    "                i = j = k = 0\n",
    "                while i < len(left_half) and j < len(right_half):\n",
    "                    if left_half[i] < right_half[j]:\n",
    "                        arr[k] = left_half[i]\n",
    "                        i += 1\n",
    "                    else:\n",
    "                        arr[k] = right_half[j]\n",
    "                        j += 1\n",
    "                    k += 1\n",
    "\n",
    "                while i < len(left_half):\n",
    "                    arr[k] = left_half[i]\n",
    "                    i += 1\n",
    "                    k += 1\n",
    "\n",
    "                while j < len(right_half):\n",
    "                    arr[k] = right_half[j]\n",
    "                    j += 1\n",
    "                    k += 1\n",
    "\n",
    "        merge_sort(nums)\n",
    "        return nums"
   ]
  },
  {
   "cell_type": "code",
   "execution_count": 4,
   "metadata": {},
   "outputs": [
    {
     "name": "stdout",
     "output_type": "stream",
     "text": [
      "[1, 2, 3, 5]\n"
     ]
    }
   ],
   "source": [
    "# Create an instance of the Solution class\n",
    "solution = Solution()\n",
    "\n",
    "# Call the method on the instance\n",
    "result = solution.sortArray(nums = [5,2,3,1])\n",
    "print(result)"
   ]
  }
 ],
 "metadata": {
  "kernelspec": {
   "display_name": "Python 3",
   "language": "python",
   "name": "python3"
  },
  "language_info": {
   "codemirror_mode": {
    "name": "ipython",
    "version": 3
   },
   "file_extension": ".py",
   "mimetype": "text/x-python",
   "name": "python",
   "nbconvert_exporter": "python",
   "pygments_lexer": "ipython3",
   "version": "3.12.3"
  }
 },
 "nbformat": 4,
 "nbformat_minor": 2
}
