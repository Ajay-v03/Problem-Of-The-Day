{
 "cells": [
  {
   "cell_type": "markdown",
   "metadata": {},
   "source": [
    "523. Continuous Subarray Sum"
   ]
  },
  {
   "cell_type": "code",
   "execution_count": null,
   "metadata": {},
   "outputs": [],
   "source": [
    "'''\n",
    "Given an integer array nums and an integer k, return true if nums has a good subarray or false otherwise.\n",
    "\n",
    "A good subarray is a subarray where:\n",
    "\n",
    "its length is at least two, and\n",
    "the sum of the elements of the subarray is a multiple of k.\n",
    "Note that:\n",
    "\n",
    "A subarray is a contiguous part of the array.\n",
    "An integer x is a multiple of k if there exists an integer n such that x = n * k. 0 is always a multiple of k.\n",
    " \n",
    "\n",
    "Example 1:\n",
    "\n",
    "Input: nums = [23,2,4,6,7], k = 6\n",
    "Output: true\n",
    "Explanation: [2, 4] is a continuous subarray of size 2 whose elements sum up to 6.\n",
    "Example 2:\n",
    "\n",
    "Input: nums = [23,2,6,4,7], k = 6\n",
    "Output: true\n",
    "Explanation: [23, 2, 6, 4, 7] is an continuous subarray of size 5 whose elements sum up to 42.\n",
    "42 is a multiple of 6 because 42 = 7 * 6 and 7 is an integer.\n",
    "Example 3:\n",
    "\n",
    "Input: nums = [23,2,6,4,7], k = 13\n",
    "Output: false\n",
    " \n",
    "\n",
    "Constraints:\n",
    "\n",
    "1 <= nums.length <= 105\n",
    "0 <= nums[i] <= 109\n",
    "0 <= sum(nums[i]) <= 231 - 1\n",
    "1 <= k <= 231 - 1\n",
    "\n",
    "'''"
   ]
  },
  {
   "cell_type": "code",
   "execution_count": 4,
   "metadata": {},
   "outputs": [],
   "source": [
    "from typing import List, defaultdict\n",
    "\n",
    "class Solution:\n",
    "    def checkSubarraySum(self, nums: List[int], k: int) -> bool:\n",
    "        start = 0\n",
    "        for i in range(1, len(nums)):\n",
    "            if(nums[i] == nums[i-1] == 0):\n",
    "                return 1\n",
    "        d = defaultdict(int)\n",
    "        d[0] = 1\n",
    "        for i in nums:\n",
    "            start = (start + i) % k\n",
    "            if(i and start in d and (d[start] >= 2 or i%k)):\n",
    "                return 1\n",
    "            d[start] += 1"
   ]
  },
  {
   "cell_type": "code",
   "execution_count": 6,
   "metadata": {},
   "outputs": [
    {
     "name": "stdout",
     "output_type": "stream",
     "text": [
      "1\n"
     ]
    }
   ],
   "source": [
    "# Create an instance of the Solution class\n",
    "solution = Solution()\n",
    "\n",
    "nums = [23,2,4,6,7]\n",
    "k = 6\n",
    "\n",
    "# Call the method on the instance\n",
    "result = solution.checkSubarraySum(nums,k)\n",
    "print(result)"
   ]
  }
 ],
 "metadata": {
  "kernelspec": {
   "display_name": "Python 3",
   "language": "python",
   "name": "python3"
  },
  "language_info": {
   "codemirror_mode": {
    "name": "ipython",
    "version": 3
   },
   "file_extension": ".py",
   "mimetype": "text/x-python",
   "name": "python",
   "nbconvert_exporter": "python",
   "pygments_lexer": "ipython3",
   "version": "3.12.3"
  }
 },
 "nbformat": 4,
 "nbformat_minor": 2
}
