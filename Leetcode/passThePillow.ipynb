{
 "cells": [
  {
   "cell_type": "markdown",
   "metadata": {},
   "source": [
    "2582. Pass the Pillow"
   ]
  },
  {
   "cell_type": "code",
   "execution_count": null,
   "metadata": {},
   "outputs": [],
   "source": [
    "'''\n",
    "There are n people standing in a line labeled from 1 to n. The first person in the line is holding a pillow initially. Every second, the person holding the pillow passes it to the next person standing in the line. Once the pillow reaches the end of the line, the direction changes, and people continue passing the pillow in the opposite direction.\n",
    "\n",
    "For example, once the pillow reaches the nth person they pass it to the n - 1th person, then to the n - 2th person and so on.\n",
    "Given the two positive integers n and time, return the index of the person holding the pillow after time seconds.\n",
    "\n",
    " \n",
    "\n",
    "Example 1:\n",
    "\n",
    "Input: n = 4, time = 5\n",
    "Output: 2\n",
    "Explanation: People pass the pillow in the following way: 1 -> 2 -> 3 -> 4 -> 3 -> 2.\n",
    "After five seconds, the 2nd person is holding the pillow.\n",
    "Example 2:\n",
    "\n",
    "Input: n = 3, time = 2\n",
    "Output: 3\n",
    "Explanation: People pass the pillow in the following way: 1 -> 2 -> 3.\n",
    "After two seconds, the 3rd person is holding the pillow.\n",
    " \n",
    "\n",
    "Constraints:\n",
    "\n",
    "2 <= n <= 1000\n",
    "1 <= time <= 1000\n",
    "\n",
    "'''"
   ]
  },
  {
   "cell_type": "code",
   "execution_count": 1,
   "metadata": {},
   "outputs": [],
   "source": [
    "class Solution:\n",
    "    def passThePillow(self, n: int, time: int) -> int:\n",
    "        \n",
    "        n-= 1                       #  <-- 1)\n",
    " \n",
    "        time%= n+n                  #  <-- 2) \n",
    "        \n",
    "        return n+1 - abs(n - time)  #  <-- 3)"
   ]
  },
  {
   "cell_type": "code",
   "execution_count": 2,
   "metadata": {},
   "outputs": [
    {
     "name": "stdout",
     "output_type": "stream",
     "text": [
      "2\n"
     ]
    }
   ],
   "source": [
    "# Create an instance of the Solution class\n",
    "solution = Solution()\n",
    "\n",
    "# Call the method on the instance\n",
    "result = solution.passThePillow(n = 4, time = 5)\n",
    "print(result)"
   ]
  }
 ],
 "metadata": {
  "kernelspec": {
   "display_name": "Python 3",
   "language": "python",
   "name": "python3"
  },
  "language_info": {
   "codemirror_mode": {
    "name": "ipython",
    "version": 3
   },
   "file_extension": ".py",
   "mimetype": "text/x-python",
   "name": "python",
   "nbconvert_exporter": "python",
   "pygments_lexer": "ipython3",
   "version": "3.12.3"
  }
 },
 "nbformat": 4,
 "nbformat_minor": 2
}
