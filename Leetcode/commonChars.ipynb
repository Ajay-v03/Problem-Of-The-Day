{
 "cells": [
  {
   "cell_type": "markdown",
   "metadata": {},
   "source": [
    "1002. Find Common Characters"
   ]
  },
  {
   "cell_type": "code",
   "execution_count": null,
   "metadata": {},
   "outputs": [],
   "source": [
    "'''\n",
    "Given a string array words, return an array of all characters that show up in all strings\n",
    " within the words (including duplicates). You may return the answer in any order.\n",
    "\n",
    "Example 1:\n",
    "\n",
    "Input: words = [\"bella\",\"label\",\"roller\"]\n",
    "Output: [\"e\",\"l\",\"l\"]\n",
    "Example 2:\n",
    "\n",
    "Input: words = [\"cool\",\"lock\",\"cook\"]\n",
    "Output: [\"c\",\"o\"]\n",
    " \n",
    "\n",
    "Constraints:\n",
    "\n",
    "1 <= words.length <= 100\n",
    "1 <= words[i].length <= 100\n",
    "words[i] consists of lowercase English letters.\n",
    "\n",
    "'''"
   ]
  },
  {
   "cell_type": "code",
   "execution_count": 1,
   "metadata": {},
   "outputs": [],
   "source": [
    "from collections import Counter\n",
    "from typing import List\n",
    "\n",
    "class Solution:\n",
    "    def commonChars(self, words: List[str]) -> List[str]:\n",
    "        res = Counter(words[0])\n",
    "        for i in words:\n",
    "            res &= Counter(i)\n",
    "        return list(res.elements())"
   ]
  },
  {
   "cell_type": "code",
   "execution_count": 2,
   "metadata": {},
   "outputs": [
    {
     "name": "stdout",
     "output_type": "stream",
     "text": [
      "['e', 'l', 'l']\n"
     ]
    }
   ],
   "source": [
    "# Create an instance of the Solution class\n",
    "solution = Solution()\n",
    "\n",
    "words = [\"bella\",\"label\",\"roller\"]\n",
    "\n",
    "# Call the method on the instance\n",
    "result = solution.commonChars(words)\n",
    "print(result)"
   ]
  }
 ],
 "metadata": {
  "kernelspec": {
   "display_name": "Python 3",
   "language": "python",
   "name": "python3"
  },
  "language_info": {
   "codemirror_mode": {
    "name": "ipython",
    "version": 3
   },
   "file_extension": ".py",
   "mimetype": "text/x-python",
   "name": "python",
   "nbconvert_exporter": "python",
   "pygments_lexer": "ipython3",
   "version": "3.12.3"
  }
 },
 "nbformat": 4,
 "nbformat_minor": 2
}
