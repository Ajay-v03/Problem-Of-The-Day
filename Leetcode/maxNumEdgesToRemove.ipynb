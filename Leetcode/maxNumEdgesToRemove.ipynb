{
 "cells": [
  {
   "cell_type": "markdown",
   "metadata": {},
   "source": [
    "1579. Remove Max Number of Edges to Keep Graph Fully Traversable"
   ]
  },
  {
   "cell_type": "code",
   "execution_count": null,
   "metadata": {},
   "outputs": [],
   "source": [
    "'''\n",
    "Alice and Bob have an undirected graph of n nodes and three types of edges:\n",
    "\n",
    "Type 1: Can be traversed by Alice only.\n",
    "Type 2: Can be traversed by Bob only.\n",
    "Type 3: Can be traversed by both Alice and Bob.\n",
    "Given an array edges where edges[i] = [typei, ui, vi] represents a bidirectional edge of type typei between nodes ui and vi, find the maximum number of edges you can remove so that after removing the edges, the graph can still be fully traversed by both Alice and Bob. The graph is fully traversed by Alice and Bob if starting from any node, they can reach all other nodes.\n",
    "\n",
    "Return the maximum number of edges you can remove, or return -1 if Alice and Bob cannot fully traverse the graph.\n",
    "\n",
    " \n",
    "\n",
    "Example 1:\n",
    "\n",
    "\n",
    "\n",
    "Input: n = 4, edges = [[3,1,2],[3,2,3],[1,1,3],[1,2,4],[1,1,2],[2,3,4]]\n",
    "Output: 2\n",
    "Explanation: If we remove the 2 edges [1,1,2] and [1,1,3]. The graph will still be fully traversable by Alice and Bob. Removing any additional edge will not make it so. So the maximum number of edges we can remove is 2.\n",
    "Example 2:\n",
    "\n",
    "\n",
    "\n",
    "Input: n = 4, edges = [[3,1,2],[3,2,3],[1,1,4],[2,1,4]]\n",
    "Output: 0\n",
    "Explanation: Notice that removing any edge will not make the graph fully traversable by Alice and Bob.\n",
    "Example 3:\n",
    "\n",
    "\n",
    "\n",
    "Input: n = 4, edges = [[3,2,3],[1,1,2],[2,3,4]]\n",
    "Output: -1\n",
    "Explanation: In the current graph, Alice cannot reach node 4 from the other nodes. Likewise, Bob cannot reach 1. Therefore it's impossible to make the graph fully traversable.\n",
    " \n",
    "\n",
    " \n",
    "\n",
    "Constraints:\n",
    "\n",
    "1 <= n <= 105\n",
    "1 <= edges.length <= min(105, 3 * n * (n - 1) / 2)\n",
    "edges[i].length == 3\n",
    "1 <= typei <= 3\n",
    "1 <= ui < vi <= n\n",
    "All tuples (typei, ui, vi) are distinct.\n",
    "\n",
    "'''"
   ]
  },
  {
   "cell_type": "code",
   "execution_count": 1,
   "metadata": {},
   "outputs": [],
   "source": [
    "from typing import List\n",
    "class UnionFind:\n",
    "    \"\"\"A minimalist standalone union-find implementation.\"\"\"\n",
    "    def __init__(self, n):\n",
    "        self.count = n               # number of disjoint sets \n",
    "        self.parent = list(range(n)) # parent of given nodes\n",
    "        self.rank = [1]*n            # rank (aka size) of sub-tree \n",
    "        \n",
    "    def find(self, p):\n",
    "        \"\"\"Find with path compression.\"\"\"\n",
    "        if p != self.parent[p]: \n",
    "            self.parent[p] = self.find(self.parent[p]) # path compression \n",
    "        return self.parent[p]\n",
    "    \n",
    "    def union(self, p, q):\n",
    "        \"\"\"Union with ranking.\"\"\"\n",
    "        prt, qrt = self.find(p), self.find(q)\n",
    "        if prt == qrt: return False\n",
    "        self.count -= 1 # one more connection => one less disjoint \n",
    "        if self.rank[prt] > self.rank[qrt]: prt, qrt = qrt, prt # add small sub-tree to large sub-tree for balancing\n",
    "        self.parent[prt] = qrt\n",
    "        self.rank[qrt] += self.rank[prt] # ranking \n",
    "        return True\n",
    "    \n",
    "        \n",
    "class Solution:\n",
    "    def maxNumEdgesToRemove(self, n: int, edges: List[List[int]]) -> int:\n",
    "        ufa = UnionFind(n) # for Alice\n",
    "        ufb = UnionFind(n) # for Bob\n",
    "        \n",
    "        ans = 0\n",
    "        edges.sort(reverse=True) \n",
    "        for t, u, v in edges: \n",
    "            u, v = u-1, v-1\n",
    "            if t == 3: ans += not (ufa.union(u, v) and ufb.union(u, v)) # Alice & Bob\n",
    "            elif t == 2: ans += not ufb.union(u, v)                     # Bob only\n",
    "            else: ans += not ufa.union(u, v)                            # Alice only\n",
    "        return ans if ufa.count == 1 and ufb.count == 1 else -1 # check if uf is connected "
   ]
  },
  {
   "cell_type": "code",
   "execution_count": 2,
   "metadata": {},
   "outputs": [
    {
     "name": "stdout",
     "output_type": "stream",
     "text": [
      "2\n"
     ]
    }
   ],
   "source": [
    "# Create an instance of the Solution class\n",
    "solution = Solution()\n",
    "\n",
    "n = 4\n",
    "edges = [[3,1,2],[3,2,3],[1,1,3],[1,2,4],[1,1,2],[2,3,4]]\n",
    "# Call the method on the instance\n",
    "result = solution.maxNumEdgesToRemove(n,edges)\n",
    "print(result)"
   ]
  }
 ],
 "metadata": {
  "kernelspec": {
   "display_name": "Python 3",
   "language": "python",
   "name": "python3"
  },
  "language_info": {
   "codemirror_mode": {
    "name": "ipython",
    "version": 3
   },
   "file_extension": ".py",
   "mimetype": "text/x-python",
   "name": "python",
   "nbconvert_exporter": "python",
   "pygments_lexer": "ipython3",
   "version": "3.12.3"
  }
 },
 "nbformat": 4,
 "nbformat_minor": 2
}
