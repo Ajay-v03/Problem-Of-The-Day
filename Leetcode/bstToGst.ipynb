{
 "cells": [
  {
   "cell_type": "markdown",
   "metadata": {},
   "source": [
    "1038. Binary Search Tree to Greater Sum Tree"
   ]
  },
  {
   "cell_type": "code",
   "execution_count": null,
   "metadata": {},
   "outputs": [],
   "source": [
    "'''\n",
    "Given the root of a Binary Search Tree (BST), convert it to a Greater Tree such that every key of the original BST is changed to the original key plus the sum of all keys greater than the original key in BST.\n",
    "\n",
    "As a reminder, a binary search tree is a tree that satisfies these constraints:\n",
    "\n",
    "The left subtree of a node contains only nodes with keys less than the node's key.\n",
    "The right subtree of a node contains only nodes with keys greater than the node's key.\n",
    "Both the left and right subtrees must also be binary search trees.\n",
    " \n",
    "\n",
    "Example 1:\n",
    "\n",
    "\n",
    "Input: root = [4,1,6,0,2,5,7,null,null,null,3,null,null,null,8]\n",
    "Output: [30,36,21,36,35,26,15,null,null,null,33,null,null,null,8]\n",
    "Example 2:\n",
    "\n",
    "Input: root = [0,null,1]\n",
    "Output: [1,null,1]\n",
    " \n",
    "\n",
    "Constraints:\n",
    "\n",
    "The number of nodes in the tree is in the range [1, 100].\n",
    "0 <= Node.val <= 100\n",
    "All the values in the tree are unique.\n",
    "\n",
    "'''"
   ]
  },
  {
   "cell_type": "code",
   "execution_count": null,
   "metadata": {},
   "outputs": [],
   "source": [
    "# Definition for a binary tree node.\n",
    "# class TreeNode:\n",
    "#     def __init__(self, val=0, left=None, right=None):\n",
    "#         self.val = val\n",
    "#         self.left = left\n",
    "#         self.right = right\n",
    "class Solution:\n",
    "    def bstToGst(self, root: TreeNode) -> TreeNode:\n",
    "        arr = []\n",
    "        node = root\n",
    "        def inorder(node):\n",
    "            if node.left:\n",
    "                inorder(node.left)\n",
    "            arr.append(node.val)\n",
    "            if node.right:\n",
    "                inorder(node.right)\n",
    "        inorder(node)\n",
    "        def addsum(node):\n",
    "            ind = arr.index(node.val)\n",
    "            leng = len(arr)\n",
    "            sums = sum(arr[ind:leng])\n",
    "            print(sums)\n",
    "            node.val = sums\n",
    "            if node.left:\n",
    "                addsum(node.left)\n",
    "            if node.right:\n",
    "                addsum(node.right)\n",
    "        addsum(node)\n",
    "        return node"
   ]
  },
  {
   "cell_type": "code",
   "execution_count": null,
   "metadata": {},
   "outputs": [],
   "source": [
    "# Create an instance of the Solution class\n",
    "solution = Solution()\n",
    "\n",
    "root = [4,1,6,0,2,5,7,null,null,null,3,null,null,null,8]\n",
    "# Call the method on the instance\n",
    "result = solution.rotateMatrix(root)\n",
    "print(result)"
   ]
  },
  {
   "cell_type": "code",
   "execution_count": null,
   "metadata": {},
   "outputs": [],
   "source": []
  }
 ],
 "metadata": {
  "language_info": {
   "name": "python"
  }
 },
 "nbformat": 4,
 "nbformat_minor": 2
}
