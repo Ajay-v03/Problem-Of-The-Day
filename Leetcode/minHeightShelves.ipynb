{
 "cells": [
  {
   "cell_type": "markdown",
   "metadata": {},
   "source": [
    "1105. Filling Bookcase Shelves"
   ]
  },
  {
   "cell_type": "code",
   "execution_count": null,
   "metadata": {},
   "outputs": [],
   "source": [
    "'''\n",
    "You are given an array books where books[i] = [thicknessi, heighti] indicates the thickness and height of the ith book. You are also given an integer shelfWidth.\n",
    "\n",
    "We want to place these books in order onto bookcase shelves that have a total width shelfWidth.\n",
    "\n",
    "We choose some of the books to place on this shelf such that the sum of their thickness is less than or equal to shelfWidth, then build another level of the shelf of the bookcase so that the total height of the bookcase has increased by the maximum height of the books we just put down. We repeat this process until there are no more books to place.\n",
    "\n",
    "Note that at each step of the above process, the order of the books we place is the same order as the given sequence of books.\n",
    "\n",
    "For example, if we have an ordered list of 5 books, we might place the first and second book onto the first shelf, the third book on the second shelf, and the fourth and fifth book on the last shelf.\n",
    "Return the minimum possible height that the total bookshelf can be after placing shelves in this manner.\n",
    "\n",
    " \n",
    "\n",
    "Example 1:\n",
    "\n",
    "\n",
    "Input: books = [[1,1],[2,3],[2,3],[1,1],[1,1],[1,1],[1,2]], shelfWidth = 4\n",
    "Output: 6\n",
    "Explanation:\n",
    "The sum of the heights of the 3 shelves is 1 + 3 + 2 = 6.\n",
    "Notice that book number 2 does not have to be on the first shelf.\n",
    "Example 2:\n",
    "\n",
    "Input: books = [[1,3],[2,4],[3,2]], shelfWidth = 6\n",
    "Output: 4\n",
    " \n",
    "\n",
    "Constraints:\n",
    "\n",
    "1 <= books.length <= 1000\n",
    "1 <= thicknessi <= shelfWidth <= 1000\n",
    "1 <= heighti <= 1000\n",
    "\n",
    "'''"
   ]
  },
  {
   "cell_type": "code",
   "execution_count": 1,
   "metadata": {},
   "outputs": [],
   "source": [
    "from typing import List\n",
    "\n",
    "class Solution:\n",
    "    def minHeightShelves(self, books: List[List[int]], shelfWidth: int) -> int:\n",
    "        n = len(books)\n",
    "        dp = [float('inf')] * (n + 1)\n",
    "        dp[0] = 0\n",
    "\n",
    "        for i in range(1, n + 1):\n",
    "            width = 0\n",
    "            height = 0\n",
    "            for j in range(i, 0, -1):\n",
    "                width += books[j - 1][0]\n",
    "                if width > shelfWidth:\n",
    "                    break\n",
    "                height = max(height, books[j - 1][1])\n",
    "                dp[i] = min(dp[i], dp[j - 1] + height)\n",
    "\n",
    "        return dp[n]\n",
    "\n",
    "        "
   ]
  },
  {
   "cell_type": "code",
   "execution_count": 2,
   "metadata": {},
   "outputs": [
    {
     "name": "stdout",
     "output_type": "stream",
     "text": [
      "6\n"
     ]
    }
   ],
   "source": [
    "# Create an instance of the Solution class\n",
    "solution = Solution()\n",
    "\n",
    "books = [[1,1],[2,3],[2,3],[1,1],[1,1],[1,1],[1,2]]\n",
    "shelfWidth = 4\n",
    "# Call the method on the instance\n",
    "result = solution.minHeightShelves(books,shelfWidth)\n",
    "print(result)"
   ]
  }
 ],
 "metadata": {
  "kernelspec": {
   "display_name": "Python 3",
   "language": "python",
   "name": "python3"
  },
  "language_info": {
   "codemirror_mode": {
    "name": "ipython",
    "version": 3
   },
   "file_extension": ".py",
   "mimetype": "text/x-python",
   "name": "python",
   "nbconvert_exporter": "python",
   "pygments_lexer": "ipython3",
   "version": "3.12.3"
  }
 },
 "nbformat": 4,
 "nbformat_minor": 2
}
