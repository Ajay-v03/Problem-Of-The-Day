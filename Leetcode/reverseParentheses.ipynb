{
 "cells": [
  {
   "cell_type": "markdown",
   "metadata": {},
   "source": [
    "1190. Reverse Substrings Between Each Pair of Parentheses"
   ]
  },
  {
   "cell_type": "code",
   "execution_count": null,
   "metadata": {},
   "outputs": [],
   "source": [
    "'''\n",
    "You are given a string s that consists of lower case English letters and brackets.\n",
    "\n",
    "Reverse the strings in each pair of matching parentheses, starting from the innermost one.\n",
    "\n",
    "Your result should not contain any brackets.\n",
    "\n",
    " \n",
    "\n",
    "Example 1:\n",
    "\n",
    "Input: s = \"(abcd)\"\n",
    "Output: \"dcba\"\n",
    "Example 2:\n",
    "\n",
    "Input: s = \"(u(love)i)\"\n",
    "Output: \"iloveu\"\n",
    "Explanation: The substring \"love\" is reversed first, then the whole string is reversed.\n",
    "Example 3:\n",
    "\n",
    "Input: s = \"(ed(et(oc))el)\"\n",
    "Output: \"leetcode\"\n",
    "Explanation: First, we reverse the substring \"oc\", then \"etco\", and finally, the whole string.\n",
    " \n",
    "\n",
    "Constraints:\n",
    "\n",
    "1 <= s.length <= 2000\n",
    "s only contains lower case English characters and parentheses.\n",
    "It is guaranteed that all parentheses are balanced.\n",
    "\n",
    "'''"
   ]
  },
  {
   "cell_type": "code",
   "execution_count": 1,
   "metadata": {},
   "outputs": [],
   "source": [
    "class Solution:\n",
    "    def reverseParentheses(self, s: str) -> str:\n",
    "        stack = []\n",
    "        \n",
    "        for char in s:\n",
    "            if char == ')':\n",
    "                temp = []\n",
    "                # Pop until we find an opening bracket '('\n",
    "                while stack and stack[-1] != '(':\n",
    "                    temp.append(stack.pop())\n",
    "                # Remove the opening bracket '('\n",
    "                if stack: stack.pop()\n",
    "                # Push the reversed substring back onto the stack\n",
    "                stack.extend(temp)\n",
    "            else:\n",
    "                stack.append(char)\n",
    "        \n",
    "        # Join all characters in the stack to form the final result\n",
    "        return ''.join(stack)"
   ]
  },
  {
   "cell_type": "code",
   "execution_count": 3,
   "metadata": {},
   "outputs": [
    {
     "name": "stdout",
     "output_type": "stream",
     "text": [
      "leetcode\n"
     ]
    }
   ],
   "source": [
    "# Create an instance of the Solution class\n",
    "solution = Solution()\n",
    "\n",
    "s = \"(ed(et(oc))el)\"\n",
    "# Call the method on the instance\n",
    "result = solution.reverseParentheses(s)\n",
    "print(result)"
   ]
  }
 ],
 "metadata": {
  "kernelspec": {
   "display_name": "Python 3",
   "language": "python",
   "name": "python3"
  },
  "language_info": {
   "codemirror_mode": {
    "name": "ipython",
    "version": 3
   },
   "file_extension": ".py",
   "mimetype": "text/x-python",
   "name": "python",
   "nbconvert_exporter": "python",
   "pygments_lexer": "ipython3",
   "version": "3.12.3"
  }
 },
 "nbformat": 4,
 "nbformat_minor": 2
}
