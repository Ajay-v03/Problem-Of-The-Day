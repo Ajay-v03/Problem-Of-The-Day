{
 "cells": [
  {
   "cell_type": "markdown",
   "metadata": {},
   "source": [
    "1509. Minimum Difference Between Largest and Smallest Value in Three Moves"
   ]
  },
  {
   "cell_type": "code",
   "execution_count": null,
   "metadata": {},
   "outputs": [],
   "source": [
    "'''\n",
    "You are given an integer array nums.\n",
    "\n",
    "In one move, you can choose one element of nums and change it to any value.\n",
    "\n",
    "Return the minimum difference between the largest and smallest value of nums after performing at most three moves.\n",
    "\n",
    " \n",
    "\n",
    "Example 1:\n",
    "\n",
    "Input: nums = [5,3,2,4]\n",
    "Output: 0\n",
    "Explanation: We can make at most 3 moves.\n",
    "In the first move, change 2 to 3. nums becomes [5,3,3,4].\n",
    "In the second move, change 4 to 3. nums becomes [5,3,3,3].\n",
    "In the third move, change 5 to 3. nums becomes [3,3,3,3].\n",
    "After performing 3 moves, the difference between the minimum and maximum is 3 - 3 = 0.\n",
    "Example 2:\n",
    "\n",
    "Input: nums = [1,5,0,10,14]\n",
    "Output: 1\n",
    "Explanation: We can make at most 3 moves.\n",
    "In the first move, change 5 to 0. nums becomes [1,0,0,10,14].\n",
    "In the second move, change 10 to 0. nums becomes [1,0,0,0,14].\n",
    "In the third move, change 14 to 1. nums becomes [1,0,0,0,1].\n",
    "After performing 3 moves, the difference between the minimum and maximum is 1 - 0 = 1.\n",
    "It can be shown that there is no way to make the difference 0 in 3 moves.\n",
    "Example 3:\n",
    "\n",
    "Input: nums = [3,100,20]\n",
    "Output: 0\n",
    "Explanation: We can make at most 3 moves.\n",
    "In the first move, change 100 to 7. nums becomes [3,7,20].\n",
    "In the second move, change 20 to 7. nums becomes [3,7,7].\n",
    "In the third move, change 3 to 7. nums becomes [7,7,7].\n",
    "After performing 3 moves, the difference between the minimum and maximum is 7 - 7 = 0.\n",
    " \n",
    "\n",
    "Constraints:\n",
    "\n",
    "1 <= nums.length <= 105\n",
    "-109 <= nums[i] <= 109\n",
    "'''"
   ]
  },
  {
   "cell_type": "code",
   "execution_count": 1,
   "metadata": {},
   "outputs": [],
   "source": [
    "from typing import List\n",
    "class Solution:\n",
    "    def minDifference(self, nums: List[int]) -> int:\n",
    "        \n",
    "        if len(nums) <= 4: return 0\n",
    "        nums.sort()\n",
    "        return min(nums[-1] - nums[3], nums[-2] - nums[2], nums[-3] - nums[1], nums[-4] - nums[0])"
   ]
  },
  {
   "cell_type": "code",
   "execution_count": 2,
   "metadata": {},
   "outputs": [
    {
     "name": "stdout",
     "output_type": "stream",
     "text": [
      "1\n"
     ]
    }
   ],
   "source": [
    "# Create an instance of the Solution class\n",
    "solution = Solution()\n",
    "\n",
    "# Call the method on the instance\n",
    "result = solution.minDifference(nums = [1,5,0,10,14])\n",
    "print(result)"
   ]
  }
 ],
 "metadata": {
  "kernelspec": {
   "display_name": "Python 3",
   "language": "python",
   "name": "python3"
  },
  "language_info": {
   "codemirror_mode": {
    "name": "ipython",
    "version": 3
   },
   "file_extension": ".py",
   "mimetype": "text/x-python",
   "name": "python",
   "nbconvert_exporter": "python",
   "pygments_lexer": "ipython3",
   "version": "3.12.3"
  }
 },
 "nbformat": 4,
 "nbformat_minor": 2
}
