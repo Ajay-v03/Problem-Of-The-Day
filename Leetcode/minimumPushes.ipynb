{
 "cells": [
  {
   "cell_type": "markdown",
   "metadata": {},
   "source": [
    "3016. Minimum Number of Pushes to Type Word II"
   ]
  },
  {
   "cell_type": "code",
   "execution_count": null,
   "metadata": {},
   "outputs": [],
   "source": [
    "'''\n",
    "You are given a string word containing lowercase English letters.\n",
    "\n",
    "Telephone keypads have keys mapped with distinct collections of lowercase English letters, which can be used to form words by pushing them. For example, the key 2 is mapped with [\"a\",\"b\",\"c\"], we need to push the key one time to type \"a\", two times to type \"b\", and three times to type \"c\" .\n",
    "\n",
    "It is allowed to remap the keys numbered 2 to 9 to distinct collections of letters. The keys can be remapped to any amount of letters, but each letter must be mapped to exactly one key. You need to find the minimum number of times the keys will be pushed to type the string word.\n",
    "\n",
    "Return the minimum number of pushes needed to type word after remapping the keys.\n",
    "\n",
    "An example mapping of letters to keys on a telephone keypad is given below. Note that 1, *, #, and 0 do not map to any letters.\n",
    "\n",
    "\n",
    " \n",
    "\n",
    "Example 1:\n",
    "\n",
    "\n",
    "Input: word = \"abcde\"\n",
    "Output: 5\n",
    "Explanation: The remapped keypad given in the image provides the minimum cost.\n",
    "\"a\" -> one push on key 2\n",
    "\"b\" -> one push on key 3\n",
    "\"c\" -> one push on key 4\n",
    "\"d\" -> one push on key 5\n",
    "\"e\" -> one push on key 6\n",
    "Total cost is 1 + 1 + 1 + 1 + 1 = 5.\n",
    "It can be shown that no other mapping can provide a lower cost.\n",
    "Example 2:\n",
    "\n",
    "\n",
    "Input: word = \"xyzxyzxyzxyz\"\n",
    "Output: 12\n",
    "Explanation: The remapped keypad given in the image provides the minimum cost.\n",
    "\"x\" -> one push on key 2\n",
    "\"y\" -> one push on key 3\n",
    "\"z\" -> one push on key 4\n",
    "Total cost is 1 * 4 + 1 * 4 + 1 * 4 = 12\n",
    "It can be shown that no other mapping can provide a lower cost.\n",
    "Note that the key 9 is not mapped to any letter: it is not necessary to map letters to every key, but to map all the letters.\n",
    "Example 3:\n",
    "\n",
    "\n",
    "Input: word = \"aabbccddeeffgghhiiiiii\"\n",
    "Output: 24\n",
    "Explanation: The remapped keypad given in the image provides the minimum cost.\n",
    "\"a\" -> one push on key 2\n",
    "\"b\" -> one push on key 3\n",
    "\"c\" -> one push on key 4\n",
    "\"d\" -> one push on key 5\n",
    "\"e\" -> one push on key 6\n",
    "\"f\" -> one push on key 7\n",
    "\"g\" -> one push on key 8\n",
    "\"h\" -> two pushes on key 9\n",
    "\"i\" -> one push on key 9\n",
    "Total cost is 1 * 2 + 1 * 2 + 1 * 2 + 1 * 2 + 1 * 2 + 1 * 2 + 1 * 2 + 2 * 2 + 6 * 1 = 24.\n",
    "It can be shown that no other mapping can provide a lower cost.\n",
    " \n",
    "\n",
    "Constraints:\n",
    "\n",
    "1 <= word.length <= 105\n",
    "word consists of lowercase English letters.\n",
    "\n",
    "'''"
   ]
  },
  {
   "cell_type": "code",
   "execution_count": 1,
   "metadata": {},
   "outputs": [],
   "source": [
    "class Solution:\n",
    "    def minimumPushes(self, word: str) -> int:\n",
    "        # Frequency array for each letter\n",
    "        freq = [0] * 26\n",
    "        for c in word:\n",
    "            freq[ord(c) - ord('a')] += 1\n",
    "        \n",
    "        # Sort frequencies in descending order\n",
    "        freq.sort(reverse=True)\n",
    "        \n",
    "        # Find the size of the array without trailing zeroes\n",
    "        sz = next((i for i, x in enumerate(freq) if x == 0), 26)\n",
    "        \n",
    "        # Calculate the minimum pushes\n",
    "        total_pushes = 0\n",
    "        for i in range(sz):\n",
    "            total_pushes += freq[i] * (i // 8 + 1)\n",
    "        \n",
    "        return total_pushes\n",
    "        "
   ]
  },
  {
   "cell_type": "code",
   "execution_count": 2,
   "metadata": {},
   "outputs": [
    {
     "name": "stdout",
     "output_type": "stream",
     "text": [
      "5\n"
     ]
    }
   ],
   "source": [
    "# Create an instance of the Solution class\n",
    "solution = Solution()\n",
    "\n",
    "# Call the method on the instance\n",
    "result = solution.minimumPushes(word = \"abcde\")\n",
    "print(result)"
   ]
  }
 ],
 "metadata": {
  "kernelspec": {
   "display_name": "Python 3",
   "language": "python",
   "name": "python3"
  },
  "language_info": {
   "codemirror_mode": {
    "name": "ipython",
    "version": 3
   },
   "file_extension": ".py",
   "mimetype": "text/x-python",
   "name": "python",
   "nbconvert_exporter": "python",
   "pygments_lexer": "ipython3",
   "version": "3.12.3"
  }
 },
 "nbformat": 4,
 "nbformat_minor": 2
}
