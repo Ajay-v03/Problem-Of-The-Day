{
 "cells": [
  {
   "cell_type": "markdown",
   "metadata": {},
   "source": [
    "2134. Minimum Swaps to Group All 1's Together II"
   ]
  },
  {
   "cell_type": "code",
   "execution_count": null,
   "metadata": {},
   "outputs": [],
   "source": [
    "'''\n",
    "\n",
    "A swap is defined as taking two distinct positions in an array and swapping the values in them.\n",
    "\n",
    "A circular array is defined as an array where we consider the first element and the last element to be adjacent.\n",
    "\n",
    "Given a binary circular array nums, return the minimum number of swaps required to group all 1's present in the array together at any location.\n",
    "\n",
    " \n",
    "\n",
    "Example 1:\n",
    "\n",
    "Input: nums = [0,1,0,1,1,0,0]\n",
    "Output: 1\n",
    "Explanation: Here are a few of the ways to group all the 1's together:\n",
    "[0,0,1,1,1,0,0] using 1 swap.\n",
    "[0,1,1,1,0,0,0] using 1 swap.\n",
    "[1,1,0,0,0,0,1] using 2 swaps (using the circular property of the array).\n",
    "There is no way to group all 1's together with 0 swaps.\n",
    "Thus, the minimum number of swaps required is 1.\n",
    "Example 2:\n",
    "\n",
    "Input: nums = [0,1,1,1,0,0,1,1,0]\n",
    "Output: 2\n",
    "Explanation: Here are a few of the ways to group all the 1's together:\n",
    "[1,1,1,0,0,0,0,1,1] using 2 swaps (using the circular property of the array).\n",
    "[1,1,1,1,1,0,0,0,0] using 2 swaps.\n",
    "There is no way to group all 1's together with 0 or 1 swaps.\n",
    "Thus, the minimum number of swaps required is 2.\n",
    "Example 3:\n",
    "\n",
    "Input: nums = [1,1,0,0,1]\n",
    "Output: 0\n",
    "Explanation: All the 1's are already grouped together due to the circular property of the array.\n",
    "Thus, the minimum number of swaps required is 0.\n",
    " \n",
    "\n",
    "Constraints:\n",
    "\n",
    "1 <= nums.length <= 105\n",
    "nums[i] is either 0 or 1.\n",
    "\n",
    "'''"
   ]
  },
  {
   "cell_type": "code",
   "execution_count": 1,
   "metadata": {},
   "outputs": [],
   "source": [
    "from typing import List\n",
    "class Solution:\n",
    "    def minSwaps(self, nums: List[int]) -> int:\n",
    "        wind1=0\n",
    "        for i in nums:\n",
    "            wind1+=i\n",
    "        curentZero=0\n",
    "        print(wind1)\n",
    "        for i in range(wind1):\n",
    "            if nums[i]==0:\n",
    "                curentZero+=1\n",
    "        minzero=curentZero\n",
    "        print(minzero)\n",
    "        start=0\n",
    "        end=wind1-1\n",
    "        n=len(nums)\n",
    "        while n>start:\n",
    "            if nums[start]==0:\n",
    "                curentZero-=1\n",
    "            start+=1\n",
    "            end+=1\n",
    "            if nums[end%n]==0:\n",
    "                curentZero+=1\n",
    "            minzero=min(curentZero,minzero)\n",
    "            \n",
    "        return minzero"
   ]
  },
  {
   "cell_type": "code",
   "execution_count": 2,
   "metadata": {},
   "outputs": [
    {
     "name": "stdout",
     "output_type": "stream",
     "text": [
      "3\n",
      "2\n",
      "1\n"
     ]
    }
   ],
   "source": [
    "# Create an instance of the Solution class\n",
    "solution = Solution()\n",
    "\n",
    "# Call the method on the instance\n",
    "result = solution.minSwaps(nums = [0,1,0,1,1,0,0])\n",
    "print(result)"
   ]
  }
 ],
 "metadata": {
  "kernelspec": {
   "display_name": "Python 3",
   "language": "python",
   "name": "python3"
  },
  "language_info": {
   "codemirror_mode": {
    "name": "ipython",
    "version": 3
   },
   "file_extension": ".py",
   "mimetype": "text/x-python",
   "name": "python",
   "nbconvert_exporter": "python",
   "pygments_lexer": "ipython3",
   "version": "3.12.3"
  }
 },
 "nbformat": 4,
 "nbformat_minor": 2
}
