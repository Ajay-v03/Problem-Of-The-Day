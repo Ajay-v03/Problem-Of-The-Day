{
 "cells": [
  {
   "cell_type": "markdown",
   "metadata": {},
   "source": [
    "1248. Count Number of Nice Subarrays"
   ]
  },
  {
   "cell_type": "code",
   "execution_count": null,
   "metadata": {},
   "outputs": [],
   "source": [
    "'''\n",
    "Given an array of integers nums and an integer k. A continuous subarray is called nice if there are k odd numbers on it.\n",
    "\n",
    "Return the number of nice sub-arrays.\n",
    "\n",
    " \n",
    "\n",
    "Example 1:\n",
    "\n",
    "Input: nums = [1,1,2,1,1], k = 3\n",
    "Output: 2\n",
    "Explanation: The only sub-arrays with 3 odd numbers are [1,1,2,1] and [1,2,1,1].\n",
    "Example 2:\n",
    "\n",
    "Input: nums = [2,4,6], k = 1\n",
    "Output: 0\n",
    "Explanation: There are no odd numbers in the array.\n",
    "Example 3:\n",
    "\n",
    "Input: nums = [2,2,2,1,2,2,1,2,2,2], k = 2\n",
    "Output: 16\n",
    " \n",
    "\n",
    "Constraints:\n",
    "\n",
    "1 <= nums.length <= 50000\n",
    "1 <= nums[i] <= 10^5\n",
    "1 <= k <= nums.length\n",
    "'''"
   ]
  },
  {
   "cell_type": "code",
   "execution_count": 1,
   "metadata": {},
   "outputs": [],
   "source": [
    "from typing import List\n",
    "class Solution:\n",
    "    def numberOfSubarrays(self, nums: List[int], k: int) -> int:\n",
    "        n=len(nums)\n",
    "        i=0\n",
    "        count=0\n",
    "        ans=0\n",
    "        for j in range(n):\n",
    "            if nums[j] & 1:\n",
    "                k-=1\n",
    "                count=0\n",
    "            while k==0:\n",
    "                k+= nums[i] & 1\n",
    "                i+=1\n",
    "                count+=1\n",
    "            ans+=count\n",
    "        return ans            "
   ]
  },
  {
   "cell_type": "code",
   "execution_count": 2,
   "metadata": {},
   "outputs": [
    {
     "name": "stdout",
     "output_type": "stream",
     "text": [
      "2\n"
     ]
    }
   ],
   "source": [
    "# Create an instance of the Solution class\n",
    "solution = Solution()\n",
    "\n",
    "nums = [1,1,2,1,1]\n",
    "k = 3\n",
    "# Call the method on the instance\n",
    "result = solution.numberOfSubarrays(nums,k)\n",
    "print(result)"
   ]
  }
 ],
 "metadata": {
  "kernelspec": {
   "display_name": "Python 3",
   "language": "python",
   "name": "python3"
  },
  "language_info": {
   "codemirror_mode": {
    "name": "ipython",
    "version": 3
   },
   "file_extension": ".py",
   "mimetype": "text/x-python",
   "name": "python",
   "nbconvert_exporter": "python",
   "pygments_lexer": "ipython3",
   "version": "3.12.3"
  }
 },
 "nbformat": 4,
 "nbformat_minor": 2
}
