{
 "cells": [
  {
   "cell_type": "markdown",
   "metadata": {},
   "source": [
    "1550. Three Consecutive Odds"
   ]
  },
  {
   "cell_type": "code",
   "execution_count": null,
   "metadata": {},
   "outputs": [],
   "source": [
    "'''\n",
    "Given an integer array arr, return true if there are three consecutive odd numbers in the array. Otherwise, return false.\n",
    " \n",
    "\n",
    "Example 1:\n",
    "\n",
    "Input: arr = [2,6,4,1]\n",
    "Output: false\n",
    "Explanation: There are no three consecutive odds.\n",
    "Example 2:\n",
    "\n",
    "Input: arr = [1,2,34,3,4,5,7,23,12]\n",
    "Output: true\n",
    "Explanation: [5,7,23] are three consecutive odds.\n",
    " \n",
    "\n",
    "Constraints:\n",
    "\n",
    "1 <= arr.length <= 1000\n",
    "1 <= arr[i] <= 1000\n",
    "\n",
    "'''"
   ]
  },
  {
   "cell_type": "code",
   "execution_count": 1,
   "metadata": {},
   "outputs": [],
   "source": [
    "from typing import List\n",
    "class Solution:\n",
    "    def threeConsecutiveOdds(self, arr: List[int]) -> bool:\n",
    "        return \"111\" in \"\".join([str(i%2) for i in arr])"
   ]
  },
  {
   "cell_type": "code",
   "execution_count": 2,
   "metadata": {},
   "outputs": [
    {
     "name": "stdout",
     "output_type": "stream",
     "text": [
      "False\n"
     ]
    }
   ],
   "source": [
    "# Create an instance of the Solution class\n",
    "solution = Solution()\n",
    "\n",
    "# Call the method on the instance\n",
    "result = solution.threeConsecutiveOdds(arr = [2,6,4,1])\n",
    "print(result)"
   ]
  }
 ],
 "metadata": {
  "kernelspec": {
   "display_name": "Python 3",
   "language": "python",
   "name": "python3"
  },
  "language_info": {
   "codemirror_mode": {
    "name": "ipython",
    "version": 3
   },
   "file_extension": ".py",
   "mimetype": "text/x-python",
   "name": "python",
   "nbconvert_exporter": "python",
   "pygments_lexer": "ipython3",
   "version": "3.12.3"
  }
 },
 "nbformat": 4,
 "nbformat_minor": 2
}
