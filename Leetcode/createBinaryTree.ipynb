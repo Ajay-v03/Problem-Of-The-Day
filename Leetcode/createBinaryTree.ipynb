{
 "cells": [
  {
   "cell_type": "markdown",
   "metadata": {},
   "source": [
    "2196. Create Binary Tree From Descriptions"
   ]
  },
  {
   "cell_type": "code",
   "execution_count": null,
   "metadata": {},
   "outputs": [],
   "source": [
    "'''\n",
    "You are given a 2D integer array descriptions where descriptions[i] = [parenti, childi, isLefti] indicates that parenti is the parent of childi in a binary tree of unique values. Furthermore,\n",
    "\n",
    "If isLefti == 1, then childi is the left child of parenti.\n",
    "If isLefti == 0, then childi is the right child of parenti.\n",
    "Construct the binary tree described by descriptions and return its root.\n",
    "\n",
    "The test cases will be generated such that the binary tree is valid.\n",
    "\n",
    " \n",
    "\n",
    "Example 1:\n",
    "\n",
    "\n",
    "Input: descriptions = [[20,15,1],[20,17,0],[50,20,1],[50,80,0],[80,19,1]]\n",
    "Output: [50,20,80,15,17,19]\n",
    "Explanation: The root node is the node with value 50 since it has no parent.\n",
    "The resulting binary tree is shown in the diagram.\n",
    "Example 2:\n",
    "\n",
    "\n",
    "Input: descriptions = [[1,2,1],[2,3,0],[3,4,1]]\n",
    "Output: [1,2,null,null,3,4]\n",
    "Explanation: The root node is the node with value 1 since it has no parent.\n",
    "The resulting binary tree is shown in the diagram.\n",
    " \n",
    "\n",
    "Constraints:\n",
    "\n",
    "1 <= descriptions.length <= 104\n",
    "descriptions[i].length == 3\n",
    "1 <= parenti, childi <= 105\n",
    "0 <= isLefti <= 1\n",
    "The binary tree described by descriptions is valid.\n",
    "\n",
    "'''"
   ]
  },
  {
   "cell_type": "code",
   "execution_count": 1,
   "metadata": {},
   "outputs": [],
   "source": [
    "# Definition for a binary tree node.\n",
    "from typing import List,Optional\n",
    "class TreeNode:\n",
    "    def __init__(self, val=0, left=None, right=None):\n",
    "        self.val = val\n",
    "        self.left = left\n",
    "        self.right = right\n",
    "class Solution:\n",
    "    def createBinaryTree(self, descriptions: List[List[int]]) -> Optional[TreeNode]:\n",
    "        tree = {}\n",
    "        dp = {}\n",
    "        for p,c,_ in descriptions:\n",
    "            tree[p] = [None, None]\n",
    "            \n",
    "            dp[p] = True\n",
    "            \n",
    "            dp[c] = True\n",
    "        for p,c,l in descriptions:\n",
    "            dp[c] = False\n",
    "            if l:\n",
    "                tree[p][0] = c\n",
    "            else:\n",
    "                tree[p][1] = c\n",
    "        pa = None\n",
    "        for k,v in dp.items():\n",
    "            if v:\n",
    "                pa = k\n",
    "     \n",
    "        def create(parent):\n",
    "            if not parent:\n",
    "                return\n",
    "            if parent not in tree:\n",
    "                return TreeNode(parent)\n",
    "            temp = TreeNode(parent)\n",
    "            if tree[parent][0]:\n",
    "                temp.left = create(tree[parent][0])\n",
    "            if tree[parent][1]:\n",
    "                temp.right = create(tree[parent][1])\n",
    "            return temp\n",
    "        \n",
    "        return create(pa)"
   ]
  },
  {
   "cell_type": "code",
   "execution_count": 4,
   "metadata": {},
   "outputs": [
    {
     "name": "stdout",
     "output_type": "stream",
     "text": [
      "<__main__.TreeNode object at 0x000001C005DE6A80>\n"
     ]
    }
   ],
   "source": [
    "# Create an instance of the Solution class\n",
    "solution = Solution()\n",
    "\n",
    "descriptions = [[20,15,1],[20,17,0],[50,20,1],[50,80,0],[80,19,1]]\n",
    "# Call the method on the instance\n",
    "result = solution.createBinaryTree(descriptions)\n",
    "print(result)"
   ]
  }
 ],
 "metadata": {
  "kernelspec": {
   "display_name": "Python 3",
   "language": "python",
   "name": "python3"
  },
  "language_info": {
   "codemirror_mode": {
    "name": "ipython",
    "version": 3
   },
   "file_extension": ".py",
   "mimetype": "text/x-python",
   "name": "python",
   "nbconvert_exporter": "python",
   "pygments_lexer": "ipython3",
   "version": "3.12.3"
  }
 },
 "nbformat": 4,
 "nbformat_minor": 2
}
