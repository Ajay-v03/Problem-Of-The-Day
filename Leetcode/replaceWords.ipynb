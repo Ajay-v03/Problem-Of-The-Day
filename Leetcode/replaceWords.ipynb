{
 "cells": [
  {
   "cell_type": "markdown",
   "metadata": {},
   "source": [
    "648. Replace Words"
   ]
  },
  {
   "cell_type": "code",
   "execution_count": null,
   "metadata": {},
   "outputs": [],
   "source": [
    "'''\n",
    "In English, we have a concept called root, which can be followed by some other word to form another longer word - let's call this word derivative. For example, when the root \"help\" is followed by the word \"ful\", we can form a derivative \"helpful\".\n",
    "\n",
    "Given a dictionary consisting of many roots and a sentence consisting of words separated by spaces, replace all the derivatives in the sentence with the root forming it. If a derivative can be replaced by more than one root, replace it with the root that has the shortest length.\n",
    "\n",
    "Return the sentence after the replacement.\n",
    "\n",
    " \n",
    "\n",
    "Example 1:\n",
    "\n",
    "Input: dictionary = [\"cat\",\"bat\",\"rat\"], sentence = \"the cattle was rattled by the battery\"\n",
    "Output: \"the cat was rat by the bat\"\n",
    "Example 2:\n",
    "\n",
    "Input: dictionary = [\"a\",\"b\",\"c\"], sentence = \"aadsfasf absbs bbab cadsfafs\"\n",
    "Output: \"a a b c\"\n",
    " \n",
    "\n",
    "Constraints:\n",
    "\n",
    "1 <= dictionary.length <= 1000\n",
    "1 <= dictionary[i].length <= 100\n",
    "dictionary[i] consists of only lower-case letters.\n",
    "1 <= sentence.length <= 106\n",
    "sentence consists of only lower-case letters and spaces.\n",
    "The number of words in sentence is in the range [1, 1000]\n",
    "The length of each word in sentence is in the range [1, 1000]\n",
    "Every two consecutive words in sentence will be separated by exactly one space.\n",
    "sentence does not have leading or trailing spaces.\n",
    "\n",
    "'''"
   ]
  },
  {
   "cell_type": "code",
   "execution_count": 1,
   "metadata": {},
   "outputs": [],
   "source": [
    "from typing import List\n",
    "class Solution:\n",
    "    def replaceWords(self, dict: List[str], sentence: str) -> str:\n",
    "        roots = set(dict)\n",
    "        words = sentence.split()\n",
    "        result = []\n",
    "\n",
    "        for word in words:\n",
    "            for i in range(len(word) + 1):\n",
    "                prefix = word[:i]\n",
    "                if prefix in roots:\n",
    "                    result.append(prefix)\n",
    "                    break\n",
    "            else:\n",
    "                result.append(word)\n",
    "\n",
    "        return ' '.join(result)"
   ]
  },
  {
   "cell_type": "code",
   "execution_count": 2,
   "metadata": {},
   "outputs": [
    {
     "name": "stdout",
     "output_type": "stream",
     "text": [
      "the cat was rat by the bat\n"
     ]
    }
   ],
   "source": [
    "# Create an instance of the Solution class\n",
    "solution = Solution()\n",
    "\n",
    "dictionary = [\"cat\",\"bat\",\"rat\"]\n",
    "sentence = \"the cattle was rattled by the battery\"\n",
    "\n",
    "# Call the method on the instance\n",
    "result = solution.replaceWords(dictionary,sentence)\n",
    "print(result)"
   ]
  }
 ],
 "metadata": {
  "kernelspec": {
   "display_name": "Python 3",
   "language": "python",
   "name": "python3"
  },
  "language_info": {
   "codemirror_mode": {
    "name": "ipython",
    "version": 3
   },
   "file_extension": ".py",
   "mimetype": "text/x-python",
   "name": "python",
   "nbconvert_exporter": "python",
   "pygments_lexer": "ipython3",
   "version": "3.12.3"
  }
 },
 "nbformat": 4,
 "nbformat_minor": 2
}
