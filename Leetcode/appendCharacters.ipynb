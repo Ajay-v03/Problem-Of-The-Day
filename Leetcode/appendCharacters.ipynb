{
 "cells": [
  {
   "cell_type": "markdown",
   "metadata": {},
   "source": [
    "2486. Append Characters to String to Make Subsequence"
   ]
  },
  {
   "cell_type": "markdown",
   "metadata": {},
   "source": [
    "\n",
    "You are given two strings s and t consisting of only lowercase English letters.\n",
    "\n",
    "Return the minimum number of characters that need to be appended to the end of s so that t becomes a subsequence of s.\n",
    "\n",
    "A subsequence is a string that can be derived from another string by deleting some or no characters without changing the \n",
    "order of the remaining characters.\n",
    "\n",
    " \n",
    "\n",
    "Example 1:\n",
    "\n",
    "Input: s = \"coaching\", t = \"coding\"\n",
    "Output: 4\n",
    "Explanation: Append the characters \"ding\" to the end of s so that s = \"coachingding\".\n",
    "Now, t is a subsequence of s (\"coachingding\").\n",
    "It can be shown that appending any 3 characters to the end of s will never make t a subsequence.\n",
    "Example 2:\n",
    "\n",
    "Input: s = \"abcde\", t = \"a\"\n",
    "Output: 0\n",
    "Explanation: t is already a subsequence of s (\"abcde\").\n",
    "Example 3:\n",
    "\n",
    "Input: s = \"z\", t = \"abcde\"\n",
    "Output: 5\n",
    "Explanation: Append the characters \"abcde\" to the end of s so that s = \"zabcde\".\n",
    "Now, t is a subsequence of s (\"zabcde\").\n",
    "It can be shown that appending any 4 characters to the end of s will never make t a subsequence.\n",
    " \n",
    "\n",
    "Constraints:\n",
    "\n",
    "1 <= s.length, t.length <= 105\n",
    "s and t consist only of lowercase English letters."
   ]
  },
  {
   "cell_type": "code",
   "execution_count": 4,
   "metadata": {},
   "outputs": [],
   "source": [
    "class Solution:\n",
    "    def appendCharacters(self, s: str, t: str) -> int:\n",
    "        i,j = 0,0\n",
    "\n",
    "        while i<len(s) and j<len(t):\n",
    "            if s[i]==t[j]:\n",
    "                i+=1\n",
    "                j+=1\n",
    "            else:\n",
    "                i+=1\n",
    "        \n",
    "        return len(t)-j"
   ]
  },
  {
   "cell_type": "code",
   "execution_count": 6,
   "metadata": {},
   "outputs": [
    {
     "name": "stdout",
     "output_type": "stream",
     "text": [
      "5\n"
     ]
    }
   ],
   "source": [
    "# Create an instance of the Solution class\n",
    "solution = Solution()\n",
    "\n",
    "s = \"z\"\n",
    "t = \"abcde\"\n",
    "\n",
    "# Call the method on the instance\n",
    "result = solution.appendCharacters(s,t)\n",
    "print(result)"
   ]
  }
 ],
 "metadata": {
  "kernelspec": {
   "display_name": "Python 3",
   "language": "python",
   "name": "python3"
  },
  "language_info": {
   "codemirror_mode": {
    "name": "ipython",
    "version": 3
   },
   "file_extension": ".py",
   "mimetype": "text/x-python",
   "name": "python",
   "nbconvert_exporter": "python",
   "pygments_lexer": "ipython3",
   "version": "3.12.3"
  }
 },
 "nbformat": 4,
 "nbformat_minor": 2
}
