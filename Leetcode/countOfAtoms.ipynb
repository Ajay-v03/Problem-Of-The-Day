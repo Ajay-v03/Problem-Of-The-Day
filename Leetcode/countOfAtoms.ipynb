{
 "cells": [
  {
   "cell_type": "markdown",
   "metadata": {},
   "source": [
    "726. Number of Atoms"
   ]
  },
  {
   "cell_type": "code",
   "execution_count": 2,
   "metadata": {},
   "outputs": [
    {
     "data": {
      "text/plain": [
       "'\\nGiven a string formula representing a chemical formula, return the count of each atom.\\n\\nThe atomic element always starts with an uppercase character, then zero or more lowercase letters, representing the name.\\n\\nOne or more digits representing that element\\'s count may follow if the count is greater than 1. If the count is 1, no digits will follow.\\n\\nFor example, \"H2O\" and \"H2O2\" are possible, but \"H1O2\" is impossible.\\nTwo formulas are concatenated together to produce another formula.\\n\\nFor example, \"H2O2He3Mg4\" is also a formula.\\nA formula placed in parentheses, and a count (optionally added) is also a formula.\\n\\nFor example, \"(H2O2)\" and \"(H2O2)3\" are formulas.\\nReturn the count of all elements as a string in the following form: the first name (in sorted order), followed by its count (if that count is more than 1), followed by the second name (in sorted order), followed by its count (if that count is more than 1), and so on.\\n\\nThe test cases are generated so that all the values in the output fit in a 32-bit integer.\\n\\n \\n\\nExample 1:\\n\\nInput: formula = \"H2O\"\\nOutput: \"H2O\"\\nExplanation: The count of elements are {\\'H\\': 2, \\'O\\': 1}.\\nExample 2:\\n\\nInput: formula = \"Mg(OH)2\"\\nOutput: \"H2MgO2\"\\nExplanation: The count of elements are {\\'H\\': 2, \\'Mg\\': 1, \\'O\\': 2}.\\nExample 3:\\n\\nInput: formula = \"K4(ON(SO3)2)2\"\\nOutput: \"K4N2O14S4\"\\nExplanation: The count of elements are {\\'K\\': 4, \\'N\\': 2, \\'O\\': 14, \\'S\\': 4}.\\n \\n\\nConstraints:\\n\\n1 <= formula.length <= 1000\\nformula consists of English letters, digits, \\'(\\', and \\')\\'.\\nformula is always valid.\\n\\n'"
      ]
     },
     "execution_count": 2,
     "metadata": {},
     "output_type": "execute_result"
    }
   ],
   "source": [
    "'''\n",
    "Given a string formula representing a chemical formula, return the count of each atom.\n",
    "\n",
    "The atomic element always starts with an uppercase character, then zero or more lowercase letters, representing the name.\n",
    "\n",
    "One or more digits representing that element's count may follow if the count is greater than 1. If the count is 1, no digits will follow.\n",
    "\n",
    "For example, \"H2O\" and \"H2O2\" are possible, but \"H1O2\" is impossible.\n",
    "Two formulas are concatenated together to produce another formula.\n",
    "\n",
    "For example, \"H2O2He3Mg4\" is also a formula.\n",
    "A formula placed in parentheses, and a count (optionally added) is also a formula.\n",
    "\n",
    "For example, \"(H2O2)\" and \"(H2O2)3\" are formulas.\n",
    "Return the count of all elements as a string in the following form: the first name (in sorted order), followed by its count (if that count is more than 1), followed by the second name (in sorted order), followed by its count (if that count is more than 1), and so on.\n",
    "\n",
    "The test cases are generated so that all the values in the output fit in a 32-bit integer.\n",
    "\n",
    " \n",
    "\n",
    "Example 1:\n",
    "\n",
    "Input: formula = \"H2O\"\n",
    "Output: \"H2O\"\n",
    "Explanation: The count of elements are {'H': 2, 'O': 1}.\n",
    "Example 2:\n",
    "\n",
    "Input: formula = \"Mg(OH)2\"\n",
    "Output: \"H2MgO2\"\n",
    "Explanation: The count of elements are {'H': 2, 'Mg': 1, 'O': 2}.\n",
    "Example 3:\n",
    "\n",
    "Input: formula = \"K4(ON(SO3)2)2\"\n",
    "Output: \"K4N2O14S4\"\n",
    "Explanation: The count of elements are {'K': 4, 'N': 2, 'O': 14, 'S': 4}.\n",
    " \n",
    "\n",
    "Constraints:\n",
    "\n",
    "1 <= formula.length <= 1000\n",
    "formula consists of English letters, digits, '(', and ')'.\n",
    "formula is always valid.\n",
    "\n",
    "'''"
   ]
  },
  {
   "cell_type": "code",
   "execution_count": 3,
   "metadata": {},
   "outputs": [],
   "source": [
    "from collections import defaultdict\n",
    "\n",
    "class Solution:\n",
    "    def countOfAtoms(self, formula: str) -> str:\n",
    "        n=len(formula)\n",
    "        stack=[]\n",
    "        count=defaultdict(lambda:0)\n",
    "        c=\"\"\n",
    "        s=\"\"\n",
    "        for i in reversed(formula):\n",
    "            if i.isdigit():\n",
    "                c=i+c\n",
    "            elif i==')':\n",
    "                if c:\n",
    "                    if not stack:\n",
    "                        stack.append(int(c))\n",
    "                    else:\n",
    "                        top=stack[-1]\n",
    "                        stack.append(top*int(c))\n",
    "                    c=\"\"\n",
    "            elif i==\"(\":\n",
    "                if stack:\n",
    "                    stack.pop()\n",
    "            elif i.islower():\n",
    "                s=i+s\n",
    "            else:\n",
    "                s=i+s\n",
    "                if c:\n",
    "                    if stack:\n",
    "                        count[s]+=int(c)*stack[-1]\n",
    "                    else:\n",
    "                        count[s]+=int(c)\n",
    "                    c=\"\"\n",
    "                                                \n",
    "                else:\n",
    "                    if stack:\n",
    "                        count[s]+=stack[-1]\n",
    "                    else:\n",
    "                        count[s]+=1\n",
    "                s=\"\"\n",
    "        ans=\"\"\n",
    "        for i in sorted(count):\n",
    "            if count[i]>1:\n",
    "                ans+=i+str(count[i])\n",
    "            else:\n",
    "                ans+=i\n",
    "        return ans            "
   ]
  },
  {
   "cell_type": "code",
   "execution_count": 4,
   "metadata": {},
   "outputs": [
    {
     "name": "stdout",
     "output_type": "stream",
     "text": [
      "H2O\n"
     ]
    }
   ],
   "source": [
    "# Create an instance of the Solution class\n",
    "solution = Solution()\n",
    "\n",
    "# Call the method on the instance\n",
    "result = solution.countOfAtoms(formula = \"H2O\")\n",
    "print(result)"
   ]
  }
 ],
 "metadata": {
  "kernelspec": {
   "display_name": "Python 3",
   "language": "python",
   "name": "python3"
  },
  "language_info": {
   "codemirror_mode": {
    "name": "ipython",
    "version": 3
   },
   "file_extension": ".py",
   "mimetype": "text/x-python",
   "name": "python",
   "nbconvert_exporter": "python",
   "pygments_lexer": "ipython3",
   "version": "3.12.3"
  }
 },
 "nbformat": 4,
 "nbformat_minor": 2
}
