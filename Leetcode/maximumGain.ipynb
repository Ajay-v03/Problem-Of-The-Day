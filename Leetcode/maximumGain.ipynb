{
 "cells": [
  {
   "cell_type": "markdown",
   "metadata": {},
   "source": [
    "1717. Maximum Score From Removing Substrings"
   ]
  },
  {
   "cell_type": "code",
   "execution_count": null,
   "metadata": {},
   "outputs": [],
   "source": [
    "'''\n",
    "You are given a string s and two integers x and y. You can perform two types of operations any number of times.\n",
    "\n",
    "Remove substring \"ab\" and gain x points.\n",
    "For example, when removing \"ab\" from \"cabxbae\" it becomes \"cxbae\".\n",
    "Remove substring \"ba\" and gain y points.\n",
    "For example, when removing \"ba\" from \"cabxbae\" it becomes \"cabxe\".\n",
    "Return the maximum points you can gain after applying the above operations on s.\n",
    "\n",
    " \n",
    "\n",
    "Example 1:\n",
    "\n",
    "Input: s = \"cdbcbbaaabab\", x = 4, y = 5\n",
    "Output: 19\n",
    "Explanation:\n",
    "- Remove the \"ba\" underlined in \"cdbcbbaaabab\". Now, s = \"cdbcbbaaab\" and 5 points are added to the score.\n",
    "- Remove the \"ab\" underlined in \"cdbcbbaaab\". Now, s = \"cdbcbbaa\" and 4 points are added to the score.\n",
    "- Remove the \"ba\" underlined in \"cdbcbbaa\". Now, s = \"cdbcba\" and 5 points are added to the score.\n",
    "- Remove the \"ba\" underlined in \"cdbcba\". Now, s = \"cdbc\" and 5 points are added to the score.\n",
    "Total score = 5 + 4 + 5 + 5 = 19.\n",
    "Example 2:\n",
    "\n",
    "Input: s = \"aabbaaxybbaabb\", x = 5, y = 4\n",
    "Output: 20\n",
    " \n",
    "\n",
    "Constraints:\n",
    "\n",
    "1 <= s.length <= 105\n",
    "1 <= x, y <= 104\n",
    "s consists of lowercase English letters.\n",
    "'''"
   ]
  },
  {
   "cell_type": "code",
   "execution_count": 1,
   "metadata": {},
   "outputs": [],
   "source": [
    "class Solution:\n",
    "    def maximumGain(self, s: str, x: int, y: int) -> int:\n",
    "        aCount = 0\n",
    "        bCount = 0\n",
    "        lesser = min(x,y)\n",
    "        res = 0\n",
    "\n",
    "        for i in range(len(s)):\n",
    "            c = s[i]\n",
    "            if c > 'b':\n",
    "                res += min(aCount , bCount) * lesser\n",
    "                aCount , bCount = 0 , 0\n",
    "            elif c == 'a':\n",
    "                if x < y and bCount > 0:\n",
    "                    bCount -= 1\n",
    "                    res += y\n",
    "                else:\n",
    "                    aCount+=1\n",
    "            else:\n",
    "                if x > y and aCount > 0:\n",
    "                    aCount -= 1\n",
    "                    res += x\n",
    "                else:\n",
    "                    bCount += 1\n",
    "        \n",
    "        res += min(aCount , bCount) * lesser\n",
    "        return res"
   ]
  },
  {
   "cell_type": "code",
   "execution_count": 2,
   "metadata": {},
   "outputs": [
    {
     "name": "stdout",
     "output_type": "stream",
     "text": [
      "19\n"
     ]
    }
   ],
   "source": [
    "# Create an instance of the Solution class\n",
    "solution = Solution()\n",
    "\n",
    "# Call the method on the instance\n",
    "result = solution.maximumGain(s = \"cdbcbbaaabab\", x = 4, y = 5)\n",
    "print(result)"
   ]
  }
 ],
 "metadata": {
  "kernelspec": {
   "display_name": "Python 3",
   "language": "python",
   "name": "python3"
  },
  "language_info": {
   "codemirror_mode": {
    "name": "ipython",
    "version": 3
   },
   "file_extension": ".py",
   "mimetype": "text/x-python",
   "name": "python",
   "nbconvert_exporter": "python",
   "pygments_lexer": "ipython3",
   "version": "3.12.3"
  }
 },
 "nbformat": 4,
 "nbformat_minor": 2
}
