{
 "cells": [
  {
   "cell_type": "markdown",
   "metadata": {},
   "source": [
    "633. Sum of Square Numbers"
   ]
  },
  {
   "cell_type": "code",
   "execution_count": null,
   "metadata": {},
   "outputs": [],
   "source": [
    "'''\n",
    "Given a non-negative integer c, decide whether there're two integers a and b such that a2 + b2 = c.\n",
    "\n",
    " \n",
    "\n",
    "Example 1:\n",
    "\n",
    "Input: c = 5\n",
    "Output: true\n",
    "Explanation: 1 * 1 + 2 * 2 = 5\n",
    "Example 2:\n",
    "\n",
    "Input: c = 3\n",
    "Output: false\n",
    " \n",
    "\n",
    "Constraints:\n",
    "\n",
    "0 <= c <= 231 - 1\n",
    "\n",
    "\n",
    "'''"
   ]
  },
  {
   "cell_type": "code",
   "execution_count": null,
   "metadata": {},
   "outputs": [],
   "source": [
    "import math\n",
    "class Solution:\n",
    "    def judgeSquareSum(self, c: int) -> bool:\n",
    "        s=set()\n",
    "        for i in range( 0, floor(math.sqrt(c)+1)):\n",
    "            s.add(i*i)\n",
    "            if  c-i*i in s or 2*i*i==c:\n",
    "                return True\n",
    "        return False        "
   ]
  },
  {
   "cell_type": "code",
   "execution_count": null,
   "metadata": {},
   "outputs": [],
   "source": [
    "# Create an instance of the Solution class\n",
    "solution = Solution()\n",
    "\n",
    "c=5\n",
    "# Call the method on the instance\n",
    "result = solution.judgeSquareSum(c)\n",
    "print(result)"
   ]
  }
 ],
 "metadata": {
  "kernelspec": {
   "display_name": "Python 3",
   "language": "python",
   "name": "python3"
  },
  "language_info": {
   "codemirror_mode": {
    "name": "ipython",
    "version": 3
   },
   "file_extension": ".py",
   "mimetype": "text/x-python",
   "name": "python",
   "nbconvert_exporter": "python",
   "pygments_lexer": "ipython3",
   "version": "3.12.3"
  }
 },
 "nbformat": 4,
 "nbformat_minor": 2
}
