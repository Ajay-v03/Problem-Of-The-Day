{
 "cells": [
  {
   "cell_type": "markdown",
   "metadata": {},
   "source": [
    "1122. Relative Sort Array"
   ]
  },
  {
   "cell_type": "code",
   "execution_count": null,
   "metadata": {},
   "outputs": [],
   "source": [
    "'''\n",
    "Given two arrays arr1 and arr2, the elements of arr2 are distinct, and all elements in arr2 are also in arr1.\n",
    "\n",
    "Sort the elements of arr1 such that the relative ordering of items in arr1 are the same as in arr2. Elements that do not appear in arr2 should be placed at the end of arr1 in ascending order.\n",
    "\n",
    " \n",
    "\n",
    "Example 1:\n",
    "\n",
    "Input: arr1 = [2,3,1,3,2,4,6,7,9,2,19], arr2 = [2,1,4,3,9,6]\n",
    "Output: [2,2,2,1,4,3,3,9,6,7,19]\n",
    "Example 2:\n",
    "\n",
    "Input: arr1 = [28,6,22,8,44,17], arr2 = [22,28,8,6]\n",
    "Output: [22,28,8,6,17,44]\n",
    " \n",
    "\n",
    "Constraints:\n",
    "\n",
    "1 <= arr1.length, arr2.length <= 1000\n",
    "0 <= arr1[i], arr2[i] <= 1000\n",
    "All the elements of arr2 are distinct.\n",
    "Each arr2[i] is in arr1.\n",
    "\n",
    "'''"
   ]
  },
  {
   "cell_type": "code",
   "execution_count": 1,
   "metadata": {},
   "outputs": [],
   "source": [
    "from typing import List\n",
    "\n",
    "class Solution:\n",
    "    def relativeSortArray(self, arr1: List[int], arr2: List[int]) -> List[int]:\n",
    "        # Create a dictionary to store the indices of elements in arr2\n",
    "        index_map = {num: i for i, num in enumerate(arr2)}\n",
    "        \n",
    "        # Define a custom sorting function\n",
    "        def custom_sort(num):\n",
    "            if num in index_map:\n",
    "                return (0, index_map[num])  # Sort by appearance order in arr2\n",
    "            else:\n",
    "                return (1, num)  # Sort other elements at the end in ascending order\n",
    "        \n",
    "        # Sort arr1 using the custom sorting function\n",
    "        arr1.sort(key=custom_sort)\n",
    "        \n",
    "        return arr1"
   ]
  },
  {
   "cell_type": "code",
   "execution_count": 2,
   "metadata": {},
   "outputs": [
    {
     "name": "stdout",
     "output_type": "stream",
     "text": [
      "[2, 2, 2, 1, 4, 3, 3, 9, 6, 7, 19]\n"
     ]
    }
   ],
   "source": [
    "# Create an instance of the Solution class\n",
    "solution = Solution()\n",
    "\n",
    "arr1 = [2,3,1,3,2,4,6,7,9,2,19]\n",
    "arr2 = [2,1,4,3,9,6]\n",
    "\n",
    "# Call the method on the instance\n",
    "result = solution.relativeSortArray(arr1,arr2)\n",
    "print(result)"
   ]
  }
 ],
 "metadata": {
  "kernelspec": {
   "display_name": "Python 3",
   "language": "python",
   "name": "python3"
  },
  "language_info": {
   "codemirror_mode": {
    "name": "ipython",
    "version": 3
   },
   "file_extension": ".py",
   "mimetype": "text/x-python",
   "name": "python",
   "nbconvert_exporter": "python",
   "pygments_lexer": "ipython3",
   "version": "3.12.3"
  }
 },
 "nbformat": 4,
 "nbformat_minor": 2
}
