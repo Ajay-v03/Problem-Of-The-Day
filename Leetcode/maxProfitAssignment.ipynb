{
 "cells": [
  {
   "cell_type": "markdown",
   "metadata": {},
   "source": [
    "826. Most Profit Assigning Work"
   ]
  },
  {
   "cell_type": "code",
   "execution_count": null,
   "metadata": {},
   "outputs": [],
   "source": [
    "'''\n",
    "You have n jobs and m workers. You are given three arrays: difficulty, profit, and worker where:\n",
    "\n",
    "difficulty[i] and profit[i] are the difficulty and the profit of the ith job, and\n",
    "worker[j] is the ability of jth worker (i.e., the jth worker can only complete a job with difficulty at most worker[j]).\n",
    "Every worker can be assigned at most one job, but one job can be completed multiple times.\n",
    "\n",
    "For example, if three workers attempt the same job that pays $1, then the total profit will be $3. If a worker cannot complete any job, their profit is $0.\n",
    "Return the maximum profit we can achieve after assigning the workers to the jobs.\n",
    "\n",
    " \n",
    "\n",
    "Example 1:\n",
    "\n",
    "Input: difficulty = [2,4,6,8,10], profit = [10,20,30,40,50], worker = [4,5,6,7]\n",
    "Output: 100\n",
    "Explanation: Workers are assigned jobs of difficulty [4,4,6,6] and they get a profit of [20,20,30,30] separately.\n",
    "Example 2:\n",
    "\n",
    "Input: difficulty = [85,47,57], profit = [24,66,99], worker = [40,25,25]\n",
    "Output: 0\n",
    " \n",
    "\n",
    "Constraints:\n",
    "\n",
    "n == difficulty.length\n",
    "n == profit.length\n",
    "m == worker.length\n",
    "1 <= n, m <= 104\n",
    "1 <= difficulty[i], profit[i], worker[i] <= 105\n",
    "\n",
    "\n",
    "'''"
   ]
  },
  {
   "cell_type": "code",
   "execution_count": null,
   "metadata": {},
   "outputs": [],
   "source": [
    "import bisect\n",
    "from typing import List\n",
    "\n",
    "class Solution:\n",
    "    def maxProfitAssignment(self, difficulty: List[int], profit: List[int], worker: List[int]) -> int:\n",
    "        difficultyProfit = list(zip(difficulty, profit))\n",
    "        difficultyProfit.sort()\n",
    "\n",
    "        difficulty, profit = zip(*difficultyProfit)\n",
    "\n",
    "        n = len(profit)\n",
    "        dp = [0] * n\n",
    "        for i in range(n):\n",
    "            dp[i] = max(profit[i], dp[i - 1])\n",
    "\n",
    "        result = 0\n",
    "        for w in worker:\n",
    "            index = bisect.bisect_right(difficulty, w) - 1\n",
    "            if index < 0:\n",
    "                continue\n",
    "            \n",
    "            result += dp[index]\n",
    "        \n",
    "        return result\n"
   ]
  },
  {
   "cell_type": "code",
   "execution_count": null,
   "metadata": {},
   "outputs": [],
   "source": [
    "# Create an instance of the Solution class\n",
    "solution = Solution()\n",
    "\n",
    "difficulty = [2,4,6,8,10],\n",
    "profit = [10,20,30,40,50]\n",
    "worker = [4,5,6,7]\n",
    "# Call the method on the instance\n",
    "result = solution.maxProfitAssignment(difficulty,profit,worker)\n",
    "print(result)"
   ]
  }
 ],
 "metadata": {
  "kernelspec": {
   "display_name": "Python 3",
   "language": "python",
   "name": "python3"
  },
  "language_info": {
   "codemirror_mode": {
    "name": "ipython",
    "version": 3
   },
   "file_extension": ".py",
   "mimetype": "text/x-python",
   "name": "python",
   "nbconvert_exporter": "python",
   "pygments_lexer": "ipython3",
   "version": "3.12.3"
  }
 },
 "nbformat": 4,
 "nbformat_minor": 2
}
