{
 "cells": [
  {
   "cell_type": "markdown",
   "metadata": {},
   "source": [
    "1637. Widest Vertical Area Between Two Points Containing No Points"
   ]
  },
  {
   "cell_type": "code",
   "execution_count": null,
   "metadata": {},
   "outputs": [],
   "source": [
    "'''\n",
    "Given n points on a 2D plane where points[i] = [xi, yi], Return the widest vertical area between two points such that no points are inside the area.\n",
    "\n",
    "A vertical area is an area of fixed-width extending infinitely along the y-axis (i.e., infinite height). The widest vertical area is the one with the maximum width.\n",
    "\n",
    "Note that points on the edge of a vertical area are not considered included in the area.\n",
    "\n",
    " \n",
    "\n",
    "Example 1:\n",
    "\n",
    "​\n",
    "Input: points = [[8,7],[9,9],[7,4],[9,7]]\n",
    "Output: 1\n",
    "Explanation: Both the red and the blue area are optimal.\n",
    "Example 2:\n",
    "\n",
    "Input: points = [[3,1],[9,0],[1,0],[1,4],[5,3],[8,8]]\n",
    "Output: 3\n",
    " \n",
    "\n",
    "Constraints:\n",
    "\n",
    "n == points.length\n",
    "2 <= n <= 105\n",
    "points[i].length == 2\n",
    "0 <= xi, yi <= 109\n",
    "\n",
    "'''"
   ]
  },
  {
   "cell_type": "code",
   "execution_count": 1,
   "metadata": {},
   "outputs": [],
   "source": [
    "from typing import List\n",
    "class Solution:\n",
    "    def maxWidthOfVerticalArea(self, points: List[List[int]]) -> int:\n",
    "\n",
    "        x_cor = [i for i,j in points]\n",
    "\n",
    "        x_cor.sort()\n",
    "        ans = 0\n",
    "\n",
    "        for i in range(len(x_cor)-1):\n",
    "            if ans < x_cor[i+1] - x_cor[i]:\n",
    "                ans = x_cor[i+1] - x_cor[i]  \n",
    "        return ans\n",
    "        "
   ]
  },
  {
   "cell_type": "code",
   "execution_count": 2,
   "metadata": {},
   "outputs": [
    {
     "name": "stdout",
     "output_type": "stream",
     "text": [
      "1\n"
     ]
    }
   ],
   "source": [
    "# Create an instance of the Solution class\n",
    "solution = Solution()\n",
    "\n",
    "# Call the method on the instance\n",
    "result = solution.maxWidthOfVerticalArea(points = [[8,7],[9,9],[7,4],[9,7]])\n",
    "print(result)"
   ]
  }
 ],
 "metadata": {
  "kernelspec": {
   "display_name": "Python 3",
   "language": "python",
   "name": "python3"
  },
  "language_info": {
   "codemirror_mode": {
    "name": "ipython",
    "version": 3
   },
   "file_extension": ".py",
   "mimetype": "text/x-python",
   "name": "python",
   "nbconvert_exporter": "python",
   "pygments_lexer": "ipython3",
   "version": "3.12.3"
  }
 },
 "nbformat": 4,
 "nbformat_minor": 2
}
