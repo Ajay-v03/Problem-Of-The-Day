{
 "cells": [
  {
   "cell_type": "markdown",
   "metadata": {},
   "source": [
    "1382. Balance a Binary Search Tree"
   ]
  },
  {
   "cell_type": "code",
   "execution_count": null,
   "metadata": {},
   "outputs": [],
   "source": [
    "'''\n",
    "Given the root of a binary search tree, return a balanced binary search tree with the same node values. If there is more than one answer, return any of them.\n",
    "\n",
    "A binary search tree is balanced if the depth of the two subtrees of every node never differs by more than 1.\n",
    "\n",
    " \n",
    "\n",
    "Example 1:\n",
    "\n",
    "\n",
    "Input: root = [1,null,2,null,3,null,4,null,null]\n",
    "Output: [2,1,3,null,null,null,4]\n",
    "Explanation: This is not the only correct answer, [3,1,4,null,2] is also correct.\n",
    "Example 2:\n",
    "\n",
    "\n",
    "Input: root = [2,1,3]\n",
    "Output: [2,1,3]\n",
    " \n",
    "\n",
    "Constraints:\n",
    "\n",
    "The number of nodes in the tree is in the range [1, 104].\n",
    "1 <= Node.val <= 105\n",
    "\n",
    "'''"
   ]
  },
  {
   "cell_type": "code",
   "execution_count": null,
   "metadata": {},
   "outputs": [],
   "source": [
    "# Definition for a binary tree node.\n",
    "# class TreeNode:\n",
    "#     def __init__(self, val=0, left=None, right=None):\n",
    "#         self.val = val\n",
    "#         self.left = left\n",
    "#         self.right = right\n",
    "class Solution:\n",
    "    def balanceBST(self, root: TreeNode) -> TreeNode:\n",
    "        def dfs(root: TreeNode):\n",
    "            if root is None:\n",
    "                return\n",
    "            dfs(root.left)\n",
    "            nums.append(root.val)\n",
    "            dfs(root.right)\n",
    "\n",
    "        def build(i: int, j: int) -> TreeNode:\n",
    "            if i > j:\n",
    "                return None\n",
    "            mid = (i + j) >> 1\n",
    "            left = build(i, mid - 1)\n",
    "            right = build(mid + 1, j)\n",
    "            return TreeNode(nums[mid], left, right)\n",
    "\n",
    "        nums = []\n",
    "        dfs(root)\n",
    "        return build(0, len(nums) - 1)"
   ]
  },
  {
   "cell_type": "code",
   "execution_count": null,
   "metadata": {},
   "outputs": [],
   "source": [
    "# Create an instance of the Solution class\n",
    "solution = Solution()\n",
    "\n",
    "root = [1,null,2,null,3,null,4,null,null]\n",
    "# Call the method on the instance\n",
    "result = solution.balanceBST(root)\n",
    "print(result)"
   ]
  }
 ],
 "metadata": {
  "language_info": {
   "name": "python"
  }
 },
 "nbformat": 4,
 "nbformat_minor": 2
}
