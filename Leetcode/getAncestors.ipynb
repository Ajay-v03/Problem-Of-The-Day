{
 "cells": [
  {
   "cell_type": "markdown",
   "metadata": {},
   "source": [
    "2192. All Ancestors of a Node in a Directed Acyclic Graph"
   ]
  },
  {
   "cell_type": "code",
   "execution_count": null,
   "metadata": {},
   "outputs": [],
   "source": [
    "'''\n",
    "You are given a positive integer n representing the number of nodes of a Directed Acyclic Graph (DAG). The nodes are numbered from 0 to n - 1 (inclusive).\n",
    "\n",
    "You are also given a 2D integer array edges, where edges[i] = [fromi, toi] denotes that there is a unidirectional edge from fromi to toi in the graph.\n",
    "\n",
    "Return a list answer, where answer[i] is the list of ancestors of the ith node, sorted in ascending order.\n",
    "\n",
    "A node u is an ancestor of another node v if u can reach v via a set of edges.\n",
    "\n",
    " \n",
    "\n",
    "Example 1:\n",
    "\n",
    "\n",
    "Input: n = 8, edgeList = [[0,3],[0,4],[1,3],[2,4],[2,7],[3,5],[3,6],[3,7],[4,6]]\n",
    "Output: [[],[],[],[0,1],[0,2],[0,1,3],[0,1,2,3,4],[0,1,2,3]]\n",
    "Explanation:\n",
    "The above diagram represents the input graph.\n",
    "- Nodes 0, 1, and 2 do not have any ancestors.\n",
    "- Node 3 has two ancestors 0 and 1.\n",
    "- Node 4 has two ancestors 0 and 2.\n",
    "- Node 5 has three ancestors 0, 1, and 3.\n",
    "- Node 6 has five ancestors 0, 1, 2, 3, and 4.\n",
    "- Node 7 has four ancestors 0, 1, 2, and 3.\n",
    "Example 2:\n",
    "\n",
    "\n",
    "Input: n = 5, edgeList = [[0,1],[0,2],[0,3],[0,4],[1,2],[1,3],[1,4],[2,3],[2,4],[3,4]]\n",
    "Output: [[],[0],[0,1],[0,1,2],[0,1,2,3]]\n",
    "Explanation:\n",
    "The above diagram represents the input graph.\n",
    "- Node 0 does not have any ancestor.\n",
    "- Node 1 has one ancestor 0.\n",
    "- Node 2 has two ancestors 0 and 1.\n",
    "- Node 3 has three ancestors 0, 1, and 2.\n",
    "- Node 4 has four ancestors 0, 1, 2, and 3.\n",
    " \n",
    "\n",
    "Constraints:\n",
    "\n",
    "1 <= n <= 1000\n",
    "0 <= edges.length <= min(2000, n * (n - 1) / 2)\n",
    "edges[i].length == 2\n",
    "0 <= fromi, toi <= n - 1\n",
    "fromi != toi\n",
    "There are no duplicate edges.\n",
    "The graph is directed and acyclic.\n",
    "\n",
    "\n",
    "'''"
   ]
  },
  {
   "cell_type": "code",
   "execution_count": 1,
   "metadata": {},
   "outputs": [],
   "source": [
    "from typing import List\n",
    "import collections\n",
    "from collections import deque\n",
    "\n",
    "class Solution:\n",
    "    def getAncestors(self, n: int, edges: List[List[int]]) -> List[List[int]]:\n",
    "        result = [set() for _ in range(n)]\n",
    "        indegrees = [0] * n\n",
    "        adj_list = collections.defaultdict(list)\n",
    "        for u, v in edges:\n",
    "            adj_list[u].append(v)\n",
    "            indegrees[v] += 1\n",
    "        queue = deque()\n",
    "        for i in range(len(indegrees)):\n",
    "            if not indegrees[i]:\n",
    "                queue.append(i)\n",
    "        while queue:\n",
    "            node = queue.popleft()\n",
    "            for neighbor in adj_list[node]:\n",
    "                result[neighbor].update(result[node], [node])\n",
    "                indegrees[neighbor] -= 1\n",
    "                if not indegrees[neighbor]:\n",
    "                    queue.append(neighbor)\n",
    "            result[node] = sorted(result[node])\n",
    "        return result\n",
    "#if you upvote this you will get a good news in 1 hour "
   ]
  },
  {
   "cell_type": "code",
   "execution_count": 2,
   "metadata": {},
   "outputs": [
    {
     "name": "stdout",
     "output_type": "stream",
     "text": [
      "[[], [], [], [0, 1], [0, 2], [0, 1, 3], [0, 1, 2, 3, 4], [0, 1, 2, 3]]\n"
     ]
    }
   ],
   "source": [
    "# Create an instance of the Solution class\n",
    "solution = Solution()\n",
    "\n",
    "n = 8\n",
    "edgeList = [[0,3],[0,4],[1,3],[2,4],[2,7],[3,5],[3,6],[3,7],[4,6]]\n",
    "# Call the method on the instance\n",
    "result = solution.getAncestors(n,edgeList)\n",
    "print(result)"
   ]
  }
 ],
 "metadata": {
  "kernelspec": {
   "display_name": "Python 3",
   "language": "python",
   "name": "python3"
  },
  "language_info": {
   "codemirror_mode": {
    "name": "ipython",
    "version": 3
   },
   "file_extension": ".py",
   "mimetype": "text/x-python",
   "name": "python",
   "nbconvert_exporter": "python",
   "pygments_lexer": "ipython3",
   "version": "3.12.3"
  }
 },
 "nbformat": 4,
 "nbformat_minor": 2
}
