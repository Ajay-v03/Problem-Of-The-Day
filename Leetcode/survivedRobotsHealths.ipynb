{
 "cells": [
  {
   "cell_type": "markdown",
   "metadata": {},
   "source": [
    "2751. Robot Collisions"
   ]
  },
  {
   "cell_type": "code",
   "execution_count": null,
   "metadata": {},
   "outputs": [],
   "source": [
    "'''\n",
    "There are n 1-indexed robots, each having a position on a line, health, and movement direction.\n",
    "\n",
    "You are given 0-indexed integer arrays positions, healths, and a string directions (directions[i] is either 'L' for left or 'R' for right). All integers in positions are unique.\n",
    "\n",
    "All robots start moving on the line simultaneously at the same speed in their given directions. If two robots ever share the same position while moving, they will collide.\n",
    "\n",
    "If two robots collide, the robot with lower health is removed from the line, and the health of the other robot decreases by one. The surviving robot continues in the same direction it was going. If both robots have the same health, they are both removed from the line.\n",
    "\n",
    "Your task is to determine the health of the robots that survive the collisions, in the same order that the robots were given, i.e. final heath of robot 1 (if survived), final health of robot 2 (if survived), and so on. If there are no survivors, return an empty array.\n",
    "\n",
    "Return an array containing the health of the remaining robots (in the order they were given in the input), after no further collisions can occur.\n",
    "\n",
    "Note: The positions may be unsorted.\n",
    "\n",
    " \n",
    " \n",
    "\n",
    "Example 1:\n",
    "\n",
    "\n",
    "\n",
    "Input: positions = [5,4,3,2,1], healths = [2,17,9,15,10], directions = \"RRRRR\"\n",
    "Output: [2,17,9,15,10]\n",
    "Explanation: No collision occurs in this example, since all robots are moving in the same direction. So, the health of the robots in order from the first robot is returned, [2, 17, 9, 15, 10].\n",
    "Example 2:\n",
    "\n",
    "\n",
    "\n",
    "Input: positions = [3,5,2,6], healths = [10,10,15,12], directions = \"RLRL\"\n",
    "Output: [14]\n",
    "Explanation: There are 2 collisions in this example. Firstly, robot 1 and robot 2 will collide, and since both have the same health, they will be removed from the line. Next, robot 3 and robot 4 will collide and since robot 4's health is smaller, it gets removed, and robot 3's health becomes 15 - 1 = 14. Only robot 3 remains, so we return [14].\n",
    "Example 3:\n",
    "\n",
    "\n",
    "\n",
    "Input: positions = [1,2,5,6], healths = [10,10,11,11], directions = \"RLRL\"\n",
    "Output: []\n",
    "Explanation: Robot 1 and robot 2 will collide and since both have the same health, they are both removed. Robot 3 and 4 will collide and since both have the same health, they are both removed. So, we return an empty array, [].\n",
    " \n",
    "\n",
    "Constraints:\n",
    "\n",
    "1 <= positions.length == healths.length == directions.length == n <= 105\n",
    "1 <= positions[i], healths[i] <= 109\n",
    "directions[i] == 'L' or directions[i] == 'R'\n",
    "All values in positions are distinct\n",
    "'''"
   ]
  },
  {
   "cell_type": "code",
   "execution_count": 1,
   "metadata": {},
   "outputs": [],
   "source": [
    "from typing import List\n",
    "class Solution:\n",
    "    def survivedRobotsHealths(self, positions: List[int], healths: List[int], directions: str) -> List[int]:\n",
    "        stack = []\n",
    "        for i in sorted(range(len(positions)), key = lambda i: positions[i]):\n",
    "            if directions[i] == 'R':\n",
    "                stack.append(i)\n",
    "            else:\n",
    "                while stack and healths[stack[-1]] < healths[i]:\n",
    "                    healths[i] -= 1\n",
    "                    healths[stack.pop()] = 0\n",
    "                if stack:\n",
    "                    if healths[stack[-1]] == healths[i]:\n",
    "                        healths[stack.pop()] = 0\n",
    "                    else:\n",
    "                        healths[stack[-1]] -= 1\n",
    "                    healths[i] = 0\n",
    "        return [h for h in healths if h]   "
   ]
  },
  {
   "cell_type": "code",
   "execution_count": 2,
   "metadata": {},
   "outputs": [
    {
     "name": "stdout",
     "output_type": "stream",
     "text": [
      "[2, 17, 9, 15, 10]\n"
     ]
    }
   ],
   "source": [
    "# Create an instance of the Solution class\n",
    "solution = Solution()\n",
    "\n",
    "positions = [5,4,3,2,1]\n",
    "healths = [2,17,9,15,10]\n",
    "directions = \"RRRRR\"\n",
    "# Call the method on the instance\n",
    "result = solution.survivedRobotsHealths(positions,healths,directions)\n",
    "print(result)"
   ]
  }
 ],
 "metadata": {
  "kernelspec": {
   "display_name": "Python 3",
   "language": "python",
   "name": "python3"
  },
  "language_info": {
   "codemirror_mode": {
    "name": "ipython",
    "version": 3
   },
   "file_extension": ".py",
   "mimetype": "text/x-python",
   "name": "python",
   "nbconvert_exporter": "python",
   "pygments_lexer": "ipython3",
   "version": "3.12.3"
  }
 },
 "nbformat": 4,
 "nbformat_minor": 2
}
