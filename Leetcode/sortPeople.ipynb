{
 "cells": [
  {
   "cell_type": "markdown",
   "metadata": {},
   "source": [
    "2418. Sort the People"
   ]
  },
  {
   "cell_type": "code",
   "execution_count": null,
   "metadata": {},
   "outputs": [],
   "source": [
    "'''\n",
    "You are given an array of strings names, and an array heights that consists of distinct positive integers. Both arrays are of length n.\n",
    "\n",
    "For each index i, names[i] and heights[i] denote the name and height of the ith person.\n",
    "\n",
    "Return names sorted in descending order by the people's heights.\n",
    "\n",
    " \n",
    "\n",
    "Example 1:\n",
    "\n",
    "Input: names = [\"Mary\",\"John\",\"Emma\"], heights = [180,165,170]\n",
    "Output: [\"Mary\",\"Emma\",\"John\"]\n",
    "Explanation: Mary is the tallest, followed by Emma and John.\n",
    "Example 2:\n",
    "\n",
    "Input: names = [\"Alice\",\"Bob\",\"Bob\"], heights = [155,185,150]\n",
    "Output: [\"Bob\",\"Alice\",\"Bob\"]\n",
    "Explanation: The first Bob is the tallest, followed by Alice and the second Bob.\n",
    " \n",
    "\n",
    "Constraints:\n",
    "\n",
    "n == names.length == heights.length\n",
    "1 <= n <= 103\n",
    "1 <= names[i].length <= 20\n",
    "1 <= heights[i] <= 105\n",
    "names[i] consists of lower and upper case English letters.\n",
    "All the values of heights are distinct.\n",
    "\n",
    "'''"
   ]
  },
  {
   "cell_type": "code",
   "execution_count": 1,
   "metadata": {},
   "outputs": [],
   "source": [
    "from typing import List\n",
    "class Solution:\n",
    "    def sortPeople(self, names: List[str], heights: List[int]) -> List[str]:\n",
    "        height_dict = dict(zip(heights,names)) # // height_dict = {180: 'Mary', 165: 'John', 170: 'Emma'}\n",
    "        names.clear()\n",
    "        for key in sorted(height_dict.keys(),reverse=True):\n",
    "            names.append(height_dict[key])\n",
    "        return names"
   ]
  },
  {
   "cell_type": "code",
   "execution_count": 2,
   "metadata": {},
   "outputs": [
    {
     "name": "stdout",
     "output_type": "stream",
     "text": [
      "['Mary', 'Emma', 'John']\n"
     ]
    }
   ],
   "source": [
    "# Create an instance of the Solution class\n",
    "solution = Solution()\n",
    "\n",
    "# Call the method on the instance\n",
    "result = solution.sortPeople(names = [\"Mary\",\"John\",\"Emma\"], heights = [180,165,170])\n",
    "print(result)"
   ]
  }
 ],
 "metadata": {
  "kernelspec": {
   "display_name": "Python 3",
   "language": "python",
   "name": "python3"
  },
  "language_info": {
   "codemirror_mode": {
    "name": "ipython",
    "version": 3
   },
   "file_extension": ".py",
   "mimetype": "text/x-python",
   "name": "python",
   "nbconvert_exporter": "python",
   "pygments_lexer": "ipython3",
   "version": "3.12.3"
  }
 },
 "nbformat": 4,
 "nbformat_minor": 2
}
