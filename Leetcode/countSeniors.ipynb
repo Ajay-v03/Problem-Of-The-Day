{
 "cells": [
  {
   "cell_type": "markdown",
   "metadata": {},
   "source": [
    "2678. Number of Senior Citizens"
   ]
  },
  {
   "cell_type": "code",
   "execution_count": null,
   "metadata": {},
   "outputs": [],
   "source": [
    "'''\n",
    "You are given a 0-indexed array of strings details. Each element of details provides information about a given passenger compressed into a string of length 15. The system is such that:\n",
    "\n",
    "The first ten characters consist of the phone number of passengers.\n",
    "The next character denotes the gender of the person.\n",
    "The following two characters are used to indicate the age of the person.\n",
    "The last two characters determine the seat allotted to that person.\n",
    "Return the number of passengers who are strictly more than 60 years old.\n",
    "\n",
    " \n",
    "\n",
    "Example 1:\n",
    "\n",
    "Input: details = [\"7868190130M7522\",\"5303914400F9211\",\"9273338290F4010\"]\n",
    "Output: 2\n",
    "Explanation: The passengers at indices 0, 1, and 2 have ages 75, 92, and 40. Thus, there are 2 people who are over 60 years old.\n",
    "Example 2:\n",
    "\n",
    "Input: details = [\"1313579440F2036\",\"2921522980M5644\"]\n",
    "Output: 0\n",
    "Explanation: None of the passengers are older than 60.\n",
    " \n",
    "\n",
    "Constraints:\n",
    "\n",
    "1 <= details.length <= 100\n",
    "details[i].length == 15\n",
    "details[i] consists of digits from '0' to '9'.\n",
    "details[i][10] is either 'M' or 'F' or 'O'.\n",
    "The phone numbers and seat numbers of the passengers are distinct.\n",
    "\n",
    "'''"
   ]
  },
  {
   "cell_type": "code",
   "execution_count": 1,
   "metadata": {},
   "outputs": [],
   "source": [
    "from typing import List\n",
    "\n",
    "class Solution:\n",
    "    def countSeniors(self, details: List[str]) -> int:\n",
    "        return len([i for i in details if int(i[11:13]) > 60])\n",
    "        "
   ]
  },
  {
   "cell_type": "code",
   "execution_count": 2,
   "metadata": {},
   "outputs": [
    {
     "name": "stdout",
     "output_type": "stream",
     "text": [
      "2\n"
     ]
    }
   ],
   "source": [
    "# Create an instance of the Solution class\n",
    "solution = Solution()\n",
    "\n",
    "details = [\"7868190130M7522\",\"5303914400F9211\",\"9273338290F4010\"]\n",
    "\n",
    "# Call the method on the instance\n",
    "result = solution.countSeniors(details)\n",
    "print(result)"
   ]
  }
 ],
 "metadata": {
  "kernelspec": {
   "display_name": "Python 3",
   "language": "python",
   "name": "python3"
  },
  "language_info": {
   "codemirror_mode": {
    "name": "ipython",
    "version": 3
   },
   "file_extension": ".py",
   "mimetype": "text/x-python",
   "name": "python",
   "nbconvert_exporter": "python",
   "pygments_lexer": "ipython3",
   "version": "3.12.3"
  }
 },
 "nbformat": 4,
 "nbformat_minor": 2
}
