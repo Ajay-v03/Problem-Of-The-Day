{
 "cells": [
  {
   "cell_type": "markdown",
   "metadata": {},
   "source": [
    "1052. Grumpy Bookstore Owner"
   ]
  },
  {
   "cell_type": "code",
   "execution_count": null,
   "metadata": {},
   "outputs": [],
   "source": [
    "'''\n",
    "There is a bookstore owner that has a store open for n minutes. Every minute, some number of customers enter the store. You are given an integer array customers of length n where customers[i] is the number of the customer that enters the store at the start of the ith minute and all those customers leave after the end of that minute.\n",
    "\n",
    "On some minutes, the bookstore owner is grumpy. You are given a binary array grumpy where grumpy[i] is 1 if the bookstore owner is grumpy during the ith minute, and is 0 otherwise.\n",
    "\n",
    "When the bookstore owner is grumpy, the customers of that minute are not satisfied, otherwise, they are satisfied.\n",
    "\n",
    "The bookstore owner knows a secret technique to keep themselves not grumpy for minutes consecutive minutes, but can only use it once.\n",
    "\n",
    "Return the maximum number of customers that can be satisfied throughout the day.\n",
    "\n",
    " \n",
    "\n",
    "Example 1:\n",
    "\n",
    "Input: customers = [1,0,1,2,1,1,7,5], grumpy = [0,1,0,1,0,1,0,1], minutes = 3\n",
    "Output: 16\n",
    "Explanation: The bookstore owner keeps themselves not grumpy for the last 3 minutes. \n",
    "The maximum number of customers that can be satisfied = 1 + 1 + 1 + 1 + 7 + 5 = 16.\n",
    "Example 2:\n",
    "\n",
    "Input: customers = [1], grumpy = [0], minutes = 1\n",
    "Output: 1\n",
    " \n",
    "\n",
    "Constraints:\n",
    "\n",
    "n == customers.length == grumpy.length\n",
    "1 <= minutes <= n <= 2 * 104\n",
    "0 <= customers[i] <= 1000\n",
    "grumpy[i] is either 0 or 1.\n",
    "\n",
    "'''"
   ]
  },
  {
   "cell_type": "code",
   "execution_count": 1,
   "metadata": {},
   "outputs": [],
   "source": [
    "from typing import List\n",
    "class Solution:\n",
    "    def maxSatisfied(self, customers: List[int], grumpy: List[int], minutes: int) -> int:\n",
    "        n = len(customers)\n",
    "        \n",
    "        # Calculate initial satisfaction without using the technique\n",
    "        initial_satisfaction = 0\n",
    "        for i in range(n):\n",
    "            if grumpy[i] == 0:\n",
    "                initial_satisfaction += customers[i]\n",
    "        \n",
    "        # Calculate the additional satisfaction using the technique\n",
    "        max_additional_satisfaction = 0\n",
    "        current_additional_satisfaction = 0\n",
    "        \n",
    "        # First window\n",
    "        for i in range(minutes):\n",
    "            if grumpy[i] == 1:\n",
    "                current_additional_satisfaction += customers[i]\n",
    "        \n",
    "        max_additional_satisfaction = current_additional_satisfaction\n",
    "        \n",
    "        # Slide the window from start to end of the array\n",
    "        for i in range(minutes, n):\n",
    "            if grumpy[i] == 1:\n",
    "                current_additional_satisfaction += customers[i]\n",
    "            if grumpy[i - minutes] == 1:\n",
    "                current_additional_satisfaction -= customers[i - minutes]\n",
    "            \n",
    "            max_additional_satisfaction = max(max_additional_satisfaction, current_additional_satisfaction)\n",
    "        \n",
    "        return initial_satisfaction + max_additional_satisfaction"
   ]
  },
  {
   "cell_type": "code",
   "execution_count": 2,
   "metadata": {},
   "outputs": [
    {
     "name": "stdout",
     "output_type": "stream",
     "text": [
      "16\n"
     ]
    }
   ],
   "source": [
    "# Create an instance of the Solution class\n",
    "solution = Solution()\n",
    "\n",
    "customers = [1,0,1,2,1,1,7,5]\n",
    "grumpy = [0,1,0,1,0,1,0,1]\n",
    "minutes = 3\n",
    "# Call the method on the instance\n",
    "result = solution.maxSatisfied(customers,grumpy,minutes)\n",
    "print(result)"
   ]
  }
 ],
 "metadata": {
  "kernelspec": {
   "display_name": "Python 3",
   "language": "python",
   "name": "python3"
  },
  "language_info": {
   "codemirror_mode": {
    "name": "ipython",
    "version": 3
   },
   "file_extension": ".py",
   "mimetype": "text/x-python",
   "name": "python",
   "nbconvert_exporter": "python",
   "pygments_lexer": "ipython3",
   "version": "3.12.3"
  }
 },
 "nbformat": 4,
 "nbformat_minor": 2
}
