{
 "cells": [
  {
   "cell_type": "markdown",
   "metadata": {},
   "source": [
    "974. Subarray Sums Divisible by K"
   ]
  },
  {
   "cell_type": "code",
   "execution_count": null,
   "metadata": {},
   "outputs": [],
   "source": [
    "'''\n",
    "Given an integer array nums and an integer k, return the number of non-empty subarrays that have a sum divisible by k.\n",
    "\n",
    "A subarray is a contiguous part of an array.\n",
    "\n",
    " \n",
    "\n",
    "Example 1:\n",
    "\n",
    "Input: nums = [4,5,0,-2,-3,1], k = 5\n",
    "Output: 7\n",
    "Explanation: There are 7 subarrays with a sum divisible by k = 5:\n",
    "[4, 5, 0, -2, -3, 1], [5], [5, 0], [5, 0, -2, -3], [0], [0, -2, -3], [-2, -3]\n",
    "Example 2:\n",
    "\n",
    "Input: nums = [5], k = 9\n",
    "Output: 0\n",
    " \n",
    "\n",
    "Constraints:\n",
    "\n",
    "1 <= nums.length <= 3 * 104\n",
    "-104 <= nums[i] <= 104\n",
    "2 <= k <= 104\n",
    "\n",
    "'''"
   ]
  },
  {
   "cell_type": "code",
   "execution_count": 1,
   "metadata": {},
   "outputs": [],
   "source": [
    "from typing import List, Counter\n",
    "class Solution:\n",
    "    # subarray [i, j] is divisible by k iff sum([0, j]) % k equals to\n",
    "    # sum([0, i]) % k. this gives me idea to use hashtable. I hash\n",
    "    # the remainders of sums at each index. Then we compare and count\n",
    "    # them. I'd never write code like this at work though, completely\n",
    "    # unreadable, 0 chance to pass the review...\n",
    "    def subarraysDivByK(self, nums: List[int], k: int) -> int:\n",
    "        sums = [0]\n",
    "        for n in nums: sums.append(sums[-1] + n)\n",
    "        return sum([v * (v - 1) // 2 for v in Counter([n % k for n in sums]).values()])"
   ]
  },
  {
   "cell_type": "code",
   "execution_count": 2,
   "metadata": {},
   "outputs": [
    {
     "name": "stdout",
     "output_type": "stream",
     "text": [
      "7\n"
     ]
    }
   ],
   "source": [
    "# Create an instance of the Solution class\n",
    "solution = Solution()\n",
    "\n",
    "nums = [4,5,0,-2,-3,1]\n",
    "k = 5\n",
    "\n",
    "# Call the method on the instance\n",
    "result = solution.subarraysDivByK(nums, k)\n",
    "print(result)"
   ]
  }
 ],
 "metadata": {
  "kernelspec": {
   "display_name": "Python 3",
   "language": "python",
   "name": "python3"
  },
  "language_info": {
   "codemirror_mode": {
    "name": "ipython",
    "version": 3
   },
   "file_extension": ".py",
   "mimetype": "text/x-python",
   "name": "python",
   "nbconvert_exporter": "python",
   "pygments_lexer": "ipython3",
   "version": "3.12.3"
  }
 },
 "nbformat": 4,
 "nbformat_minor": 2
}
