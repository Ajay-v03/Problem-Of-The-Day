{
 "cells": [
  {
   "cell_type": "markdown",
   "metadata": {},
   "source": [
    "2976. Minimum Cost to Convert String I"
   ]
  },
  {
   "cell_type": "code",
   "execution_count": null,
   "metadata": {},
   "outputs": [],
   "source": [
    "'''\n",
    "You are given two 0-indexed strings source and target, both of length n and consisting of lowercase English letters. You are also given two 0-indexed character arrays original and changed, and an integer array cost, where cost[i] represents the cost of changing the character original[i] to the character changed[i].\n",
    "\n",
    "You start with the string source. In one operation, you can pick a character x from the string and change it to the character y at a cost of z if there exists any index j such that cost[j] == z, original[j] == x, and changed[j] == y.\n",
    "\n",
    "Return the minimum cost to convert the string source to the string target using any number of operations. If it is impossible to convert source to target, return -1.\n",
    "\n",
    "Note that there may exist indices i, j such that original[j] == original[i] and changed[j] == changed[i].\n",
    "\n",
    " \n",
    "\n",
    "Example 1:\n",
    "\n",
    "Input: source = \"abcd\", target = \"acbe\", original = [\"a\",\"b\",\"c\",\"c\",\"e\",\"d\"], changed = [\"b\",\"c\",\"b\",\"e\",\"b\",\"e\"], cost = [2,5,5,1,2,20]\n",
    "Output: 28\n",
    "Explanation: To convert the string \"abcd\" to string \"acbe\":\n",
    "- Change value at index 1 from 'b' to 'c' at a cost of 5.\n",
    "- Change value at index 2 from 'c' to 'e' at a cost of 1.\n",
    "- Change value at index 2 from 'e' to 'b' at a cost of 2.\n",
    "- Change value at index 3 from 'd' to 'e' at a cost of 20.\n",
    "The total cost incurred is 5 + 1 + 2 + 20 = 28.\n",
    "It can be shown that this is the minimum possible cost.\n",
    "Example 2:\n",
    "\n",
    "Input: source = \"aaaa\", target = \"bbbb\", original = [\"a\",\"c\"], changed = [\"c\",\"b\"], cost = [1,2]\n",
    "Output: 12\n",
    "Explanation: To change the character 'a' to 'b' change the character 'a' to 'c' at a cost of 1, followed by changing the character 'c' to 'b' at a cost of 2, for a total cost of 1 + 2 = 3. To change all occurrences of 'a' to 'b', a total cost of 3 * 4 = 12 is incurred.\n",
    "Example 3:\n",
    "\n",
    "Input: source = \"abcd\", target = \"abce\", original = [\"a\"], changed = [\"e\"], cost = [10000]\n",
    "Output: -1\n",
    "Explanation: It is impossible to convert source to target because the value at index 3 cannot be changed from 'd' to 'e'.\n",
    " \n",
    "\n",
    "Constraints:\n",
    "\n",
    "1 <= source.length == target.length <= 105\n",
    "source, target consist of lowercase English letters.\n",
    "1 <= cost.length == original.length == changed.length <= 2000\n",
    "original[i], changed[i] are lowercase English letters.\n",
    "1 <= cost[i] <= 106\n",
    "original[i] != changed[i]\n",
    "'''"
   ]
  },
  {
   "cell_type": "code",
   "execution_count": 3,
   "metadata": {},
   "outputs": [],
   "source": [
    "from typing import List\n",
    "from os import sys\n",
    "class Solution:\n",
    "    def minimumCost(self, source: str, target: str, original: List[str], changed: List[str], cost: List[int]) -> int:\n",
    "        \n",
    "\n",
    "        adj_mat = [[sys.maxsize]*26 for i in range(26)]\n",
    "\n",
    "        for i in range(26):\n",
    "            adj_mat[i][i] = 0\n",
    "\n",
    "  \n",
    "        for i in range(len(original)):\n",
    "            u = original[i]\n",
    "            v =  changed[i]\n",
    "            wt = cost[i]\n",
    "\n",
    "            adj_mat[ord(u)-ord('a')][ord(v)-ord('a')] = min(wt , adj_mat[ord(u)-ord('a')][ord(v)-ord('a')])\n",
    "\n",
    "    \n",
    "        # apply floyd warshal algo\n",
    "\n",
    "        for via in range(26):\n",
    "            for i in range(26):\n",
    "                for j in range(26):\n",
    "\n",
    "                    adj_mat[i][j] = min(adj_mat[i][j] , adj_mat[i][via]+adj_mat[via][j])\n",
    "        \n",
    "        ans = 0\n",
    "   \n",
    "        for i in range(len(source)):\n",
    "\n",
    "            if  source[i]==target[i]:\n",
    "                continue;\n",
    "\n",
    "            else:\n",
    "                index = ord(source[i])-ord('a')\n",
    "                tobe = ord(target[i])-ord('a')\n",
    "\n",
    "                if adj_mat[index][tobe]==sys.maxsize:\n",
    "                    return -1\n",
    "             \n",
    "                else:\n",
    "          \n",
    "                    ans+=adj_mat[index][tobe]\n",
    "\n",
    "        return ans"
   ]
  },
  {
   "cell_type": "code",
   "execution_count": 4,
   "metadata": {},
   "outputs": [
    {
     "name": "stdout",
     "output_type": "stream",
     "text": [
      "28\n"
     ]
    }
   ],
   "source": [
    "# Create an instance of the Solution class\n",
    "solution = Solution()\n",
    "\n",
    "# Call the method on the instance\n",
    "result = solution.minimumCost(source = \"abcd\", target = \"acbe\", original = [\"a\",\"b\",\"c\",\"c\",\"e\",\"d\"], changed = [\"b\",\"c\",\"b\",\"e\",\"b\",\"e\"], cost = [2,5,5,1,2,20])\n",
    "print(result)"
   ]
  }
 ],
 "metadata": {
  "kernelspec": {
   "display_name": "Python 3",
   "language": "python",
   "name": "python3"
  },
  "language_info": {
   "codemirror_mode": {
    "name": "ipython",
    "version": 3
   },
   "file_extension": ".py",
   "mimetype": "text/x-python",
   "name": "python",
   "nbconvert_exporter": "python",
   "pygments_lexer": "ipython3",
   "version": "3.12.3"
  }
 },
 "nbformat": 4,
 "nbformat_minor": 2
}
